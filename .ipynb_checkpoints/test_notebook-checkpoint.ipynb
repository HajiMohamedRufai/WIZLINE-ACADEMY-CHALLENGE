{
 "cells": [
  {
   "cell_type": "code",
   "execution_count": null,
   "id": "9a5af0f8",
   "metadata": {},
   "outputs": [],
   "source": [
    "# dictionary to list"
   ]
  },
  {
   "cell_type": "code",
   "execution_count": null,
   "id": "b3fc9245",
   "metadata": {},
   "outputs": [],
   "source": []
  },
  {
   "cell_type": "code",
   "execution_count": null,
   "id": "d1e33b28",
   "metadata": {},
   "outputs": [],
   "source": []
  },
  {
   "cell_type": "code",
   "execution_count": 3,
   "id": "fcf24e41",
   "metadata": {},
   "outputs": [
    {
     "data": {
      "text/plain": [
       "[('a', 1), ('b', 2), ('c', 3)]"
      ]
     },
     "execution_count": 3,
     "metadata": {},
     "output_type": "execute_result"
    }
   ],
   "source": [
    "dicct = {\n",
    "    'a': 1,\n",
    "    'b': 2,\n",
    "    \"c\": 3\n",
    "}\n",
    "\n",
    "list(list(dicct.items()))\n"
   ]
  },
  {
   "cell_type": "code",
   "execution_count": 4,
   "id": "7d88c21a",
   "metadata": {},
   "outputs": [],
   "source": [
    "# creata a dataframe and test for uniquenes"
   ]
  },
  {
   "cell_type": "code",
   "execution_count": 48,
   "id": "d9266226",
   "metadata": {},
   "outputs": [],
   "source": [
    "import numpy as np\n",
    "import pandas as pd\n",
    "data = {'Make':[\"Volkswagen\", \"Volkswagen\", 'Volkswagen', \"Mercedez\", \"Toyota\", \"Toyota\", \"Toyota\", \"Toyota\"],\\\n",
    "        'Model':['V1', 'V1', 'V1', 'M2', 'T3', 'T3', 'T4', 'T4'],\\\n",
    "        'Year':['1999', '2000', '2001', '2002', '2003', '2004', '2005', '2006']}"
   ]
  },
  {
   "cell_type": "code",
   "execution_count": 49,
   "id": "67767f48",
   "metadata": {},
   "outputs": [
    {
     "data": {
      "text/html": [
       "<div>\n",
       "<style scoped>\n",
       "    .dataframe tbody tr th:only-of-type {\n",
       "        vertical-align: middle;\n",
       "    }\n",
       "\n",
       "    .dataframe tbody tr th {\n",
       "        vertical-align: top;\n",
       "    }\n",
       "\n",
       "    .dataframe thead th {\n",
       "        text-align: right;\n",
       "    }\n",
       "</style>\n",
       "<table border=\"1\" class=\"dataframe\">\n",
       "  <thead>\n",
       "    <tr style=\"text-align: right;\">\n",
       "      <th></th>\n",
       "      <th>Make</th>\n",
       "      <th>Model</th>\n",
       "      <th>Year</th>\n",
       "    </tr>\n",
       "  </thead>\n",
       "  <tbody>\n",
       "    <tr>\n",
       "      <th>0</th>\n",
       "      <td>Volkswagen</td>\n",
       "      <td>V1</td>\n",
       "      <td>1999</td>\n",
       "    </tr>\n",
       "    <tr>\n",
       "      <th>1</th>\n",
       "      <td>Volkswagen</td>\n",
       "      <td>V1</td>\n",
       "      <td>2000</td>\n",
       "    </tr>\n",
       "    <tr>\n",
       "      <th>2</th>\n",
       "      <td>Volkswagen</td>\n",
       "      <td>V1</td>\n",
       "      <td>2001</td>\n",
       "    </tr>\n",
       "    <tr>\n",
       "      <th>3</th>\n",
       "      <td>Mercedez</td>\n",
       "      <td>M2</td>\n",
       "      <td>2002</td>\n",
       "    </tr>\n",
       "    <tr>\n",
       "      <th>4</th>\n",
       "      <td>Toyota</td>\n",
       "      <td>T3</td>\n",
       "      <td>2003</td>\n",
       "    </tr>\n",
       "    <tr>\n",
       "      <th>5</th>\n",
       "      <td>Toyota</td>\n",
       "      <td>T3</td>\n",
       "      <td>2004</td>\n",
       "    </tr>\n",
       "    <tr>\n",
       "      <th>6</th>\n",
       "      <td>Toyota</td>\n",
       "      <td>T4</td>\n",
       "      <td>2005</td>\n",
       "    </tr>\n",
       "    <tr>\n",
       "      <th>7</th>\n",
       "      <td>Toyota</td>\n",
       "      <td>T4</td>\n",
       "      <td>2006</td>\n",
       "    </tr>\n",
       "  </tbody>\n",
       "</table>\n",
       "</div>"
      ],
      "text/plain": [
       "         Make Model  Year\n",
       "0  Volkswagen    V1  1999\n",
       "1  Volkswagen    V1  2000\n",
       "2  Volkswagen    V1  2001\n",
       "3    Mercedez    M2  2002\n",
       "4      Toyota    T3  2003\n",
       "5      Toyota    T3  2004\n",
       "6      Toyota    T4  2005\n",
       "7      Toyota    T4  2006"
      ]
     },
     "execution_count": 49,
     "metadata": {},
     "output_type": "execute_result"
    }
   ],
   "source": [
    "df = pd.DataFrame(data)\n",
    "df"
   ]
  },
  {
   "cell_type": "code",
   "execution_count": 50,
   "id": "cfd81bb1",
   "metadata": {},
   "outputs": [
    {
     "ename": "AttributeError",
     "evalue": "'DataFrame' object has no attribute 'tolist'",
     "output_type": "error",
     "traceback": [
      "\u001b[0;31m---------------------------------------------------------------------------\u001b[0m",
      "\u001b[0;31mAttributeError\u001b[0m                            Traceback (most recent call last)",
      "Cell \u001b[0;32mIn[50], line 1\u001b[0m\n\u001b[0;32m----> 1\u001b[0m \u001b[43mdf\u001b[49m\u001b[38;5;241;43m.\u001b[39;49m\u001b[43mtolist\u001b[49m()\n",
      "File \u001b[0;32m~/anaconda3/lib/python3.10/site-packages/pandas/core/generic.py:5989\u001b[0m, in \u001b[0;36mNDFrame.__getattr__\u001b[0;34m(self, name)\u001b[0m\n\u001b[1;32m   5982\u001b[0m \u001b[38;5;28;01mif\u001b[39;00m (\n\u001b[1;32m   5983\u001b[0m     name \u001b[38;5;129;01mnot\u001b[39;00m \u001b[38;5;129;01min\u001b[39;00m \u001b[38;5;28mself\u001b[39m\u001b[38;5;241m.\u001b[39m_internal_names_set\n\u001b[1;32m   5984\u001b[0m     \u001b[38;5;129;01mand\u001b[39;00m name \u001b[38;5;129;01mnot\u001b[39;00m \u001b[38;5;129;01min\u001b[39;00m \u001b[38;5;28mself\u001b[39m\u001b[38;5;241m.\u001b[39m_metadata\n\u001b[1;32m   5985\u001b[0m     \u001b[38;5;129;01mand\u001b[39;00m name \u001b[38;5;129;01mnot\u001b[39;00m \u001b[38;5;129;01min\u001b[39;00m \u001b[38;5;28mself\u001b[39m\u001b[38;5;241m.\u001b[39m_accessors\n\u001b[1;32m   5986\u001b[0m     \u001b[38;5;129;01mand\u001b[39;00m \u001b[38;5;28mself\u001b[39m\u001b[38;5;241m.\u001b[39m_info_axis\u001b[38;5;241m.\u001b[39m_can_hold_identifiers_and_holds_name(name)\n\u001b[1;32m   5987\u001b[0m ):\n\u001b[1;32m   5988\u001b[0m     \u001b[38;5;28;01mreturn\u001b[39;00m \u001b[38;5;28mself\u001b[39m[name]\n\u001b[0;32m-> 5989\u001b[0m \u001b[38;5;28;01mreturn\u001b[39;00m \u001b[38;5;28;43mobject\u001b[39;49m\u001b[38;5;241;43m.\u001b[39;49m\u001b[38;5;21;43m__getattribute__\u001b[39;49m\u001b[43m(\u001b[49m\u001b[38;5;28;43mself\u001b[39;49m\u001b[43m,\u001b[49m\u001b[43m \u001b[49m\u001b[43mname\u001b[49m\u001b[43m)\u001b[49m\n",
      "\u001b[0;31mAttributeError\u001b[0m: 'DataFrame' object has no attribute 'tolist'"
     ]
    }
   ],
   "source": [
    "df.tolist()"
   ]
  },
  {
   "cell_type": "code",
   "execution_count": 44,
   "id": "ed9626c5",
   "metadata": {},
   "outputs": [
    {
     "data": {
      "text/plain": [
       "Make\n",
       "Mercedez      1\n",
       "Toyota        2\n",
       "Volkswagen    1\n",
       "Name: Model, dtype: int64"
      ]
     },
     "execution_count": 44,
     "metadata": {},
     "output_type": "execute_result"
    }
   ],
   "source": [
    "df.groupby('Make')['Model'].nunique()"
   ]
  },
  {
   "cell_type": "code",
   "execution_count": 29,
   "id": "9230ff8c",
   "metadata": {},
   "outputs": [
    {
     "data": {
      "text/plain": [
       "Make        Model\n",
       "Volkswagen  V1       3\n",
       "Toyota      T3       2\n",
       "            T4       2\n",
       "Mercedez    M2       1\n",
       "dtype: int64"
      ]
     },
     "execution_count": 29,
     "metadata": {},
     "output_type": "execute_result"
    }
   ],
   "source": [
    "df.groupby(['Make', \"Model\"]).size().sort_values(ascending=False)"
   ]
  },
  {
   "cell_type": "code",
   "execution_count": 47,
   "id": "9005e20a",
   "metadata": {},
   "outputs": [],
   "source": [
    "a = df.groupby(['Make', \"Model\"]).size().sort_values(ascending=False).head(3)"
   ]
  },
  {
   "cell_type": "code",
   "execution_count": 26,
   "id": "6e0fc6a7",
   "metadata": {},
   "outputs": [
    {
     "data": {
      "text/plain": [
       "pandas.core.series.Series"
      ]
     },
     "execution_count": 26,
     "metadata": {},
     "output_type": "execute_result"
    }
   ],
   "source": [
    "type(a)"
   ]
  },
  {
   "cell_type": "code",
   "execution_count": 27,
   "id": "146d049f",
   "metadata": {},
   "outputs": [
    {
     "data": {
      "text/plain": [
       "Make        Model\n",
       "Volkswagen  V1       3\n",
       "Toyota      T3       2\n",
       "            T4       2\n",
       "dtype: int64"
      ]
     },
     "execution_count": 27,
     "metadata": {},
     "output_type": "execute_result"
    }
   ],
   "source": [
    "a"
   ]
  },
  {
   "cell_type": "code",
   "execution_count": 30,
   "id": "d9cadf80",
   "metadata": {},
   "outputs": [
    {
     "data": {
      "text/html": [
       "<div>\n",
       "<style scoped>\n",
       "    .dataframe tbody tr th:only-of-type {\n",
       "        vertical-align: middle;\n",
       "    }\n",
       "\n",
       "    .dataframe tbody tr th {\n",
       "        vertical-align: top;\n",
       "    }\n",
       "\n",
       "    .dataframe thead th {\n",
       "        text-align: right;\n",
       "    }\n",
       "</style>\n",
       "<table border=\"1\" class=\"dataframe\">\n",
       "  <thead>\n",
       "    <tr style=\"text-align: right;\">\n",
       "      <th></th>\n",
       "      <th>Make</th>\n",
       "      <th>Model</th>\n",
       "      <th>Year</th>\n",
       "    </tr>\n",
       "  </thead>\n",
       "  <tbody>\n",
       "    <tr>\n",
       "      <th>0</th>\n",
       "      <td>Volkswagen</td>\n",
       "      <td>V1</td>\n",
       "      <td>1999</td>\n",
       "    </tr>\n",
       "    <tr>\n",
       "      <th>1</th>\n",
       "      <td>Volkswagen</td>\n",
       "      <td>V1</td>\n",
       "      <td>2000</td>\n",
       "    </tr>\n",
       "    <tr>\n",
       "      <th>2</th>\n",
       "      <td>Volkswagen</td>\n",
       "      <td>V1</td>\n",
       "      <td>2001</td>\n",
       "    </tr>\n",
       "    <tr>\n",
       "      <th>3</th>\n",
       "      <td>Mercedez</td>\n",
       "      <td>M2</td>\n",
       "      <td>2002</td>\n",
       "    </tr>\n",
       "    <tr>\n",
       "      <th>4</th>\n",
       "      <td>Toyota</td>\n",
       "      <td>T3</td>\n",
       "      <td>2003</td>\n",
       "    </tr>\n",
       "    <tr>\n",
       "      <th>5</th>\n",
       "      <td>Toyota</td>\n",
       "      <td>T3</td>\n",
       "      <td>2004</td>\n",
       "    </tr>\n",
       "    <tr>\n",
       "      <th>6</th>\n",
       "      <td>Toyota</td>\n",
       "      <td>T4</td>\n",
       "      <td>2005</td>\n",
       "    </tr>\n",
       "    <tr>\n",
       "      <th>7</th>\n",
       "      <td>Toyota</td>\n",
       "      <td>T4</td>\n",
       "      <td>2006</td>\n",
       "    </tr>\n",
       "  </tbody>\n",
       "</table>\n",
       "</div>"
      ],
      "text/plain": [
       "         Make Model  Year\n",
       "0  Volkswagen    V1  1999\n",
       "1  Volkswagen    V1  2000\n",
       "2  Volkswagen    V1  2001\n",
       "3    Mercedez    M2  2002\n",
       "4      Toyota    T3  2003\n",
       "5      Toyota    T3  2004\n",
       "6      Toyota    T4  2005\n",
       "7      Toyota    T4  2006"
      ]
     },
     "execution_count": 30,
     "metadata": {},
     "output_type": "execute_result"
    }
   ],
   "source": [
    "df"
   ]
  },
  {
   "cell_type": "code",
   "execution_count": 35,
   "id": "d9a199e3",
   "metadata": {},
   "outputs": [
    {
     "data": {
      "text/html": [
       "<div>\n",
       "<style scoped>\n",
       "    .dataframe tbody tr th:only-of-type {\n",
       "        vertical-align: middle;\n",
       "    }\n",
       "\n",
       "    .dataframe tbody tr th {\n",
       "        vertical-align: top;\n",
       "    }\n",
       "\n",
       "    .dataframe thead th {\n",
       "        text-align: right;\n",
       "    }\n",
       "</style>\n",
       "<table border=\"1\" class=\"dataframe\">\n",
       "  <thead>\n",
       "    <tr style=\"text-align: right;\">\n",
       "      <th></th>\n",
       "      <th>Model</th>\n",
       "    </tr>\n",
       "    <tr>\n",
       "      <th>Make</th>\n",
       "      <th></th>\n",
       "    </tr>\n",
       "  </thead>\n",
       "  <tbody>\n",
       "    <tr>\n",
       "      <th>Mercedez</th>\n",
       "      <td>1</td>\n",
       "    </tr>\n",
       "    <tr>\n",
       "      <th>Toyota</th>\n",
       "      <td>2</td>\n",
       "    </tr>\n",
       "    <tr>\n",
       "      <th>Volkswagen</th>\n",
       "      <td>1</td>\n",
       "    </tr>\n",
       "  </tbody>\n",
       "</table>\n",
       "</div>"
      ],
      "text/plain": [
       "            Model\n",
       "Make             \n",
       "Mercedez        1\n",
       "Toyota          2\n",
       "Volkswagen      1"
      ]
     },
     "execution_count": 35,
     "metadata": {},
     "output_type": "execute_result"
    }
   ],
   "source": [
    "df.groupby('Make')[['Model']].nunique()"
   ]
  },
  {
   "cell_type": "code",
   "execution_count": 36,
   "id": "002cac18",
   "metadata": {},
   "outputs": [],
   "source": [
    "# test "
   ]
  },
  {
   "cell_type": "code",
   "execution_count": 37,
   "id": "c50ceb1e",
   "metadata": {},
   "outputs": [],
   "source": [
    "import pandas as pd\n",
    "df = pd.read_csv('./data/vehicles.csv')"
   ]
  },
  {
   "cell_type": "code",
   "execution_count": 45,
   "id": "7006e557",
   "metadata": {},
   "outputs": [
    {
     "data": {
      "text/html": [
       "<div>\n",
       "<style scoped>\n",
       "    .dataframe tbody tr th:only-of-type {\n",
       "        vertical-align: middle;\n",
       "    }\n",
       "\n",
       "    .dataframe tbody tr th {\n",
       "        vertical-align: top;\n",
       "    }\n",
       "\n",
       "    .dataframe thead th {\n",
       "        text-align: right;\n",
       "    }\n",
       "</style>\n",
       "<table border=\"1\" class=\"dataframe\">\n",
       "  <thead>\n",
       "    <tr style=\"text-align: right;\">\n",
       "      <th></th>\n",
       "      <th>Make</th>\n",
       "      <th>Model</th>\n",
       "    </tr>\n",
       "  </thead>\n",
       "  <tbody>\n",
       "    <tr>\n",
       "      <th>0</th>\n",
       "      <td>Mercedez</td>\n",
       "      <td>1</td>\n",
       "    </tr>\n",
       "    <tr>\n",
       "      <th>1</th>\n",
       "      <td>Toyota</td>\n",
       "      <td>2</td>\n",
       "    </tr>\n",
       "    <tr>\n",
       "      <th>2</th>\n",
       "      <td>Volkswagen</td>\n",
       "      <td>1</td>\n",
       "    </tr>\n",
       "  </tbody>\n",
       "</table>\n",
       "</div>"
      ],
      "text/plain": [
       "         Make  Model\n",
       "0    Mercedez      1\n",
       "1      Toyota      2\n",
       "2  Volkswagen      1"
      ]
     },
     "execution_count": 45,
     "metadata": {},
     "output_type": "execute_result"
    }
   ],
   "source": [
    "# Assuming your DataFrame is named 'df'\n",
    "top_brands = df.groupby('Make')['Model'].nunique().reset_index()\n",
    "top_brands"
   ]
  },
  {
   "cell_type": "code",
   "execution_count": 46,
   "id": "cb333148",
   "metadata": {},
   "outputs": [
    {
     "name": "stdout",
     "output_type": "stream",
     "text": [
      "<class 'pandas.core.frame.DataFrame'>\n"
     ]
    },
    {
     "data": {
      "text/html": [
       "<div>\n",
       "<style scoped>\n",
       "    .dataframe tbody tr th:only-of-type {\n",
       "        vertical-align: middle;\n",
       "    }\n",
       "\n",
       "    .dataframe tbody tr th {\n",
       "        vertical-align: top;\n",
       "    }\n",
       "\n",
       "    .dataframe thead th {\n",
       "        text-align: right;\n",
       "    }\n",
       "</style>\n",
       "<table border=\"1\" class=\"dataframe\">\n",
       "  <thead>\n",
       "    <tr style=\"text-align: right;\">\n",
       "      <th></th>\n",
       "      <th>Make</th>\n",
       "      <th>Model</th>\n",
       "    </tr>\n",
       "  </thead>\n",
       "  <tbody>\n",
       "    <tr>\n",
       "      <th>1</th>\n",
       "      <td>Toyota</td>\n",
       "      <td>2</td>\n",
       "    </tr>\n",
       "    <tr>\n",
       "      <th>0</th>\n",
       "      <td>Mercedez</td>\n",
       "      <td>1</td>\n",
       "    </tr>\n",
       "    <tr>\n",
       "      <th>2</th>\n",
       "      <td>Volkswagen</td>\n",
       "      <td>1</td>\n",
       "    </tr>\n",
       "  </tbody>\n",
       "</table>\n",
       "</div>"
      ],
      "text/plain": [
       "         Make  Model\n",
       "1      Toyota      2\n",
       "0    Mercedez      1\n",
       "2  Volkswagen      1"
      ]
     },
     "execution_count": 46,
     "metadata": {},
     "output_type": "execute_result"
    }
   ],
   "source": [
    "top_brands = top_brands.sort_values(by='Model', ascending=False).head(5)\n",
    "print(type(top_brands))\n",
    "top_brands"
   ]
  },
  {
   "cell_type": "code",
   "execution_count": 38,
   "id": "bdaf910d",
   "metadata": {},
   "outputs": [
    {
     "name": "stdout",
     "output_type": "stream",
     "text": [
      "[['Mercedes-Benz', 333], ['BMW', 284], ['Chevrolet', 253], ['Ford', 185], ['GMC', 163]]\n"
     ]
    }
   ],
   "source": [
    "top_brands_list = top_brands.values.tolist()\n",
    "\n",
    "print(top_brands_list)"
   ]
  },
  {
   "cell_type": "code",
   "execution_count": 51,
   "id": "3dd2d9ac",
   "metadata": {},
   "outputs": [
    {
     "data": {
      "text/plain": [
       "array([['Toyota', 2],\n",
       "       ['Mercedez', 1],\n",
       "       ['Volkswagen', 1]], dtype=object)"
      ]
     },
     "execution_count": 51,
     "metadata": {},
     "output_type": "execute_result"
    }
   ],
   "source": [
    "top_brands.values"
   ]
  },
  {
   "cell_type": "code",
   "execution_count": 54,
   "id": "b7074603",
   "metadata": {},
   "outputs": [
    {
     "data": {
      "text/html": [
       "<div>\n",
       "<style scoped>\n",
       "    .dataframe tbody tr th:only-of-type {\n",
       "        vertical-align: middle;\n",
       "    }\n",
       "\n",
       "    .dataframe tbody tr th {\n",
       "        vertical-align: top;\n",
       "    }\n",
       "\n",
       "    .dataframe thead th {\n",
       "        text-align: right;\n",
       "    }\n",
       "</style>\n",
       "<table border=\"1\" class=\"dataframe\">\n",
       "  <thead>\n",
       "    <tr style=\"text-align: right;\">\n",
       "      <th></th>\n",
       "      <th>Make</th>\n",
       "      <th>Model</th>\n",
       "      <th>Year</th>\n",
       "      <th>Engine Displacement</th>\n",
       "      <th>Cylinders</th>\n",
       "      <th>Transmission</th>\n",
       "      <th>Drivetrain</th>\n",
       "      <th>Vehicle Class</th>\n",
       "      <th>Fuel Type</th>\n",
       "      <th>Fuel Barrels/Year</th>\n",
       "      <th>City MPG</th>\n",
       "      <th>Highway MPG</th>\n",
       "      <th>Combined MPG</th>\n",
       "      <th>CO2 Emission Grams/Mile</th>\n",
       "      <th>Fuel Cost/Year</th>\n",
       "    </tr>\n",
       "  </thead>\n",
       "  <tbody>\n",
       "    <tr>\n",
       "      <th>0</th>\n",
       "      <td>AM General</td>\n",
       "      <td>DJ Po Vehicle 2WD</td>\n",
       "      <td>1984</td>\n",
       "      <td>2.5</td>\n",
       "      <td>4.0</td>\n",
       "      <td>Automatic 3-spd</td>\n",
       "      <td>2-Wheel Drive</td>\n",
       "      <td>Special Purpose Vehicle 2WD</td>\n",
       "      <td>Regular</td>\n",
       "      <td>19.388824</td>\n",
       "      <td>18</td>\n",
       "      <td>17</td>\n",
       "      <td>17</td>\n",
       "      <td>522.764706</td>\n",
       "      <td>1950</td>\n",
       "    </tr>\n",
       "    <tr>\n",
       "      <th>1</th>\n",
       "      <td>AM General</td>\n",
       "      <td>FJ8c Post Office</td>\n",
       "      <td>1984</td>\n",
       "      <td>4.2</td>\n",
       "      <td>6.0</td>\n",
       "      <td>Automatic 3-spd</td>\n",
       "      <td>2-Wheel Drive</td>\n",
       "      <td>Special Purpose Vehicle 2WD</td>\n",
       "      <td>Regular</td>\n",
       "      <td>25.354615</td>\n",
       "      <td>13</td>\n",
       "      <td>13</td>\n",
       "      <td>13</td>\n",
       "      <td>683.615385</td>\n",
       "      <td>2550</td>\n",
       "    </tr>\n",
       "  </tbody>\n",
       "</table>\n",
       "</div>"
      ],
      "text/plain": [
       "         Make              Model  Year  Engine Displacement  Cylinders  \\\n",
       "0  AM General  DJ Po Vehicle 2WD  1984                  2.5        4.0   \n",
       "1  AM General   FJ8c Post Office  1984                  4.2        6.0   \n",
       "\n",
       "      Transmission     Drivetrain                Vehicle Class Fuel Type  \\\n",
       "0  Automatic 3-spd  2-Wheel Drive  Special Purpose Vehicle 2WD   Regular   \n",
       "1  Automatic 3-spd  2-Wheel Drive  Special Purpose Vehicle 2WD   Regular   \n",
       "\n",
       "   Fuel Barrels/Year  City MPG  Highway MPG  Combined MPG  \\\n",
       "0          19.388824        18           17            17   \n",
       "1          25.354615        13           13            13   \n",
       "\n",
       "   CO2 Emission Grams/Mile  Fuel Cost/Year  \n",
       "0               522.764706            1950  \n",
       "1               683.615385            2550  "
      ]
     },
     "execution_count": 54,
     "metadata": {},
     "output_type": "execute_result"
    }
   ],
   "source": [
    "# test2\n",
    "df = pd.read_csv('./data/vehicles.csv')\n",
    "df.head(2)"
   ]
  },
  {
   "cell_type": "code",
   "execution_count": 55,
   "id": "956ee649",
   "metadata": {},
   "outputs": [
    {
     "data": {
      "text/html": [
       "<div>\n",
       "<style scoped>\n",
       "    .dataframe tbody tr th:only-of-type {\n",
       "        vertical-align: middle;\n",
       "    }\n",
       "\n",
       "    .dataframe tbody tr th {\n",
       "        vertical-align: top;\n",
       "    }\n",
       "\n",
       "    .dataframe thead th {\n",
       "        text-align: right;\n",
       "    }\n",
       "</style>\n",
       "<table border=\"1\" class=\"dataframe\">\n",
       "  <thead>\n",
       "    <tr style=\"text-align: right;\">\n",
       "      <th></th>\n",
       "      <th>Make</th>\n",
       "      <th>Model</th>\n",
       "      <th>Year</th>\n",
       "      <th>Engine Displacement</th>\n",
       "      <th>Cylinders</th>\n",
       "      <th>Transmission</th>\n",
       "      <th>Drivetrain</th>\n",
       "      <th>Vehicle Class</th>\n",
       "      <th>Fuel Type</th>\n",
       "      <th>Fuel Barrels/Year</th>\n",
       "      <th>City MPG</th>\n",
       "      <th>Highway MPG</th>\n",
       "      <th>Combined MPG</th>\n",
       "      <th>CO2 Emission Grams/Mile</th>\n",
       "      <th>Fuel Cost/Year</th>\n",
       "    </tr>\n",
       "  </thead>\n",
       "  <tbody>\n",
       "    <tr>\n",
       "      <th>34369</th>\n",
       "      <td>Volkswagen</td>\n",
       "      <td>Golf</td>\n",
       "      <td>1986</td>\n",
       "      <td>1.8</td>\n",
       "      <td>4.0</td>\n",
       "      <td>Manual 5-spd</td>\n",
       "      <td>Front-Wheel Drive</td>\n",
       "      <td>Compact Cars</td>\n",
       "      <td>Regular</td>\n",
       "      <td>12.677308</td>\n",
       "      <td>23</td>\n",
       "      <td>31</td>\n",
       "      <td>26</td>\n",
       "      <td>341.807692</td>\n",
       "      <td>1300</td>\n",
       "    </tr>\n",
       "    <tr>\n",
       "      <th>34372</th>\n",
       "      <td>Volkswagen</td>\n",
       "      <td>Golf</td>\n",
       "      <td>1987</td>\n",
       "      <td>1.8</td>\n",
       "      <td>4.0</td>\n",
       "      <td>Manual 5-spd</td>\n",
       "      <td>Front-Wheel Drive</td>\n",
       "      <td>Compact Cars</td>\n",
       "      <td>Regular</td>\n",
       "      <td>12.677308</td>\n",
       "      <td>23</td>\n",
       "      <td>31</td>\n",
       "      <td>26</td>\n",
       "      <td>341.807692</td>\n",
       "      <td>1300</td>\n",
       "    </tr>\n",
       "    <tr>\n",
       "      <th>34374</th>\n",
       "      <td>Volkswagen</td>\n",
       "      <td>Golf</td>\n",
       "      <td>1988</td>\n",
       "      <td>1.8</td>\n",
       "      <td>4.0</td>\n",
       "      <td>Manual 5-spd</td>\n",
       "      <td>Front-Wheel Drive</td>\n",
       "      <td>Compact Cars</td>\n",
       "      <td>Regular</td>\n",
       "      <td>13.184400</td>\n",
       "      <td>22</td>\n",
       "      <td>30</td>\n",
       "      <td>25</td>\n",
       "      <td>355.480000</td>\n",
       "      <td>1350</td>\n",
       "    </tr>\n",
       "    <tr>\n",
       "      <th>34377</th>\n",
       "      <td>Volkswagen</td>\n",
       "      <td>Golf</td>\n",
       "      <td>1989</td>\n",
       "      <td>1.8</td>\n",
       "      <td>4.0</td>\n",
       "      <td>Manual 5-spd</td>\n",
       "      <td>Front-Wheel Drive</td>\n",
       "      <td>Compact Cars</td>\n",
       "      <td>Regular</td>\n",
       "      <td>13.184400</td>\n",
       "      <td>22</td>\n",
       "      <td>31</td>\n",
       "      <td>25</td>\n",
       "      <td>355.480000</td>\n",
       "      <td>1350</td>\n",
       "    </tr>\n",
       "    <tr>\n",
       "      <th>34379</th>\n",
       "      <td>Volkswagen</td>\n",
       "      <td>Golf</td>\n",
       "      <td>1999</td>\n",
       "      <td>2.0</td>\n",
       "      <td>4.0</td>\n",
       "      <td>Manual 5-spd</td>\n",
       "      <td>Front-Wheel Drive</td>\n",
       "      <td>Compact Cars</td>\n",
       "      <td>Regular</td>\n",
       "      <td>13.733750</td>\n",
       "      <td>21</td>\n",
       "      <td>28</td>\n",
       "      <td>24</td>\n",
       "      <td>370.291667</td>\n",
       "      <td>1400</td>\n",
       "    </tr>\n",
       "    <tr>\n",
       "      <th>34385</th>\n",
       "      <td>Volkswagen</td>\n",
       "      <td>Golf</td>\n",
       "      <td>2000</td>\n",
       "      <td>2.0</td>\n",
       "      <td>4.0</td>\n",
       "      <td>Manual 5-spd</td>\n",
       "      <td>Front-Wheel Drive</td>\n",
       "      <td>Compact Cars</td>\n",
       "      <td>Regular</td>\n",
       "      <td>13.733750</td>\n",
       "      <td>21</td>\n",
       "      <td>28</td>\n",
       "      <td>24</td>\n",
       "      <td>370.291667</td>\n",
       "      <td>1400</td>\n",
       "    </tr>\n",
       "    <tr>\n",
       "      <th>34391</th>\n",
       "      <td>Volkswagen</td>\n",
       "      <td>Golf</td>\n",
       "      <td>2001</td>\n",
       "      <td>2.0</td>\n",
       "      <td>4.0</td>\n",
       "      <td>Manual 5-spd</td>\n",
       "      <td>Front-Wheel Drive</td>\n",
       "      <td>Compact Cars</td>\n",
       "      <td>Regular</td>\n",
       "      <td>13.733750</td>\n",
       "      <td>21</td>\n",
       "      <td>28</td>\n",
       "      <td>24</td>\n",
       "      <td>370.291667</td>\n",
       "      <td>1400</td>\n",
       "    </tr>\n",
       "    <tr>\n",
       "      <th>34395</th>\n",
       "      <td>Volkswagen</td>\n",
       "      <td>Golf</td>\n",
       "      <td>2002</td>\n",
       "      <td>2.0</td>\n",
       "      <td>4.0</td>\n",
       "      <td>Manual 5-spd</td>\n",
       "      <td>Front-Wheel Drive</td>\n",
       "      <td>Compact Cars</td>\n",
       "      <td>Regular</td>\n",
       "      <td>13.733750</td>\n",
       "      <td>21</td>\n",
       "      <td>28</td>\n",
       "      <td>24</td>\n",
       "      <td>370.291667</td>\n",
       "      <td>1400</td>\n",
       "    </tr>\n",
       "    <tr>\n",
       "      <th>34399</th>\n",
       "      <td>Volkswagen</td>\n",
       "      <td>Golf</td>\n",
       "      <td>2003</td>\n",
       "      <td>2.0</td>\n",
       "      <td>4.0</td>\n",
       "      <td>Manual 5-spd</td>\n",
       "      <td>Front-Wheel Drive</td>\n",
       "      <td>Compact Cars</td>\n",
       "      <td>Regular</td>\n",
       "      <td>13.733750</td>\n",
       "      <td>21</td>\n",
       "      <td>29</td>\n",
       "      <td>24</td>\n",
       "      <td>370.291667</td>\n",
       "      <td>1400</td>\n",
       "    </tr>\n",
       "    <tr>\n",
       "      <th>34403</th>\n",
       "      <td>Volkswagen</td>\n",
       "      <td>Golf</td>\n",
       "      <td>2004</td>\n",
       "      <td>2.0</td>\n",
       "      <td>4.0</td>\n",
       "      <td>Manual 5-spd</td>\n",
       "      <td>Front-Wheel Drive</td>\n",
       "      <td>Compact Cars</td>\n",
       "      <td>Regular</td>\n",
       "      <td>13.733750</td>\n",
       "      <td>21</td>\n",
       "      <td>28</td>\n",
       "      <td>24</td>\n",
       "      <td>370.291667</td>\n",
       "      <td>1400</td>\n",
       "    </tr>\n",
       "    <tr>\n",
       "      <th>34407</th>\n",
       "      <td>Volkswagen</td>\n",
       "      <td>Golf</td>\n",
       "      <td>2005</td>\n",
       "      <td>2.0</td>\n",
       "      <td>4.0</td>\n",
       "      <td>Manual 5-spd</td>\n",
       "      <td>Front-Wheel Drive</td>\n",
       "      <td>Compact Cars</td>\n",
       "      <td>Regular</td>\n",
       "      <td>13.733750</td>\n",
       "      <td>21</td>\n",
       "      <td>28</td>\n",
       "      <td>24</td>\n",
       "      <td>370.291667</td>\n",
       "      <td>1400</td>\n",
       "    </tr>\n",
       "    <tr>\n",
       "      <th>34411</th>\n",
       "      <td>Volkswagen</td>\n",
       "      <td>Golf</td>\n",
       "      <td>2006</td>\n",
       "      <td>2.0</td>\n",
       "      <td>4.0</td>\n",
       "      <td>Manual 5-spd</td>\n",
       "      <td>Front-Wheel Drive</td>\n",
       "      <td>Compact Cars</td>\n",
       "      <td>Regular</td>\n",
       "      <td>13.733750</td>\n",
       "      <td>21</td>\n",
       "      <td>29</td>\n",
       "      <td>24</td>\n",
       "      <td>370.291667</td>\n",
       "      <td>1400</td>\n",
       "    </tr>\n",
       "    <tr>\n",
       "      <th>34412</th>\n",
       "      <td>Volkswagen</td>\n",
       "      <td>Golf</td>\n",
       "      <td>2010</td>\n",
       "      <td>2.5</td>\n",
       "      <td>5.0</td>\n",
       "      <td>Manual 5-spd</td>\n",
       "      <td>Front-Wheel Drive</td>\n",
       "      <td>Compact Cars</td>\n",
       "      <td>Regular</td>\n",
       "      <td>13.184400</td>\n",
       "      <td>22</td>\n",
       "      <td>30</td>\n",
       "      <td>25</td>\n",
       "      <td>355.480000</td>\n",
       "      <td>1350</td>\n",
       "    </tr>\n",
       "    <tr>\n",
       "      <th>34417</th>\n",
       "      <td>Volkswagen</td>\n",
       "      <td>Golf</td>\n",
       "      <td>2011</td>\n",
       "      <td>2.5</td>\n",
       "      <td>5.0</td>\n",
       "      <td>Manual 5-spd</td>\n",
       "      <td>Front-Wheel Drive</td>\n",
       "      <td>Compact Cars</td>\n",
       "      <td>Regular</td>\n",
       "      <td>12.677308</td>\n",
       "      <td>23</td>\n",
       "      <td>33</td>\n",
       "      <td>26</td>\n",
       "      <td>341.807692</td>\n",
       "      <td>1300</td>\n",
       "    </tr>\n",
       "    <tr>\n",
       "      <th>34421</th>\n",
       "      <td>Volkswagen</td>\n",
       "      <td>Golf</td>\n",
       "      <td>2012</td>\n",
       "      <td>2.5</td>\n",
       "      <td>5.0</td>\n",
       "      <td>Manual 5-spd</td>\n",
       "      <td>Front-Wheel Drive</td>\n",
       "      <td>Compact Cars</td>\n",
       "      <td>Regular</td>\n",
       "      <td>12.677308</td>\n",
       "      <td>23</td>\n",
       "      <td>33</td>\n",
       "      <td>26</td>\n",
       "      <td>341.807692</td>\n",
       "      <td>1300</td>\n",
       "    </tr>\n",
       "    <tr>\n",
       "      <th>34427</th>\n",
       "      <td>Volkswagen</td>\n",
       "      <td>Golf</td>\n",
       "      <td>2013</td>\n",
       "      <td>2.5</td>\n",
       "      <td>5.0</td>\n",
       "      <td>Manual 5-spd</td>\n",
       "      <td>Front-Wheel Drive</td>\n",
       "      <td>Compact Cars</td>\n",
       "      <td>Regular</td>\n",
       "      <td>12.677308</td>\n",
       "      <td>23</td>\n",
       "      <td>33</td>\n",
       "      <td>26</td>\n",
       "      <td>335.000000</td>\n",
       "      <td>1300</td>\n",
       "    </tr>\n",
       "    <tr>\n",
       "      <th>34431</th>\n",
       "      <td>Volkswagen</td>\n",
       "      <td>Golf</td>\n",
       "      <td>2015</td>\n",
       "      <td>1.8</td>\n",
       "      <td>4.0</td>\n",
       "      <td>Manual 5-spd</td>\n",
       "      <td>Front-Wheel Drive</td>\n",
       "      <td>Compact Cars</td>\n",
       "      <td>Regular</td>\n",
       "      <td>10.987000</td>\n",
       "      <td>25</td>\n",
       "      <td>37</td>\n",
       "      <td>30</td>\n",
       "      <td>300.000000</td>\n",
       "      <td>1100</td>\n",
       "    </tr>\n",
       "    <tr>\n",
       "      <th>34436</th>\n",
       "      <td>Volkswagen</td>\n",
       "      <td>Golf</td>\n",
       "      <td>2016</td>\n",
       "      <td>1.8</td>\n",
       "      <td>4.0</td>\n",
       "      <td>Manual 5-spd</td>\n",
       "      <td>Front-Wheel Drive</td>\n",
       "      <td>Compact Cars</td>\n",
       "      <td>Regular</td>\n",
       "      <td>10.987000</td>\n",
       "      <td>25</td>\n",
       "      <td>37</td>\n",
       "      <td>30</td>\n",
       "      <td>300.000000</td>\n",
       "      <td>1100</td>\n",
       "    </tr>\n",
       "    <tr>\n",
       "      <th>34438</th>\n",
       "      <td>Volkswagen</td>\n",
       "      <td>Golf</td>\n",
       "      <td>2017</td>\n",
       "      <td>1.8</td>\n",
       "      <td>4.0</td>\n",
       "      <td>Manual 5-spd</td>\n",
       "      <td>Front-Wheel Drive</td>\n",
       "      <td>Compact Cars</td>\n",
       "      <td>Regular</td>\n",
       "      <td>11.365862</td>\n",
       "      <td>25</td>\n",
       "      <td>36</td>\n",
       "      <td>29</td>\n",
       "      <td>305.000000</td>\n",
       "      <td>1150</td>\n",
       "    </tr>\n",
       "  </tbody>\n",
       "</table>\n",
       "</div>"
      ],
      "text/plain": [
       "             Make Model  Year  Engine Displacement  Cylinders  Transmission  \\\n",
       "34369  Volkswagen  Golf  1986                  1.8        4.0  Manual 5-spd   \n",
       "34372  Volkswagen  Golf  1987                  1.8        4.0  Manual 5-spd   \n",
       "34374  Volkswagen  Golf  1988                  1.8        4.0  Manual 5-spd   \n",
       "34377  Volkswagen  Golf  1989                  1.8        4.0  Manual 5-spd   \n",
       "34379  Volkswagen  Golf  1999                  2.0        4.0  Manual 5-spd   \n",
       "34385  Volkswagen  Golf  2000                  2.0        4.0  Manual 5-spd   \n",
       "34391  Volkswagen  Golf  2001                  2.0        4.0  Manual 5-spd   \n",
       "34395  Volkswagen  Golf  2002                  2.0        4.0  Manual 5-spd   \n",
       "34399  Volkswagen  Golf  2003                  2.0        4.0  Manual 5-spd   \n",
       "34403  Volkswagen  Golf  2004                  2.0        4.0  Manual 5-spd   \n",
       "34407  Volkswagen  Golf  2005                  2.0        4.0  Manual 5-spd   \n",
       "34411  Volkswagen  Golf  2006                  2.0        4.0  Manual 5-spd   \n",
       "34412  Volkswagen  Golf  2010                  2.5        5.0  Manual 5-spd   \n",
       "34417  Volkswagen  Golf  2011                  2.5        5.0  Manual 5-spd   \n",
       "34421  Volkswagen  Golf  2012                  2.5        5.0  Manual 5-spd   \n",
       "34427  Volkswagen  Golf  2013                  2.5        5.0  Manual 5-spd   \n",
       "34431  Volkswagen  Golf  2015                  1.8        4.0  Manual 5-spd   \n",
       "34436  Volkswagen  Golf  2016                  1.8        4.0  Manual 5-spd   \n",
       "34438  Volkswagen  Golf  2017                  1.8        4.0  Manual 5-spd   \n",
       "\n",
       "              Drivetrain Vehicle Class Fuel Type  Fuel Barrels/Year  City MPG  \\\n",
       "34369  Front-Wheel Drive  Compact Cars   Regular          12.677308        23   \n",
       "34372  Front-Wheel Drive  Compact Cars   Regular          12.677308        23   \n",
       "34374  Front-Wheel Drive  Compact Cars   Regular          13.184400        22   \n",
       "34377  Front-Wheel Drive  Compact Cars   Regular          13.184400        22   \n",
       "34379  Front-Wheel Drive  Compact Cars   Regular          13.733750        21   \n",
       "34385  Front-Wheel Drive  Compact Cars   Regular          13.733750        21   \n",
       "34391  Front-Wheel Drive  Compact Cars   Regular          13.733750        21   \n",
       "34395  Front-Wheel Drive  Compact Cars   Regular          13.733750        21   \n",
       "34399  Front-Wheel Drive  Compact Cars   Regular          13.733750        21   \n",
       "34403  Front-Wheel Drive  Compact Cars   Regular          13.733750        21   \n",
       "34407  Front-Wheel Drive  Compact Cars   Regular          13.733750        21   \n",
       "34411  Front-Wheel Drive  Compact Cars   Regular          13.733750        21   \n",
       "34412  Front-Wheel Drive  Compact Cars   Regular          13.184400        22   \n",
       "34417  Front-Wheel Drive  Compact Cars   Regular          12.677308        23   \n",
       "34421  Front-Wheel Drive  Compact Cars   Regular          12.677308        23   \n",
       "34427  Front-Wheel Drive  Compact Cars   Regular          12.677308        23   \n",
       "34431  Front-Wheel Drive  Compact Cars   Regular          10.987000        25   \n",
       "34436  Front-Wheel Drive  Compact Cars   Regular          10.987000        25   \n",
       "34438  Front-Wheel Drive  Compact Cars   Regular          11.365862        25   \n",
       "\n",
       "       Highway MPG  Combined MPG  CO2 Emission Grams/Mile  Fuel Cost/Year  \n",
       "34369           31            26               341.807692            1300  \n",
       "34372           31            26               341.807692            1300  \n",
       "34374           30            25               355.480000            1350  \n",
       "34377           31            25               355.480000            1350  \n",
       "34379           28            24               370.291667            1400  \n",
       "34385           28            24               370.291667            1400  \n",
       "34391           28            24               370.291667            1400  \n",
       "34395           28            24               370.291667            1400  \n",
       "34399           29            24               370.291667            1400  \n",
       "34403           28            24               370.291667            1400  \n",
       "34407           28            24               370.291667            1400  \n",
       "34411           29            24               370.291667            1400  \n",
       "34412           30            25               355.480000            1350  \n",
       "34417           33            26               341.807692            1300  \n",
       "34421           33            26               341.807692            1300  \n",
       "34427           33            26               335.000000            1300  \n",
       "34431           37            30               300.000000            1100  \n",
       "34436           37            30               300.000000            1100  \n",
       "34438           36            29               305.000000            1150  "
      ]
     },
     "execution_count": 55,
     "metadata": {},
     "output_type": "execute_result"
    }
   ],
   "source": [
    "import pandas as pd\n",
    "\n",
    "# Assuming your DataFrame is named 'df'\n",
    "filtered_cars = df[(df['Make'] == 'Volkswagen') & (df['Model'] == 'Golf') & (df['Transmission'] == 'Manual 5-spd') & (df['Fuel Type'] == 'Regular')]\n",
    "filtered_cars"
   ]
  },
  {
   "cell_type": "code",
   "execution_count": 65,
   "id": "4759b9d5",
   "metadata": {},
   "outputs": [
    {
     "data": {
      "text/html": [
       "<div>\n",
       "<style scoped>\n",
       "    .dataframe tbody tr th:only-of-type {\n",
       "        vertical-align: middle;\n",
       "    }\n",
       "\n",
       "    .dataframe tbody tr th {\n",
       "        vertical-align: top;\n",
       "    }\n",
       "\n",
       "    .dataframe thead th {\n",
       "        text-align: right;\n",
       "    }\n",
       "</style>\n",
       "<table border=\"1\" class=\"dataframe\">\n",
       "  <thead>\n",
       "    <tr style=\"text-align: right;\">\n",
       "      <th></th>\n",
       "      <th>Make</th>\n",
       "      <th>Model</th>\n",
       "      <th>Year</th>\n",
       "      <th>Engine Displacement</th>\n",
       "      <th>Cylinders</th>\n",
       "      <th>Transmission</th>\n",
       "      <th>Drivetrain</th>\n",
       "      <th>Vehicle Class</th>\n",
       "      <th>Fuel Type</th>\n",
       "      <th>Fuel Barrels/Year</th>\n",
       "      <th>City MPG</th>\n",
       "      <th>Highway MPG</th>\n",
       "      <th>Combined MPG</th>\n",
       "      <th>CO2 Emission Grams/Mile</th>\n",
       "      <th>Fuel Cost/Year</th>\n",
       "      <th>MPG Difference</th>\n",
       "    </tr>\n",
       "  </thead>\n",
       "  <tbody>\n",
       "    <tr>\n",
       "      <th>34369</th>\n",
       "      <td>Volkswagen</td>\n",
       "      <td>Golf</td>\n",
       "      <td>1986</td>\n",
       "      <td>1.8</td>\n",
       "      <td>4.0</td>\n",
       "      <td>Manual 5-spd</td>\n",
       "      <td>Front-Wheel Drive</td>\n",
       "      <td>Compact Cars</td>\n",
       "      <td>Regular</td>\n",
       "      <td>12.677308</td>\n",
       "      <td>23</td>\n",
       "      <td>31</td>\n",
       "      <td>26</td>\n",
       "      <td>341.807692</td>\n",
       "      <td>1300</td>\n",
       "      <td>0.0</td>\n",
       "    </tr>\n",
       "    <tr>\n",
       "      <th>34372</th>\n",
       "      <td>Volkswagen</td>\n",
       "      <td>Golf</td>\n",
       "      <td>1987</td>\n",
       "      <td>1.8</td>\n",
       "      <td>4.0</td>\n",
       "      <td>Manual 5-spd</td>\n",
       "      <td>Front-Wheel Drive</td>\n",
       "      <td>Compact Cars</td>\n",
       "      <td>Regular</td>\n",
       "      <td>12.677308</td>\n",
       "      <td>23</td>\n",
       "      <td>31</td>\n",
       "      <td>26</td>\n",
       "      <td>341.807692</td>\n",
       "      <td>1300</td>\n",
       "      <td>0.0</td>\n",
       "    </tr>\n",
       "    <tr>\n",
       "      <th>34374</th>\n",
       "      <td>Volkswagen</td>\n",
       "      <td>Golf</td>\n",
       "      <td>1988</td>\n",
       "      <td>1.8</td>\n",
       "      <td>4.0</td>\n",
       "      <td>Manual 5-spd</td>\n",
       "      <td>Front-Wheel Drive</td>\n",
       "      <td>Compact Cars</td>\n",
       "      <td>Regular</td>\n",
       "      <td>13.184400</td>\n",
       "      <td>22</td>\n",
       "      <td>30</td>\n",
       "      <td>25</td>\n",
       "      <td>355.480000</td>\n",
       "      <td>1350</td>\n",
       "      <td>-1.0</td>\n",
       "    </tr>\n",
       "    <tr>\n",
       "      <th>34377</th>\n",
       "      <td>Volkswagen</td>\n",
       "      <td>Golf</td>\n",
       "      <td>1989</td>\n",
       "      <td>1.8</td>\n",
       "      <td>4.0</td>\n",
       "      <td>Manual 5-spd</td>\n",
       "      <td>Front-Wheel Drive</td>\n",
       "      <td>Compact Cars</td>\n",
       "      <td>Regular</td>\n",
       "      <td>13.184400</td>\n",
       "      <td>22</td>\n",
       "      <td>31</td>\n",
       "      <td>25</td>\n",
       "      <td>355.480000</td>\n",
       "      <td>1350</td>\n",
       "      <td>0.0</td>\n",
       "    </tr>\n",
       "    <tr>\n",
       "      <th>34379</th>\n",
       "      <td>Volkswagen</td>\n",
       "      <td>Golf</td>\n",
       "      <td>1999</td>\n",
       "      <td>2.0</td>\n",
       "      <td>4.0</td>\n",
       "      <td>Manual 5-spd</td>\n",
       "      <td>Front-Wheel Drive</td>\n",
       "      <td>Compact Cars</td>\n",
       "      <td>Regular</td>\n",
       "      <td>13.733750</td>\n",
       "      <td>21</td>\n",
       "      <td>28</td>\n",
       "      <td>24</td>\n",
       "      <td>370.291667</td>\n",
       "      <td>1400</td>\n",
       "      <td>-1.0</td>\n",
       "    </tr>\n",
       "  </tbody>\n",
       "</table>\n",
       "</div>"
      ],
      "text/plain": [
       "             Make Model  Year  Engine Displacement  Cylinders  Transmission  \\\n",
       "34369  Volkswagen  Golf  1986                  1.8        4.0  Manual 5-spd   \n",
       "34372  Volkswagen  Golf  1987                  1.8        4.0  Manual 5-spd   \n",
       "34374  Volkswagen  Golf  1988                  1.8        4.0  Manual 5-spd   \n",
       "34377  Volkswagen  Golf  1989                  1.8        4.0  Manual 5-spd   \n",
       "34379  Volkswagen  Golf  1999                  2.0        4.0  Manual 5-spd   \n",
       "\n",
       "              Drivetrain Vehicle Class Fuel Type  Fuel Barrels/Year  City MPG  \\\n",
       "34369  Front-Wheel Drive  Compact Cars   Regular          12.677308        23   \n",
       "34372  Front-Wheel Drive  Compact Cars   Regular          12.677308        23   \n",
       "34374  Front-Wheel Drive  Compact Cars   Regular          13.184400        22   \n",
       "34377  Front-Wheel Drive  Compact Cars   Regular          13.184400        22   \n",
       "34379  Front-Wheel Drive  Compact Cars   Regular          13.733750        21   \n",
       "\n",
       "       Highway MPG  Combined MPG  CO2 Emission Grams/Mile  Fuel Cost/Year  \\\n",
       "34369           31            26               341.807692            1300   \n",
       "34372           31            26               341.807692            1300   \n",
       "34374           30            25               355.480000            1350   \n",
       "34377           31            25               355.480000            1350   \n",
       "34379           28            24               370.291667            1400   \n",
       "\n",
       "       MPG Difference  \n",
       "34369             0.0  \n",
       "34372             0.0  \n",
       "34374            -1.0  \n",
       "34377             0.0  \n",
       "34379            -1.0  "
      ]
     },
     "execution_count": 65,
     "metadata": {},
     "output_type": "execute_result"
    }
   ],
   "source": [
    "# Sort the DataFrame by Year in ascending order\n",
    "filtered_cars = filtered_cars.sort_values(by='Year')\n",
    "filtered_cars.head()"
   ]
  },
  {
   "cell_type": "code",
   "execution_count": 64,
   "id": "4e5af12e",
   "metadata": {},
   "outputs": [
    {
     "data": {
      "text/html": [
       "<div>\n",
       "<style scoped>\n",
       "    .dataframe tbody tr th:only-of-type {\n",
       "        vertical-align: middle;\n",
       "    }\n",
       "\n",
       "    .dataframe tbody tr th {\n",
       "        vertical-align: top;\n",
       "    }\n",
       "\n",
       "    .dataframe thead th {\n",
       "        text-align: right;\n",
       "    }\n",
       "</style>\n",
       "<table border=\"1\" class=\"dataframe\">\n",
       "  <thead>\n",
       "    <tr style=\"text-align: right;\">\n",
       "      <th></th>\n",
       "      <th>Model</th>\n",
       "      <th>Year</th>\n",
       "      <th>Engine Displacement</th>\n",
       "      <th>Cylinders</th>\n",
       "      <th>Transmission</th>\n",
       "      <th>Drivetrain</th>\n",
       "      <th>Vehicle Class</th>\n",
       "      <th>Fuel Type</th>\n",
       "      <th>Fuel Barrels/Year</th>\n",
       "      <th>City MPG</th>\n",
       "      <th>Highway MPG</th>\n",
       "      <th>Combined MPG</th>\n",
       "      <th>CO2 Emission Grams/Mile</th>\n",
       "      <th>Fuel Cost/Year</th>\n",
       "    </tr>\n",
       "  </thead>\n",
       "  <tbody>\n",
       "    <tr>\n",
       "      <th>0</th>\n",
       "      <td>DJ Po Vehicle 2WD</td>\n",
       "      <td>1984</td>\n",
       "      <td>2.5</td>\n",
       "      <td>4.0</td>\n",
       "      <td>Automatic 3-spd</td>\n",
       "      <td>2-Wheel Drive</td>\n",
       "      <td>Special Purpose Vehicle 2WD</td>\n",
       "      <td>Regular</td>\n",
       "      <td>19.388824</td>\n",
       "      <td>18</td>\n",
       "      <td>17</td>\n",
       "      <td>17</td>\n",
       "      <td>522.764706</td>\n",
       "      <td>1950</td>\n",
       "    </tr>\n",
       "    <tr>\n",
       "      <th>1</th>\n",
       "      <td>FJ8c Post Office</td>\n",
       "      <td>1984</td>\n",
       "      <td>4.2</td>\n",
       "      <td>6.0</td>\n",
       "      <td>Automatic 3-spd</td>\n",
       "      <td>2-Wheel Drive</td>\n",
       "      <td>Special Purpose Vehicle 2WD</td>\n",
       "      <td>Regular</td>\n",
       "      <td>25.354615</td>\n",
       "      <td>13</td>\n",
       "      <td>13</td>\n",
       "      <td>13</td>\n",
       "      <td>683.615385</td>\n",
       "      <td>2550</td>\n",
       "    </tr>\n",
       "  </tbody>\n",
       "</table>\n",
       "</div>"
      ],
      "text/plain": [
       "               Model  Year  Engine Displacement  Cylinders     Transmission  \\\n",
       "0  DJ Po Vehicle 2WD  1984                  2.5        4.0  Automatic 3-spd   \n",
       "1   FJ8c Post Office  1984                  4.2        6.0  Automatic 3-spd   \n",
       "\n",
       "      Drivetrain                Vehicle Class Fuel Type  Fuel Barrels/Year  \\\n",
       "0  2-Wheel Drive  Special Purpose Vehicle 2WD   Regular          19.388824   \n",
       "1  2-Wheel Drive  Special Purpose Vehicle 2WD   Regular          25.354615   \n",
       "\n",
       "   City MPG  Highway MPG  Combined MPG  CO2 Emission Grams/Mile  \\\n",
       "0        18           17            17               522.764706   \n",
       "1        13           13            13               683.615385   \n",
       "\n",
       "   Fuel Cost/Year  \n",
       "0            1950  \n",
       "1            2550  "
      ]
     },
     "execution_count": 64,
     "metadata": {},
     "output_type": "execute_result"
    }
   ],
   "source": [
    "df.drop([\"Make\"], axis=1).head(2)"
   ]
  },
  {
   "cell_type": "code",
   "execution_count": 66,
   "id": "1eca62fb",
   "metadata": {},
   "outputs": [
    {
     "name": "stdout",
     "output_type": "stream",
     "text": [
      "[[1986.0, 26.0, 0.0], [1987.0, 26.0, 0.0], [1988.0, 25.0, -1.0], [1989.0, 25.0, 0.0], [1999.0, 24.0, -1.0], [2000.0, 24.0, 0.0], [2001.0, 24.0, 0.0], [2002.0, 24.0, 0.0], [2003.0, 24.0, 0.0], [2004.0, 24.0, 0.0], [2005.0, 24.0, 0.0], [2006.0, 24.0, 0.0], [2010.0, 25.0, 1.0], [2011.0, 26.0, 1.0], [2012.0, 26.0, 0.0], [2013.0, 26.0, 0.0], [2015.0, 30.0, 4.0], [2016.0, 30.0, 0.0], [2017.0, 29.0, -1.0]]\n"
     ]
    }
   ],
   "source": [
    "# Calculate the difference in Combined MPG with the previous model\n",
    "filtered_cars['MPG Difference'] = filtered_cars['Combined MPG'] - filtered_cars['Combined MPG'].shift(1)\n",
    "\n",
    "# Fill the first row with 0 for the MPG Difference (since there's no previous model)\n",
    "filtered_cars['MPG Difference'].fillna(0, inplace=True)\n",
    "\n",
    "# Select the Year, Combined MPG, and MPG Difference columns\n",
    "result_df = filtered_cars[['Year', 'Combined MPG', 'MPG Difference']].copy()\n",
    "\n",
    "# Convert the Year and Combined MPG columns to integers\n",
    "result_df[['Year', 'Combined MPG']] = result_df[['Year', 'Combined MPG']].astype(int)\n",
    "\n",
    "# Convert the MPG Difference column to float\n",
    "result_df['MPG Difference'] = result_df['MPG Difference'].astype(float)\n",
    "\n",
    "# Convert the DataFrame to a list of lists\n",
    "result_list = result_df.values.tolist()\n",
    "\n",
    "print(result_list)"
   ]
  },
  {
   "cell_type": "code",
   "execution_count": 87,
   "id": "3d4d951b",
   "metadata": {},
   "outputs": [
    {
     "name": "stdout",
     "output_type": "stream",
     "text": [
      "<class 'numpy.ndarray'>\n"
     ]
    },
    {
     "data": {
      "text/plain": [
       "45"
      ]
     },
     "execution_count": 87,
     "metadata": {},
     "output_type": "execute_result"
    }
   ],
   "source": [
    "# df['Transmission'].unique()\n",
    "print(type(df['Transmission'].unique()))\n",
    "df['Transmission'].unique().tolist()\n",
    "len(df['Transmission'].unique())"
   ]
  },
  {
   "cell_type": "code",
   "execution_count": 81,
   "id": "4d5c2b01",
   "metadata": {},
   "outputs": [
    {
     "data": {
      "text/plain": [
       "0        Automatic 3-spd\n",
       "1        Automatic 3-spd\n",
       "2        Automatic 3-spd\n",
       "3        Automatic 3-spd\n",
       "4        Automatic 4-spd\n",
       "              ...       \n",
       "35947          Auto(AM5)\n",
       "35948          Auto(AM5)\n",
       "35949          Auto(AM5)\n",
       "35950          Auto(AM6)\n",
       "35951       Manual 5-spd\n",
       "Name: Transmission, Length: 35952, dtype: object"
      ]
     },
     "execution_count": 81,
     "metadata": {},
     "output_type": "execute_result"
    }
   ],
   "source": [
    "df[\n",
    "    'Transmission'\n",
    "]"
   ]
  },
  {
   "cell_type": "code",
   "execution_count": 93,
   "id": "e94a904e",
   "metadata": {},
   "outputs": [
    {
     "name": "stdout",
     "output_type": "stream",
     "text": [
      "Make\n",
      "127\n",
      "['AM General', 'ASC Incorporated', 'Acura', 'Alfa Romeo', 'American Motors Corporation', 'Aston Martin', 'Audi', 'Aurora Cars Ltd', 'Autokraft Limited', 'BMW', 'BMW Alpina', 'Bentley', 'Bertone', 'Bill Dovell Motor Car Company', 'Bitter Gmbh and Co. Kg', 'Bugatti', 'Buick', 'CCC Engineering', 'CX Automotive', 'Cadillac', 'Chevrolet', 'Chrysler', 'Consulier Industries Inc', 'Dabryan Coach Builders Inc', 'Dacia', 'Daewoo', 'Daihatsu', 'Dodge', 'E. P. Dutton, Inc.', 'Eagle', 'Environmental Rsch and Devp Corp', 'Evans Automobiles', 'Excalibur Autos', 'Federal Coach', 'Ferrari', 'Fiat', 'Fisker', 'Ford', 'GMC', 'General Motors', 'Genesis', 'Geo', 'Goldacre', 'Grumman Allied Industries', 'Grumman Olson', 'Honda', 'Hummer', 'Hyundai', 'Import Foreign Auto Sales Inc', 'Import Trade Services', 'Infiniti', 'Isis Imports Ltd', 'Isuzu', 'J.K. Motors', 'JBA Motorcars, Inc.', 'Jaguar', 'Jeep', 'Kia', 'Laforza Automobile Inc', 'Lambda Control Systems', 'Lamborghini', 'Land Rover', 'Lexus', 'Lincoln', 'London Coach Co Inc', 'London Taxi', 'Lotus', 'MINI', 'Mahindra', 'Maserati', 'Maybach', 'Mazda', 'McLaren Automotive', 'Mcevoy Motors', 'Mercedes-Benz', 'Mercury', 'Merkur', 'Mitsubishi', 'Mobility Ventures LLC', 'Morgan', 'Nissan', 'Oldsmobile', 'PAS Inc - GMC', 'PAS, Inc', 'Pagani', 'Panos', 'Panoz Auto-Development', 'Panther Car Company Limited', 'Peugeot', 'Pininfarina', 'Plymouth', 'Pontiac', 'Porsche', 'Quantum Technologies', 'Qvale', 'Ram', 'Red Shift Ltd.', 'Renault', 'Rolls-Royce', 'Roush Performance', 'Ruf Automobile Gmbh', 'S and S Coach Company  E.p. Dutton', 'SRT', 'Saab', 'Saleen', 'Saleen Performance', 'Saturn', 'Scion', 'Shelby', 'Spyker', 'Sterling', 'Subaru', 'Superior Coaches Div E.p. Dutton', 'Suzuki', 'TVR Engineering Ltd', 'Tecstar, LP', 'Texas Coach Company', 'Toyota', 'VPG', 'Vector', 'Vixen Motor Company', 'Volga Associated Automobile', 'Volkswagen', 'Volvo', 'Wallace Environmental', 'Yugo', 'smart']\n",
      "...................................................................................................\n",
      "...................................................................................................\n",
      "Model\n",
      "3608\n",
      "['1-Ton Truck 2WD', '100', '100 Wagon', '100 quattro', '100 quattro Wagon', '1000', '124 Spider', '128ci Convertible', '128i', '128i Convertible', '135i', '135i Convertible', '1500 2WD', '1500 4WD', '1500 HFE 2WD', '164', '18i 4DR Wagon', '18i Sportwagon', '190', '190D 2.5', '190D 2.5 Turbo', '190E', '190E 2.3', '190E 2.3 MERC BENZ', '190E 2.3-16', '190E 2.6', '1fas 410', '2', '2.2CL/3.0CL', '2.3CL/3.0CL', '2.5TL', '2.5TL/3.2TL', '200', '200 AWD', '200 Convertible', '200 quattro', '200 quattro 20v', '200 quattro 20v Wagon', '200 quattro Wagon', '200E', '200SX', '20th Anniversary Trans Am', '21 TD', '222E', '225', '228', '228i', '228i Convertible', '228i xDrive', '228i xDrive Convertible', '230CE', '230E', '230E MERC BENZ', '230TE', '230i Convertible', '230i Coupe', '230i xDrive Convertible', '230i xDrive Coupe', '240', '240 DL/240 GL', '240 DL/240 GL Sedan', '240 DL/240 GL Wagon', '240 DL/GL/turbo', '240 DL/GL/turbo Wagon', '240 Wagon', '240SX', '24E', '2500 2WD', '260E', '3', '3 4-Door', '3 5-Door', '3 DI 4-Door', '3 DI 5-Door', '3 Door 4WD Turbo', '3 Series', '3.2 Mondial/Cabriolet', '3.2CL', '3.2TL', '3.5RL', '300', '300 AWD', '300 M', '300 SRT8', '300/SRT-8', '3000 GT', '3000 GT Spyder', '3000GT', '300C AWD', '300C/SRT-8', '300CE', '300CE MERC BENZ', '300D', '300D 2.5 Turbo', '300D/300CD', '300E', '300E 2.6', '300E 2.8', '300E 4Matic', '300E MERC BENZ', '300M', '300SD', '300SDL', '300SE', '300SEL', '300SL', '300SL MERC BENZ', '300TD', '300TE', '300TE 4Matic', '300TE MERC BENZ', '300ZX', '300ZX 2x2', '308', '318i', '318i Convertible', '318i/318iS', '318i/318is', '318is', '318is Convertible', '318ti', '320i', '320i xDrive', '323', '323 Protege 4x4', '323 Wagon', '323/323 Protege', '323ci', '323i', '323i Convertible', '323i Touring', '323is', '325ci', '325ci Convertible', '325i', '325i Convertible', '325i Sport Wagon', '325i/325iS', '325i/325is', '325ic', '325is', '325ix', '325xi', '325xi Sport Wagon', '328 GTS/GTB', '328ci', '328ci Convertible', '328ci xDrive', '328cxi', '328d', '328d xDrive', '328d xDrive Sports Wagon', '328i', '328i Convertible', '328i Coupe', '328i Coupe xDrive', '328i Sport Wagon', '328i Sport Wagon xDrive', '328i Sports Wagon', '328i xDrive', '328i xDrive Gran Turismo', '328i xDrive Sport Wagon', '328i xDrive Sports Wagon', '328i/328is', '328ic', '328is', '328xi', '328xi Sport Wagon', '330ci', '330ci Convertible', '330e', '330i', '330i xDrive', '330i xDrive Gran Turismo', '330i xDrive Sports Wagon', '330xi', '335ci', '335ci Convertible', '335ci xDrive', '335cxi', '335d', '335i', '335i Convertible', '335i Coupe', '335i Coupe xDrive', '335i xDrive', '335i xDrive Gran Turismo', '335is Convertible', '335is Coupe', '335xi', '340i', '340i xDrive', '340i xDrive Gran Turismo', '348 TB/TS', '350SD Turbo', '350SDL Turbo', '350z', '350z Roadster', '360 Modena/Modena F1', '360 Modena/Spider', '360 Modena/Spider/Challenge', '370Z', '370Z Roadster', '370z', '380SE', '380SL', '4000', '4000 CS quattro', '4000 S', '4000s', '4000s quattro', '400E', '400SE', '400SEL', '405 Sedan', '405 Sports Wagon', '405 Station Wagon', '420 SE', '420SE', '420SEL', '428i Convertible', '428i Coupe', '428i Gran Coupe', '428i xDrive Convertible', '428i xDrive Coupe', '428i xDrive Gran Coupe', '430', '430i Convertible', '430i Coupe', '430i Gran Coupe', '430i xDrive Convertible', '430i xDrive Coupe', '430i xDrive Gran Coupe', '435i Convertible', '435i Coupe', '435i Gran Coupe', '435i xDrive Convertible', '435i xDrive Coupe', '435i xDrive Gran Coupe', '440i Convertible', '440i Coupe', '440i Gran Coupe', '440i xDrive Convertible', '440i xDrive Coupe', '440i xDrive Gran Coupe', '456 MGT/MGA', '458 Italia', '458 Italia Coupe', '458 Italia Spider', '458 Speciale', '458 Speciale Spider', '458 Spider', '488 GTB', '488 Spider', '4C', '4Runner 2WD', '4Runner 4WD', '5', '5 Series', '500', '500 Abarth', '500 Cabrio', '500 L', '500 SEC', '500 X', '500 X AWD', '5000 CS Turbo', '5000 CS quattro', '5000 CS quattro Wagon', '5000 S', '5000 S quattro', '5000S', '5000S Wagon', '500E', '500SE', '500SEC', '500SEL', '500SEL 5.0L', '500SEL 5.6L', '500SL', '505', '505 Sedan', '505 Station Wagon', '505 Wagon', '525i', '525i Sport Wagon', '525i Touring', '525xi', '528i', '528i Sport Wagon', '528i Touring', '528i xDrive', '528xi', '530i', '530i Touring', '530xi', '530xi Sport Wagon', '535d', '535d xDrive', '535i', '535i Gran Turismo', '535i Sport Wagon xDrive', '535i xDrive', '535i xDrive Gran Turismo', '535xi', '535xi Sport Wagon', '540i', '540i Sport Wagon', '540i Touring', '545i', '550 GT', '550 Maranello', '550 Maranello/Barchetta', '550i', '550i Gran Turismo', '550i xDrive', '550i xDrive GT', '550i xDrive Gran Turismo', '560SE', '560SEC', '560SEL', '560SL', '57', '57 S', '57 Zeppelin', '570GT', '570S Coupe', '575', '575 M Maranello', '575 M Maranello and Superamerica', '57S', '599 GTB', '599 GTB Fiorano', '599 GTO', '599 SA Aperta', '6', '6 Series', '6 Sport Wagon', '600', '600 Convertible', '6000', '6000 Wagon', '600SEL', '600SEL/SEC', '600SL', '612 Scaglietti', '62', '62 S', '626', '626/MX-6', '62S', '635csi', '640i Convertible', '640i Coupe', '640i Gran Coupe', '640i xDrive Convertible', '640i xDrive Coupe', '640i xDrive Gran Coupe', '645ci', '645ci Convertible', '650S Coupe', '650S Spider', '650ci', '650ci Convertible', '650i Convertible', '650i Convertible xDrive', '650i Coupe', '650i Coupe xDrive', '650i Gran Coupe', '650i xDrive Convertible', '650i xDrive Coupe', '650i xDrive Gran Coupe', '675LT Coupe', '7 Series', '735i', '735i Luxury', '735il', '740', '740 16-Valve', '740 16-Valve Wagon', '740 GLE Sedan', '740 GLE Wagon', '740 Wagon', '740/760', '740/760 Wagon', '740Ld xDrive', '740Li', '740Li xDrive', '740e xDrive', '740i', '740i xDrive', '740i/740i Sport', '740il', '740il/740il Protection', '745i', '745li', '750 Series', '750C/I-Mark', '750Li', '750Li xDrive', '750i', '750i xDrive', '750il', '750il/750il Protection', '750li', '760', '760 Wagon', '760Li', '760i', '760li', '780', '8 C Spider', '80', '80 quattro', '80/90', '80/90 quattro', '825', '827', '840ci', '850', '850 Wagon', '850ci', '850csi', '850i', '85J', '86', '9-2X Wagon AWD', '9-2x Wagon AWD', '9-3', '9-3 Aero Sedan AWD', '9-3 Aero SportCombi AWD', '9-3 Convertible', '9-3 Sedan AWD', '9-3 Sport Sedan', '9-3 SportCombi', '9-3 Viggen', '9-3 Viggen Convertible', '9-3X SportCombi AWD', '9-4X AWD', '9-4X FWD', '9-5', '9-5 Sedan', '9-5 Sedan AWD', '9-5 SportCombi', '9-5 Wagon', '9-7X AWD', '90', '90 quattro', '90 quattro 20v', '900', '900 Convertible', '9000', '900S', '900S Convertible', '900SE', '900SE Convertible', '911', '911 C4 GTS', '911 C4 GTS Cabriolet', '911 Carrera', '911 Carrera 2/4', '911 Carrera 4', '911 Carrera 4 Cabriolet', '911 Carrera 4 GTS', '911 Carrera 4 GTS Cabriolet', '911 Carrera 4 Targa', '911 Carrera 4/2', '911 Carrera 4S', '911 Carrera 4S Cabriolet', '911 Carrera 4S Targa', '911 Carrera Cabriolet', '911 Carrera GTS', '911 Carrera GTS Cabriolet', '911 Carrera S', '911 Carrera S Cabriolet', '911 GT2', '911 GT2 RS', '911 GT3', '911 GT3 RS', '911 GTS', '911 GTS Cabriolet', '911 R', '911 Speedster', '911 Targa', '911 Targa 4', '911 Targa 4 GTS', '911 Targa 4S', '911 Turbo', '911 Turbo Cabriolet', '911 Turbo Coupe', '911 Turbo S', '911 Turbo S Cabriolet', '911 Turbo S Coupe', '918 Spyder', '924 S', '928 GTS', '928 S', '928 S4', '929', '940', '940 GLE 16-Valve', '940 GLE 16-Valve Wagon', '940 SE', '940 SE Wagon', '940 Turbo', '940 Turbo Wagon', '940 Wagon', '944', '944 S', '944 S2', '944 Turbo', '960', '960 Wagon', '960 Wagon/V90', '960/S90', '968', '98 Esrit V8', 'A.C.MARK IV', 'A.C.Mkiv', 'A3', 'A3 Cabriolet', 'A3 Cabriolet quattro', 'A3 e-tron', 'A3 e-tron ultra', 'A3 quattro', 'A4', 'A4 Avant', 'A4 Avant quattro', 'A4 Cabriolet', 'A4 Cabriolet quattro', 'A4 Ultra', 'A4 allroad quattro', 'A4 quattro', 'A5 Cabriolet', 'A5 Cabriolet quattro', 'A5 quattro', 'A6', 'A6 Avant quattro', 'A6 Wagon', 'A6 Wagon quattro', 'A6 quattro', 'A6 quattro Wagon', 'A7 quattro', 'A8', 'A8 L', 'A8 quattro', 'AD100/AD150 Ramcharger 2WD', 'AMG C63', 'AMG C63 Coupe', 'AMG C63 S', 'AMG C63 S Coupe', 'AMG CLA45 4matic', 'AMG CLS63 S 4matic', 'AMG E63 4matic', 'AMG E63 S 4matic', 'AMG E63 S 4matic (wagon)', 'AMG G63', 'AMG G65', 'AMG GL63', 'AMG GLA45 4matic', 'AMG GLE43 4matic Coupe', 'AMG GLE63', 'AMG GLE63 S', 'AMG GLE63 S Coupe', 'AMG GLS63', 'AMG GT', 'AMG GT S', 'AMG S 63 4matic', 'AMG S 63 4matic Coupe', 'AMG S63 4matic', 'AMG S63 4matic Convertible', 'AMG S63 4matic Coupe', 'AMG S65', 'AMG S65 Coupe', 'AMG SL63', 'AMG SL65', 'AMG SLC43', 'AMG SLK55', 'ATS', 'ATS AWD', 'ATS-V', 'AW100/AW150 Ramcharger 4WD', 'Acadia AWD', 'Acadia FWD', 'Acadia Limited AWD', 'Acadia Limited FWD', 'Accent', 'Accent (SOHC)', 'Accent (Sporty)', 'Accent Blue', 'Accent/Brio', 'Acclaim', 'Accord', 'Accord Coupe', 'Accord Crosstour 2WD', 'Accord Crosstour 4WD', 'Accord Hybrid', 'Accord Plug-in Hybrid', 'Accord Wagon', 'Achieva', 'ActiveHybrid 3', 'ActiveHybrid 5', 'ActiveHybrid 7', 'ActiveHybrid 7L', 'ActiveHybrid 7Li', 'ActiveHybrid 7i', 'ActiveHybrid X6', 'Aerio', 'Aerio 4WD', 'Aerio AWD', 'Aerio SX', 'Aerio SX 4WD', 'Aerio SX AWD', 'Aerostar Van', 'Aerostar Van AWD', 'Aerostar Wagon', 'Aerostar Wagon AWD', 'Alero', 'Allante', 'Alliance', 'Alliance Convertible', 'Alliance/Encore', 'Allroad', 'Allroad quattro', 'Alpina B6 Gran Coupe xDrive', 'Alpina B6 xDrive Gran Coupe', 'Alpina B7 LWB', 'Alpina B7 LWB xDrive', 'Alpina B7 SWB', 'Alpina B7 SWB xDrive', 'Alpina B7 xDrive', 'Altima', 'Altima / Stanza', 'Altima Coupe', 'Altima Hybrid', 'Altima SR', 'Amanti', 'Amigo 2WD', 'Amigo 4WD', 'Aries', 'Aries Wagon', 'Armada 2WD', 'Armada 2WD FFV', 'Armada 4WD', 'Armada 4WD FFV', 'Armored DTS', 'Armored Deville', 'Arnage', 'Arnage LWB', 'Arnage RL', 'Ascender 2WD', 'Ascender 4WD', 'Ascender 5-passenger 2WD', 'Ascender 5-passenger 4WD', 'Ascender 7-passenger 2WD', 'Ascender 7-passenger 4WD', 'Aspen 2WD', 'Aspen 4WD', 'Aspen HEV', 'Aspire', 'Astra 2DR Hatchback', 'Astra 4DR Hatchback', 'Astro 2WD (cargo)', 'Astro 2WD (cargo) Conversion', 'Astro 2WD (passenger)', 'Astro AWD (cargo)', 'Astro AWD (cargo) Conversion', 'Astro AWD (passenger)', 'Aura', 'Aura FFV', 'Aura Hybrid', 'Aurora', 'Avalanche 1500 2WD', 'Avalanche 1500 2WD FFV', 'Avalanche 1500 4WD', 'Avalanche 1500 AWD', 'Avalon', 'Avalon Hybrid', 'Avenger', 'Avenger AWD', 'Avenger FFV', 'Aventador Coupe', 'Aventador Roadster', 'Aventador Veneno Coupe', 'Aveo', 'Aveo 5', 'Aviator 2WD', 'Aviator 4WD', 'Avtech SC / M12', 'Axiom 2WD', 'Axiom 4WD', 'Axxess', 'Axxess AWD', 'Azera', 'Azera Limited', 'Aztek AWD', 'Aztek FWD', 'Azure', 'B150/B250 Van 2WD', 'B150/B250 Wagon 2WD', 'B1500 Van 2WD', 'B1500 Wagon 2WD', 'B1500/B2500 Van 2WD', 'B1500/B2500 Wagon 2WD', 'B2000', 'B2000/B2200 Pickup 2WD', 'B2000/B2200/B2600', 'B2200/B2600', 'B2200/B2600i', 'B2300 2WD', 'B2300/B3000/B4000 Pickup 2WD', 'B2300/B3000/B4000 Pickup 4WD', 'B2500', 'B2500 2WD', 'B2500 Van 2WD', 'B2500 Wagon 2WD', 'B2500/B3000/B4000 2WD', 'B2500/B3000/B4000 4WD', 'B2600 4x4', 'B2600i 4x4', 'B3000', 'B3000 (FFV) Ethanol 2WD', 'B3000 2WD', 'B3000 2WD FFV', 'B3000 4WD', 'B3000 FFV 2WD', 'B3000 FFV 4WD', 'B350 Van 2WD', 'B350 Wagon 2WD', 'B3500 Van 2WD', 'B3500 Wagon 2WD', 'B4000', 'B4000 2WD', 'B4000 4WD', 'B7', 'B9 Tribeca AWD', 'BMW 325I', 'BMW 325i', 'BMW535I', 'BMW635CSI', 'BMW635L6', 'BMW735I', 'BMW735IL', 'BRZ', 'Baja AWD', 'Beetle', 'Beetle Convertible', 'Beetle Dune', 'Bentayga', 'Beretta', 'Bitter SC', 'Biturbo', 'Biturbo 425', 'Biturbo Spyder', 'Blackwood 2WD', 'Blazer 1500 4WD', 'Blazer 2WD', 'Blazer 4WD', 'Blazer AWD', 'Blazer V1500 4WD', 'Bonneville', 'Borrego 2WD', 'Borrego 4WD', 'Boss F150 Super Cab 2WD', 'Boxster', 'Boxster GTS', 'Boxster S', 'Boxster Spyder', 'Brat 4WD', 'Bravada 2WD', 'Bravada AWD', 'Breeze', 'Bronco 4WD', 'Bronco II 2WD', 'Bronco II 4WD', 'Brooklands', 'Brooklands R', 'Brooklands R Limo', 'Brooklands and (LWB)', 'Brooklands/Brklnds L', 'Brougham', 'Brougham/DeVille (RWD)', 'C-MAX Energi Plug-in Hybrid', 'C-MAX Hybrid FWD', 'C/V', 'C/V Cargo Van', 'C/V Tradesman', 'C10 Pickup 2WD', 'C15 Pickup 2WD', 'C15 Suburban 2WD', 'C1500 Pickup 2WD', 'C20 Pickup 2WD', 'C220', 'C230', 'C230 Kompressor', 'C230 Kompressor Sports Coupe', 'C240', 'C240 (Wagon)', 'C240 4matic', 'C240 4matic (Wagon)', 'C240 FFV', 'C240 FFV (Wagon)', 'C25 Pickup 2WD', 'C250', 'C250 Coupe', 'C2500 Pickup 2WD', 'C2500 Sierra 2WD', 'C280', 'C280 4matic', 'C30 FWD', 'C300', 'C300 4matic', 'C300 4matic Convertible', 'C300 4matic Coupe', 'C300 4matic FFV', 'C300 Convertible', 'C300 Coupe', 'C300 FFV', 'C32 AMG', 'C320', 'C320 (Wagon)', 'C320 4matic', 'C320 4matic (Wagon)', 'C320 4matic Sedan', 'C320 FFV', 'C320 FFV (Wagon)', 'C320 Sports Coupe', 'C320 Sports Coupe FFV', 'C350', 'C350 4matic', 'C350 4matic Coupe', 'C350 Coupe', 'C36', 'C36 AMG', 'C400 4matic', 'C43', 'C43 AMG', 'C450 AMG', 'C55 AMG', 'C63 AMG', 'C63 AMG Black Series Coupe', 'C63 AMG Coupe', 'C70', 'C70 Convertible', 'C70 Coupe', 'C70 FWD', 'C8', 'C8 Aileron', 'C8 Double 12 S', 'C8 Double 12 Spyder', 'C8 Laviolette', 'C8 Spyder', 'C8 Spyder Wide Body', 'CC', 'CC 4motion', 'CJ7', 'CJ7 4WD', 'CJ8 4WD', 'CL500', 'CL55 AMG', 'CL550', 'CL550 4matic', 'CL600', 'CL63 AMG', 'CL65 AMG', 'CLA250', 'CLA250 4matic', 'CLA45 AMG 4matic', 'CLK320', 'CLK320 (Cabriolet)', 'CLK320 Cabriolet', 'CLK350', 'CLK350 (Cabriolet)', 'CLK430', 'CLK430 (Cabriolet)', 'CLK500', 'CLK500 (Cabriolet)', 'CLK55 AMG', 'CLK55 AMG (Cabriolet)', 'CLK550', 'CLK550 (Cabriolet)', 'CLK63 AMG', 'CLK63 AMG (Cabriolet)', 'CLS400', 'CLS400 4matic', 'CLS500', 'CLS55 AMG', 'CLS550', 'CLS550 4matic', 'CLS63 AMG', 'CLS63 AMG 4matic', 'CLS63 AMG S', 'CLS63 AMG S 4matic', 'CR-V 2WD', 'CR-V 4WD', 'CR-Z', 'CSX', 'CT 200h', 'CT6', 'CT6 AWD', 'CTS', 'CTS AWD', 'CTS Sedan', 'CTS Sedan AWD', 'CTS V', 'CTS Wagon', 'CTS Wagon AWD', 'CTS-V', 'CX 25 GTI', 'CX 25 Prestige', 'CX 25Tri', 'CX-3 2WD', 'CX-3 4WD', 'CX-5 2WD', 'CX-5 4WD', 'CX-7 2WD', 'CX-7 4WD', 'CX-9 2WD', 'CX-9 4WD', 'Cab Chassis 2WD', 'Cab/Chassis', 'Cab/Chassis 2WD', 'Caballero Pickup 2WD', 'Cabrio', 'Cabriolet', 'Cadenza', 'Calais', 'Caliber', 'Caliber AWD', 'California', 'California T', 'Camargue', 'Camaro', 'Camry', 'Camry CNG', 'Camry Hybrid', 'Camry Hybrid LE', 'Camry Hybrid XLE', 'Camry Hybrid XLE/SE', 'Camry Solara', 'Camry Solara Convertible', 'Camry Wagon', 'Canyon 2WD', 'Canyon 4WD', 'Canyon Cab Chassis 2WD', 'Canyon Cab Chassis Inc 2WD', 'Canyon Cab Chassis Inc 4WD', 'Canyon Crew Cab 2WD', 'Canyon Crew Cab 4WD', 'Capri', 'Caprice', 'Caprice Wagon', 'Caprice/Impala', 'Caprice/Impala Wagon', 'Captiva AWD', 'Captiva FWD', 'Caravan C/V/Grand Caravan 2WD', 'Caravan C/V/Grand Caravan 4WD', 'Caravan/Grand Caravan 2WD', 'Caravan/Grand Caravan 4WD', 'Caravan/Grand Caravan AWD', 'Caravan/Grand Caravan FWD', 'Caravan/Grand Caravan/Ram Van 2WD', 'Caravan/Ram Van 2WD', 'Caravelle', 'Cargo Van 2WD', 'Cargo Van 4WD', 'Carrera', 'Carrera 2 911 GT3', 'Carrera 2 Cabriolet', 'Carrera 2 Cabriolet Kit', 'Carrera 2 Coupe', 'Carrera 2 Coupe Kit', 'Carrera 2 S Cabriolet', 'Carrera 2 S Coupe', 'Carrera 4', 'Carrera 4 Cabriolet', 'Carrera 4 Cabriolet Kit', 'Carrera 4 Coupe', 'Carrera 4 S', 'Carrera 4 S Cabriolet', 'Carrera 4 S Cabriolet Kit', 'Carrera 4 S Coupe', 'Carrera 4 S Kit', 'Carrera 4 S Targa', 'Carrera 4 Targa', 'Carrera GT', 'Cascada', 'Catera', 'Cavalier', 'Cavalier (Bi-fuel CNG)', 'Cavalier Convertible', 'Cavalier Dual-fuel', 'Cavalier Wagon', 'Cayenne', 'Cayenne Diesel', 'Cayenne GTS', 'Cayenne Platinum', 'Cayenne S', 'Cayenne S Hybrid', 'Cayenne S e-Hybrid', 'Cayenne TransSiberia', 'Cayenne Turbo', 'Cayenne Turbo Kit', 'Cayenne Turbo S', 'Cayman', 'Cayman GT4', 'Cayman GTS', 'Cayman R', 'Cayman S', 'Celebrity', 'Celebrity Wagon', 'Celica', 'Celica Convertible', 'Celica Supra', 'Century', 'Century Wagon', 'Challenger', 'Challenger SRT8', 'Charade', 'Charade E', 'Charger', 'Charger AWD', 'Charger GLH-S', 'Charger SRT8', 'Cherokee 2WD', 'Cherokee 4WD', 'Cherokee 4WD Active Drive II', 'Cherokee FWD', 'Cherokee Trailhawk 4WD', 'Cherokee/Wagoneer', 'Cherokee/Wagoneer 2WD', 'Cherokee/Wagoneer 4WD', 'Chevette', 'Chevette CS', 'Chevrolet Cavalier', 'Ciera SL', 'Ciera SL Wagon', 'Cimarron', 'Cirrus', 'Citation II', 'City Express Cargo Van', 'Civic', 'Civic 2Dr', 'Civic 4Dr', 'Civic CNG', 'Civic CRX', 'Civic CRX HF', 'Civic Del Sol', 'Civic HB VX', 'Civic HF', 'Civic HX', 'Civic Hybrid', 'Civic Natural Gas', 'Civic Wagon', 'Civic Wagon 4WD', 'Classic', 'Clubman', 'Clubman S', 'Coachbuilder Wagon', 'Cobalt', 'Cobalt Coupe', 'Cobalt SS Coupe', 'Cobalt Sedan', 'Cobalt XFE', 'Cobalt XFE Coupe', 'Cobalt XFE Sedan', 'Colorado 2WD', 'Colorado 4WD', 'Colorado Cab Chassis 2WD', 'Colorado Cab Chassis inc 2WD', 'Colorado Cab Chassis inc 4WD', 'Colorado Crew Cab 2WD', 'Colorado Crew Cab 4WD', 'Colt', 'Colt Vista', 'Colt Vista 4WD', 'Colt Wagon', 'Colt Wagon 4WD', 'Comanche 2WD', 'Comanche 4WD', 'Comanche Pickup 2WD', 'Comanche Pickup 4WD', 'Commander 2WD', 'Commander 4WD', 'Commercial Chassis', 'Compass 2WD', 'Compass 4WD', 'Compass FWD', 'Concorde', 'Concorde/LHS', 'Conquest', 'Consulier GTP', 'Continental', 'Continental  AWD', 'Continental  FWD', 'Continental (turbo)', 'Continental Flying Spur', 'Continental GT', 'Continental GT Convertible', 'Continental GT Speed Convertible', 'Continental GT3-R', 'Continental GTC', 'Continental R', 'Continental SC', 'Continental Supersports', 'Continental Supersports Convertible', 'Continental T', 'Contour', 'Convertible', 'Cooper', 'Cooper (3-doors)', 'Cooper (5-doors)', 'Cooper Clubman', 'Cooper Clubvan', 'Cooper Convertible', 'Cooper Countryman', 'Cooper Countryman Coupe', 'Cooper Coupe', 'Cooper Hardtop 2 door', 'Cooper Hardtop 4 door', 'Cooper Paceman', 'Cooper Roadster', 'Cooper S', 'Cooper S (3-doors)', 'Cooper S (5-doors)', 'Cooper S Clubman', 'Cooper S Clubman All4', 'Cooper S Convertible', 'Cooper S Countryman', 'Cooper S Countryman All4', 'Cooper S Countryman Coupe', 'Cooper S Countryman Coupe All4', 'Cooper S Coupe', 'Cooper S Hardtop 2 door', 'Cooper S Hardtop 4 door', 'Cooper S JCWorks GP Kit', 'Cooper S Paceman', 'Cooper S Paceman All4', 'Cooper S Roadster', 'Cordia', 'Corniche', 'Corniche II', 'Corniche II/Continental', 'Corniche III', 'Corniche IV', 'Corniche S', 'Corniche/Continental', 'Corolla', 'Corolla All-Trac Wagon', 'Corolla FX', 'Corolla LE Eco', 'Corolla Sport', 'Corolla Wagon', 'Corolla iM', 'Corrado', 'Corrado SLC', 'Corsica', 'Corvette', 'Corvette Convertible', 'Cougar', 'Countach', 'Coupe', 'Coupe Cambiocorsa/Coupe GT', 'Coupe Cambiocorsa/GT/G-Sport', 'Coupe Cambiocorsa/coupe GT', 'Coupe GT', 'Coupe and Gransport', 'Coupe quattro', 'Courier', 'Courier Pickup 2WD', 'Courier Pickup 4WD', 'Cressida', 'Cressida Wagon', 'Crossfire', 'Crossfire Coupe', 'Crossfire Roadster', 'Crosstour 2WD', 'Crosstour 4WD', 'Crosstrek AWD', 'Crown Victoria', 'Crown Victoria CNG', 'Crown Victoria FFV', 'Crown Victoria Police', 'Cruze', 'Cruze Eco', 'Cruze Hatchback', 'Cruze Limited', 'Cruze Limited  Eco', 'Cruze Premier', 'Cruze Premier Hatchback', 'Cube', 'Custom Cruiser', 'Custom Cruiser Wagon', 'Cutlass', 'Cutlass Calais', 'Cutlass Ciera', 'Cutlass Cruiser', 'Cutlass Cruiser Wagon', 'Cutlass Supreme', 'Cutlass Supreme Classic', 'Cxestate', 'D100/D150 Pickup 2WD', 'D250 Cab Chassis 2WD', 'D250 Pickup 2WD', 'D250 Pickup Cab Chassis 2WD', 'DB AR1', 'DB-7 GT Coupe', 'DB-7 GT Volante', 'DB-7 Vantage Coupe', 'DB-7 Vantage Volante', 'DB132/144 - Diablo', 'DB132/144 Diablo', 'DB132/Diablo', 'DB7 Coupe', 'DB7 Volante', 'DB9', 'DB9 Coupe', 'DB9 Coupe Manual', 'DB9 Volante', 'DB9 Volante Manual', 'DBS', 'DBS Coupe', 'DJ Po Vehicle 2WD', 'DTS', 'Dakota Cab Chassis 2WD', 'Dakota Pickup 2WD', 'Dakota Pickup 2WD FFV', 'Dakota Pickup 4WD', 'Dakota Pickup 4WD FFV', 'Dart', 'Dart Aero', 'Dart GT', 'Dawn', 'Daytona', 'DeVille', 'DeVille/60 Special', 'DeVille/Concourse', 'Defender 110', 'Defender 90', 'Del Sol', 'Delta 204T', 'Delta 88', 'Delta 88 Royale', 'Detomaso Mangusta', 'Diamante', 'Diamante Sedan', 'Diamante Wagon', 'Diplomat', 'Discovery', 'Discovery Series II', 'Discovery Sport', 'Dovell 230CE', 'Dovell 230E', 'Duntov GT', 'Durango 2WD', 'Durango 4WD', 'Durango AWD', 'Durango HEV', 'Durango RWD', 'Dynasty', 'E150 Club Wagon', 'E150 Club Wagon 2WD', 'E150 Econoline 2WD', 'E150 Van FFV', 'E150 Wagon FFV', 'E250 Bluetec', 'E250 Bluetec 4matic', 'E250 CNG', 'E250 Econoline 2WD', 'E250 Econoline 2WD CNG', 'E250 Van FFV', 'E300', 'E300 4matic', 'E300 Diesel', 'E300 Turbodiesel', 'E320', 'E320 (Wagon)', 'E320 4Matic', 'E320 4Matic (Wagon)', 'E320 4matic', 'E320 4matic (Wagon)', 'E320 Bluetec', 'E320 Cdi', 'E320 Convertible', 'E320 Coupe', 'E320 Sedan', 'E320 Sedan 4Matic', 'E320 Wagon', 'E320 Wagon 4Matic', 'E350', 'E350 (wagon)', 'E350 4Matic', 'E350 4matic', 'E350 4matic (wagon)', 'E350 4matic Coupe', 'E350 Bluetec', 'E350 Convertible', 'E350 Coupe', 'E350 Van', 'E350 Van FFV', 'E350 Wagon', 'E350 Wagon FFV', 'E400', 'E400 4matic', 'E400 4matic (wagon)', 'E400 4matic Coupe', 'E400 Convertible', 'E400 Coupe', 'E400 Hybrid', 'E420', 'E430', 'E430 4Matic', 'E500', 'E500 (Wagon)', 'E500 4matic', 'E500 4matic (Wagon)', 'E500 4matic (wagon)', 'E55 AMG', 'E55 AMG (Wagon)', 'E55 AMG (wagon)', 'E550', 'E550 4matic', 'E550 Convertible', 'E550 Coupe', 'E63 AMG', 'E63 AMG (wagon)', 'E63 AMG 4matic', 'E63 AMG 4matic (wagon)', 'E63 AMG S', 'E63 AMG S 4matic', 'E63 AMG S 4matic (wagon)', 'ELR', 'ELR Sport', 'ERD 1', 'ES 250', 'ES 300', 'ES 300h', 'ES 330', 'ES 350', 'EX35', 'EX35 AWD', 'EX37', 'EX37 AWD', 'EXP', 'Eagle', 'Eagle 4DR Wagon', 'Eagle 4WD', 'Eagle SX/4 4WD', 'Echo', 'Eclipse', 'Eclipse Convertible', 'Eclipse Spyder', 'Edge AWD', 'Edge FWD', 'Eight/Mulsan', 'Eight/Mulsanne S', 'Eight/Mulsanne S and S', 'Eighty-Eight', 'Eighty-Eight/Regency', 'Eighty-Eight/Regency/LSS', 'El Camino Pickup 2WD', 'Elan', 'Elantra', 'Elantra Blue', 'Elantra Coupe', 'Elantra GT', 'Elantra Hatchback', 'Elantra Limited', 'Elantra SE', 'Elantra Touring', 'Elantra Wagon', 'Eldorado', 'Eldorado Convertible', 'Electra/Park Avenue', 'Element 2WD', 'Element 4WD', 'Elise/Exige', 'Elise/exige', 'Enclave AWD', 'Enclave FWD', 'Encore', 'Encore AWD', 'Endeavor', 'Endeavor 2WD', 'Endeavor 4WD', 'Endeavor AWD', 'Entourage', 'Envision AWD', 'Envision FWD', 'Envoy 2WD', 'Envoy 4WD', 'Envoy XL 2WD', 'Envoy XL 4WD', 'Envoy XUV 2WD', 'Envoy XUV 4WD', 'Enzo Ferrari', 'Eos', 'Epica', 'Equator 2WD', 'Equator 4WD', 'Equinox AWD', 'Equinox FWD', 'Equus', 'Escalade 2WD', 'Escalade 2WD FFV', 'Escalade 4WD', 'Escalade AWD', 'Escalade AWD FFV', 'Escalade ESV 2WD', 'Escalade ESV 2WD FFV', 'Escalade ESV 4WD', 'Escalade ESV AWD', 'Escalade Ext AWD', 'Escalade Hybrid 2WD', 'Escalade Hybrid 4WD', 'Escape 2WD', 'Escape 4WD', 'Escape 4WD FFV', 'Escape AWD', 'Escape AWD FFV', 'Escape FWD', 'Escape FWD FFV', 'Escape Hybrid 2WD', 'Escape Hybrid 4WD', 'Escape Hybrid AWD', 'Escape Hybrid FWD', 'Escort', 'Escort FS', 'Escort Wagon', 'Escort ZX2', 'Espirit Turbo', 'Esprit Turbo', 'Esprit Turbo HC PI', 'Esprit V8', 'Esprit.v8', 'Estate Wagon', 'Esteem', 'Esteem Wagon', 'Eurovan', 'Eurovan Camper', 'Evora', 'Excel', 'Executive Sedan/Limousine', 'Expedition 2WD', 'Expedition 2WD FFV', 'Expedition 4WD', 'Expedition 4WD FFV', 'Expedition EL 2WD', 'Expedition EL 4WD', 'Expedition Limo. 2WD FFV', 'Explorer 2WD', 'Explorer 2WD FFV', 'Explorer 4WD', 'Explorer 4WD FFV', 'Explorer AWD', 'Explorer AWD FFV', 'Explorer FWD', 'Explorer Sport 2WD', 'Explorer Sport 2WD FFV', 'Explorer Sport 4WD', 'Explorer Sport 4WD FFV', 'Explorer Sport Trac 2WD', 'Explorer Sport Trac 2WD FFV', 'Explorer Sport Trac 4WD', 'Explorer Sport Trac 4WD FFV', 'Explorer USPS 2WD', 'Explorer USPS 2WD FFV', 'Explorer USPS 4WD', 'Explorer USPS 4WD FFV', 'Expo', 'Expo.LRV', 'Express 1500 2WD Cargo', 'Express 1500 2WD Cargo FFV', 'Express 1500 2WD Conversion Cargo', 'Express 1500 2WD Conversion Cargo FFV', 'Express 1500 2WD Passenger', 'Express 1500 2WD Passenger FFV', 'Express 1500 AWD', 'Express 1500 AWD Cargo', 'Express 1500 AWD Cargo FFV', 'Express 1500 AWD Conversion Cargo', 'Express 1500 AWD Conversion Cargo FFV', 'Express 1500 AWD Passenger', 'Express 1500 AWD Passenger FFV', 'Express 1500/2500 2WD', 'Express 2500 2WD Cargo', 'Express 2500 2WD Conversion Cargo', 'Express 2500 2WD Passenger', 'Express 3500 2WD Cargo', 'Express 3500 2WD Passenger', 'Express Cargo (Bi-fuel)', 'Express Cargo (dedicated CNG)', 'Express Passenger (Bi-fuel)', 'Express Passenger (dedicated CNG)', 'F 40', 'F-Pace', 'F-Type Convertible', 'F-Type Coupe', 'F-Type R AWD Convertible', 'F-Type R AWD Coupe', 'F-Type R Convertible', 'F-Type R Coupe', 'F-Type S AWD Convertible', 'F-Type S AWD Coupe', 'F-Type S Convertible', 'F-Type S Coupe', 'F-Type V8 S Convertible', 'F12', 'F12 Berlinetta', 'F12 tdf', 'F141', 'F150 2.7L 2WD GVWR>6649 LBS PAYLOAD PACKAGE', 'F150 2.7L 4WD GVWR>6799 LBS PAYLOAD PACKAGE', 'F150 3.5L 2WD GVWR>7599 LBS PAYLOAD PACKAGE', 'F150 3.5L 4WD GVWR>7599 LBS PAYLOAD PACKAGE', 'F150 5.0L 2WD FFV GVWR>7599 LBS PAYLOAD PACKAGE', 'F150 5.0L 4WD FFV GVWR>7599 LBS PAYLOAD PACKAGE', 'F150 CNG', 'F150 Dual-fuel 2WD (CNG)', 'F150 Dual-fuel 2WD (LPG)', 'F150 Dual-fuel 4WD (CNG)', 'F150 Dual-fuel 4WD (LPG)', 'F150 Pickup 2WD', 'F150 Pickup 2WD CNG', 'F150 Pickup 2WD FFV', 'F150 Pickup 4WD', 'F150 Pickup 4WD FFV', 'F150 Raptor Pickup 4WD', 'F150 SFE 2WD', 'F150 STX SE 2WD', 'F150 STX SE 2WD FFV', 'F150 Supercharged', 'F250', 'F250 Pickup 2WD', 'F250 Pickup 2WD CNG', 'F250 Pickup 4WD', 'F250 Pickup Cab Chassis 2WD', 'F355/355 F1', 'F40', 'F430', 'F60 America', 'FF', 'FJ Cruiser 2WD', 'FJ Cruiser 4WD', 'FJ8c Post Office', 'FR-S', 'FX35 2WD', 'FX35 AWD', 'FX35 RWD', 'FX37 AWD', 'FX37 RWD', 'FX45 AWD', 'FX50', 'FX50 AWD', 'Ferrari 348 TB/TS', 'Ferrari 348 TB/TS/Spider', 'Ferrari 456', 'Ferrari 456 GT', 'Ferrari 456 GT/GTA', 'Ferrari 512 TR', 'Ferrari 550 Maranello', 'Ferrari F355', 'Ferrari F355 Berlinetta/GTS', 'Ferrari F355/355 F1', 'Ferrari F50', 'Ferrari F512M', 'Ferrari Mondial T/Cabriolet', 'Festiva', 'Fiero', 'Fiesta', 'Fiesta FWD', 'Fiesta SFE', 'Fiesta SFE FWD', 'Fiesta ST FWD', 'Fifth Avenue/Imperial', 'Firebird', 'Firebird/Formula', 'Firebird/Trans Am', 'Firebird/Trans Am/Formula', 'Firefly', 'Firefly FE', 'Firenza', 'Firenza Cruiser', 'Firenza Cruiser Wagon', 'Fit', 'Five Hundred AWD', 'Five Hundred FWD', 'Fleetwood', 'Fleetwood Brougham', 'Fleetwood Brougham (RWD)', 'Fleetwood/DeVille', 'Fleetwood/DeVille (FWD)', 'Flex AWD', 'Flex FWD', 'Flying Spur', 'Focus', 'Focus FWD', 'Focus FWD FFV', 'Focus RS AWD', 'Focus SFE FWD', 'Focus SFE FWD FFV', 'Focus ST FWD', 'Focus Station Wagon', 'Foose F150 Regular Cab 2WD', 'Foose F150 Regular Cab 4WD', 'Foose F150 Super Cab 2WD', 'Foose F150 Super Cab 4WD', 'Foose F150 Super Crew 2WD', 'Foose F150 Super Crew 4WD', 'Forenza', 'Forenza Wagon', 'Forester AWD', 'Formal', 'Forsa', 'Forsa Turbo', 'Forte', 'Forte 5', 'Forte Eco', 'Forte Koup', 'Fox', 'Fox GL Wagon', 'Fox Wagon', 'Freelander', 'Freelander 3 Door', 'Freelander 5 Door', 'Freestar Cargo Van FWD', 'Freestar Wagon FWD', 'Freestyle AWD', 'Freestyle FWD', 'Frontier 2WD', 'Frontier 4WD', 'Frontier V6 2WD', 'Frontier V6 4WD', 'Fuego', 'Funeral Coach', 'Funeral Coach  2WD', 'Funeral Coach / Hearse', 'Funeral Coach/Hearse', 'Fusion', 'Fusion AWD', 'Fusion AWD FFV', 'Fusion Energi Plug-in Hybrid', 'Fusion FWD', 'Fusion FWD FFV', 'Fusion Hybrid FWD', 'Fusion S FWD', 'G10/20 Sport Van 2WD', 'G10/20 Van 2WD', 'G10/20 Van 2WD (cargo)', 'G15/25 Rally 2WD', 'G15/25 Vandura 2WD', 'G20', 'G25', 'G25x', 'G3 (3-Door)', 'G3 (5-Door)', 'G3 Wave', 'G3 Wave 5', 'G30 Sport Van 2WD', 'G30 Van 2WD', 'G30 Van 2WD (cargo)', 'G35', 'G35 Coupe', 'G35 Rally 2WD', 'G35 Vandura 2WD', 'G35x', 'G37', 'G37 Convertible', 'G37 Coupe', 'G37x', 'G37x Coupe', 'G5', 'G5 GT', 'G5 XFE', 'G5/Pursuit', 'G500', 'G55 AMG', 'G550', 'G6', 'G6 FFV', 'G6 GT/GTP Convertible', 'G63 AMG', 'G8', 'G80 AWD', 'G80 RWD', 'G90 AWD', 'G90 RWD', 'GL320 Bluetec', 'GL320 CDI 4matic', 'GL350 Bluetec', 'GL350 Bluetec 4matic', 'GL450 4matic', 'GL550 4matic', 'GL63 AMG', 'GLA250', 'GLA250 4matic', 'GLA45 AMG 4matic', 'GLC', 'GLC Wagon', 'GLC300', 'GLC300 4matic', 'GLE300 d 4matic', 'GLE350', 'GLE350 4matic', 'GLE350 d 4matic', 'GLE400 4matic', 'GLE450 AMG Coupe', 'GLE550e 4matic', 'GLH-S', 'GLK250 Bluetec 4matic', 'GLK350', 'GLK350 4matic', 'GLS450 4matic', 'GLS550 4matic', 'GNX', 'GS 200t', 'GS 200t F Sport', 'GS 300', 'GS 300 4WD', 'GS 300/GS 400', 'GS 300/GS 430', 'GS 350', 'GS 350 AWD', 'GS 350 F Sport', 'GS 430', 'GS 450h', 'GS 460', 'GS F', 'GS300', 'GT', 'GT 2WD', 'GT V6 2.5', 'GT-R', 'GTA', 'GTA Convertible', 'GTC4Lusso', 'GTI', 'GTI 16v', 'GTI VR6', 'GTI/Golf GT', 'GTO', 'GTV', 'GV', 'GV Plus/GV/Cabrio', 'GV/GVX', 'GX 460', 'GX 470', 'Galant', 'Galant Sigma', 'Gallardo Coupe', 'Gallardo Coupe SL', 'Gallardo Spyder', 'Genesis', 'Genesis AWD', 'Genesis Coupe', 'Genesis R Spec', 'Genesis R-Spec', 'Genesis RWD', 'Ghibli  S RWD', 'Ghibli V6', 'Ghibli V6 AWD', 'Ghibli V6 SQ4', 'Ghibli V6 SQ4 AWD', 'Ghost', 'Ghost EWB', 'Goldacre Limited', 'Golf', 'Golf III', 'Golf III / GTI', 'Golf R', 'Golf SportWagen', 'Golf/GTI', 'Gran Fury', 'GranTurismo', 'GranTurismo Convertible', 'Grand Am', 'Grand Caravan', 'Grand Caravan FFV', 'Grand Cherokee 2WD', 'Grand Cherokee 4WD', 'Grand Cherokee SRT 4WD', 'Grand Cherokee SRT8', 'Grand Cherokee SRT8 4WD', 'Grand Cherokee SRT8 AWD', 'Grand Marquis', 'Grand Marquis FFV', 'Grand Marquis Wagon', 'Grand Prix', 'Grand Prix Ste Turbo', 'Grand Prix Turbo', 'Grand Vitara', 'Grand Vitara 4Door 2WD', 'Grand Vitara 4Door 4WD', 'Grand Vitara 4WD', 'Grand Vitara AWD', 'Grand Vitara XL7', 'Grand Vitara XL7 4WD', 'Grand Wagoneer', 'Grand Wagoneer 4WD', 'Gy/yugo GVX', 'H3 4WD', 'H3 4WD FFV', 'H3T 4WD', 'H3T 4WD FFV', 'HHR FWD', 'HHR FWD FFV', 'HHR Panel FWD', 'HHR Panel FWD FFV', 'HR-V 2WD', 'HR-V 4WD', 'HR-V AWD', 'HR-V FWD', 'HS 250h', 'Hardbody 2WD', 'Hardbody 4WD', 'Hatchback', 'Hatchback 4WD', 'Heritage', 'Highlander 2WD', 'Highlander 4WD', 'Highlander AWD', 'Highlander Hybrid 2WD', 'Highlander Hybrid 4WD', 'Highlander Hybrid 4WD LE Plus', 'Hombre Pickup 2WD', 'Hombre Pickup 2WD (FFV)', 'Hombre Pickup 4WD', 'Horizon', 'Huayra Coupe', 'Huracan', 'Huracan 2WD', 'Huracan Spyder', 'Huracan Spyder 2WD', 'I-Mark', 'I30', 'I35', 'ILX', 'ILX Hybrid', 'IS 200t', 'IS 250', 'IS 250 AWD', 'IS 250 C', 'IS 250/IS 250C', 'IS 300', 'IS 300 AWD', 'IS 350', 'IS 350 AWD', 'IS 350 C', 'IS 350/IS 350C', 'IS F', 'ITS 190E', 'ITS 190E 2.0', 'ITS 190E 2.3', 'ITS 200TE', 'ITS 230CE', 'ITS 230TE', 'ITS 320', 'ITS 520', 'Impala', 'Impala Bi-Fuel  (CNG)', 'Impala FFV', 'Impala Limited', 'Impala Police', 'Impala eAssist', 'Impala/Caprice', 'Imperial/New Yorker Fifth Avenue', 'Impreza', 'Impreza AWD', 'Impreza Sport AWD', 'Impreza Wagon', 'Impreza Wagon AWD', 'Impreza Wagon/Outback SPT AWD', 'Impreza Wagon/Outback Sport', 'Impreza Wagon/Outback Sport AWD', 'Impulse', 'Insight', 'Integra', 'Intrepid', 'Intrigue', 'Ion', 'J-10 Pickup 4WD', 'J-10 Pickup Truck', 'J-10 Pickup Truck 4WD', 'J-20 Pickup Truck', 'J-20 Pickup Truck 4WD', 'J-Car/Elantra', 'J30', 'JCW Countryman All4', 'JCW Countryman Coupe All4', 'JCW Paceman All4', 'JX/JXI/Limited Convertible', 'JX35 AWD', 'JX35 FWD', 'Jetta', 'Jetta GLI', 'Jetta GLI 16v', 'Jetta GLI/Wolfsburg Edition', 'Jetta GLX', 'Jetta Hybrid', 'Jetta III', 'Jetta III GLX', 'Jetta SportWagen', 'Jetta Wagon', 'Jimmy 2WD', 'Jimmy 4WD', 'Jimmy AWD', 'Jimmy Sonoma 2WD', 'Jimmy Sonoma 4WD', 'Jimmy V1500 4WD', 'John Cooper Works', 'John Cooper Works Clubman', 'John Cooper Works Convertible', 'John Cooper Works Coupe', 'John Cooper Works GP-2', 'John Cooper Works Hardtop', 'John Cooper Works Roadster', 'Journey', 'Journey  2WD', 'Journey  4WD', 'Journey  AWD', 'Journey AWD', 'Journey FWD', 'Juke', 'Juke AWD', 'Juke Nismo RS', 'Juke Nismo RS AWD', 'Justy', 'Justy 4WD', 'Justy AWD', 'K10 Blazer 4WD', 'K10 Pickup 4WD', 'K15 Jimmy 4WD', 'K15 Pickup 4WD', 'K15 Suburban 4WD', 'K1500 Pickup 4WD', 'K20 Pickup 4WD', 'K25 Pickup 4WD', 'K2500 Pickup 4WD', 'K2500 Sierra 4WD', 'K5/K10 Blazer 4WD', 'K900', 'Kallista', 'Kalos', 'Karif', 'Karma', 'Kizashi', 'Kizashi AWD', 'Kizashi S', 'Kizashi S AWD', 'Kubvan', 'L-140/141 Gallardo', 'L-140/715 Gallardo', 'L-147 Murcielago', 'L-147/148 Murcielago', 'L100/200', 'L200', 'L300', 'LFA', 'LHS', 'LLV', 'LR2', 'LR3', 'LR4', 'LS', 'LS 400', 'LS 430', 'LS 460', 'LS 460 AWD', 'LS 460 L', 'LS 460 L AWD', 'LS 600h L', 'LTD', 'LTD Crown Victoria', 'LTD Crown Victoria Wagon', 'LTD Crown Victoria/Country Squire Wagon', 'LTD Wagon', 'LW', 'LW200', 'LW300', 'LX 450', 'LX 470', 'LX 570', 'LaCrosse', 'LaCrosse AWD', 'LaCrosse eAssist', 'LaFerrari Aperta', 'LaFerrari Hybrid', 'Lacetti', 'Lacrosse/Allure', 'Lacrosse/Allure AWD', 'Laforza', 'Lagonda', 'Lancer', 'Lancer 4WD', 'Lancer AWD', 'Lancer Convertible', 'Lancer Evolution', 'Lancer Sportback', 'Land Cruiser Wagon 4WD', 'Landaulet', 'Lanos', 'Laser', 'Laser/Daytona', 'LeBaron', 'LeBaron Convertible', 'LeBaron GTS', 'LeBaron Landau', 'LeSabre', 'LeSabre/Electra Wagon', 'Legacy', 'Legacy 4WD', 'Legacy 4WD Turbo', 'Legacy AWD', 'Legacy AWD (incl. Outback)', 'Legacy AWD Turbo', 'Legacy Turbo', 'Legacy Wagon', 'Legacy Wagon 4WD', 'Legacy Wagon AWD', 'Legacy Wagon AWD (incl. Outback)', 'Legacy Wagon AWD Turbo', 'Legacy/Outback AWD', 'Legacy/Outback Wagon AWD', 'Leganza', 'Legend', 'Lemans', 'Levante', 'Levante S', 'Liberty 2WD', 'Liberty 4WD', 'Liberty/Cherokee 2WD', 'Liberty/Cherokee 4WD', 'Lightning F150 2WD', 'Lightning Pickup 2WD', 'Limousine', 'Lincoln 100J', 'Lincoln 24E', 'Lincoln 85J', 'Lincoln Eagle/Windsor', 'Lincoln Eaton', 'Lincoln Stratford', 'London Taxi', 'Loyale', 'Loyale 4WD', 'Loyale 4WD Turbo', 'Loyale AWD', 'Loyale Wagon', 'Loyale Wagon 4WD', 'Loyale Wagon 4WD Turbo', 'Loyale Wagon AWD', 'Lucerne', 'Lucerne FFV', 'Lumina', 'Lumina Minivan 2WD', 'Lumina/APV Minivan 2WD', 'Lumina/Monte Carlo', 'Lynx', 'Lynx Wagon', 'M Coupe', 'M Roadster', 'M1 Coupe', 'M2', 'M235i', 'M235i Convertible', 'M235i xDrive', 'M235i xDrive Convertible', 'M240i Convertible', 'M240i Coupe', 'M240i xDrive Convertible', 'M240i xDrive Coupe', 'M3', 'M3 Convertible', 'M3 Coupe', 'M3 Sedan', 'M30', 'M35', 'M35h', 'M35x', 'M37', 'M37x', 'M4 Convertible', 'M4 Coupe', 'M4 GTS', 'M45', 'M45x', 'M5', 'M56', 'M56x', 'M6', 'M6 Convertible', 'M6 Coupe', 'M6 Gran Coupe', 'MB 300E', 'MB 300SL', 'MDX', 'MDX 2WD', 'MDX 4WD', 'MDX AWD', 'MDX FWD', 'MERC BENZ 300CE', 'MERC BENZ 300E', 'MERC BENZ 300SE', 'MERC BENZ 300SEL', 'MERC BENZ 300TE', 'MERC.BENZ 260E', 'MERC.BENZ.300SE', 'MKC  AWD', 'MKC  FWD', 'MKC AWD', 'MKC FWD', 'MKS AWD', 'MKS FWD', 'MKT AWD', 'MKT FWD', 'MKT Hearse AWD', 'MKT Livery AWD', 'MKT Livery FWD', 'MKX AWD', 'MKX FWD', 'MKZ AWD', 'MKZ FWD', 'MKZ Hybrid FWD', 'ML250 Bluetec 4matic', 'ML320', 'ML320 Bluetec', 'ML320 CDI 4matic', 'ML350', 'ML350 4matic', 'ML350 Bluetec', 'ML350 Bluetec 4matic', 'ML400 4matic', 'ML430', 'ML450 Hybrid 4matic', 'ML500', 'ML500 4matic', 'ML55', 'ML55 AMG', 'ML550 4matic', 'ML63 AMG', 'MP4-12C Coupe', 'MP4-12C Spider', 'MPV', 'MPV 4WD', 'MPV 4x4', 'MR2', 'MV-1', 'MV-1 CNG', 'MX-3', 'MX-5', 'MX-5 Miata', 'MX-6', 'Macan', 'Macan GTS', 'Macan S', 'Macan Turbo', 'Magnum', 'Magnum 2WD', 'Magnum AWD', 'Magnus', 'Malibu', 'Malibu FFV', 'Malibu Hybrid', 'Malibu Limited', 'Malibu Maxx', 'Malibu eAssist', 'Marauder', 'Mariner 2WD', 'Mariner 4WD', 'Mariner 4WD FFV', 'Mariner FWD', 'Mariner FWD FFV', 'Mariner Hybrid 4WD', 'Mariner Hybrid FWD', 'Mark LT', 'Mark LT 4WD', 'Mark VII', 'Mark VIII', 'Marquis', 'Marquis Wagon', 'Matrix', 'Matrix AWD', 'Maxima', 'Maxima Wagon', 'Maybach S 600', 'Maybach S600', 'Medallion Sedan', 'Medallion Wagon', 'Metris (Cargo Van)', 'Metris (Passenger Van)', 'Metro', 'Metro LSI', 'Metro LSI Convertible', 'Metro XFI', 'Milan', 'Milan AWD', 'Milan AWD FFV', 'Milan FFV', 'Milan FWD', 'Milan FWD FFV', 'Milan Hybrid FWD', 'Milan S', 'Milan S FWD', 'Milano', 'Millenia', 'Mirage', 'Mirage G4', 'Mirage Wagon', 'Monaco', 'Mondial', 'Mondial T/Cabriolet', 'Mondial/Cabriolet', 'Montana AWD', 'Montana FWD', 'Montana SV6 AWD', 'Montana SV6 FWD', 'Montana SVX AWD', 'Montana SVX FWD', 'Monte Carlo', 'Montego AWD', 'Montego FWD', 'Monterey Wagon FWD', 'Montero', 'Montero 4WD', 'Montero Sport 2WD', 'Montero Sport 4WD', 'Morgan Plus 8', 'Mountaineer 2WD', 'Mountaineer 2WD FFV', 'Mountaineer 4WD', 'Mountaineer 4WD FFV', 'Mountaineer AWD', 'Mountaineer FFV 2WD', 'Mountaineer FFV 4WD', 'Mulsanne', 'Murano 2WD', 'Murano AWD', 'Murano CrossCabriolet', 'Murano FWD', 'Murano Hybrid AWD', 'Murano Hybrid FWD', 'Murcielago', 'Murcielago Reventon', 'Murcielago Reventon Roadster', 'Murcielago Roadster', 'Mustang', 'Mustang Convertible', 'Mustang GT', 'Mustang Performance Package', 'Mustang S351', 'Mystique', 'NSX', 'NSX Hybrid', 'NV200 Cargo Van', 'NV200 NYC Taxi', 'NX', 'NX 200t', 'NX 200t AWD', 'NX 200t AWD F Sport', 'NX 300h', 'NX 300h AWD', 'NX Coupe', 'Nativa 2WD', 'Nativa 2WD (Puerto Rico Only)', 'Nativa 2WD(Puerto Rico Only)', 'Nativa 4WD', 'Nativa 4WD (Puerto Rico Only)', 'Navajo', 'Navajo 4x4', 'Navigator 2WD', 'Navigator 2WD FFV', 'Navigator 4WD', 'Navigator 4WD FFV', 'Navigator L 2WD', 'Navigator L 4WD', 'Navigator Limo. 2WD FFV', 'Neon', 'Neon/SRT-4/SX 2.0', 'New 911 Carrera', 'New 911 Carrera Cabriolet', 'New 911 Carrera S', 'New 911 Carrera S Cabriolet', 'New Beetle', 'New Beetle Convertible', 'New C70 Convertible', 'New GTI', 'New Golf', 'New Jetta', 'New Yorker', 'New Yorker Fifth Avenue/Imperial', 'New Yorker Turbo', 'New Yorker/5th Avenue', 'New Yorker/LHS', 'Newport/Fifth Avenue', 'Ninety-Eight', 'Ninety-Eight Regency', 'Ninety-Eight/Touring', 'Nitro 2WD', 'Nitro 4WD', 'Niva', 'Nova', 'Nubira', 'Nubira Station Wagon', 'Nubira Wagon', 'Oasis', 'Odyssey', 'Omni', 'Optima', 'Optima (2006 New Model)', 'Optima FE', 'Optima Hybrid', 'Optima Hybrid EX', 'Optra', 'Optra 5', 'Optra Wagon', 'Outback AWD', 'Outback Wagon AWD', 'Outlander 2WD', 'Outlander 4WD', 'Outlander Sport 2WD', 'Outlander Sport 4WD', 'Outlook AWD', 'Outlook FWD', 'P1', 'PORSCHE 928 S4', 'PT Cruiser', 'PT Cruiser Convertible', 'Pacifica', 'Pacifica 2WD', 'Pacifica AWD', 'Pacifica FWD', 'Panamera', 'Panamera 4', 'Panamera 4S', 'Panamera 4S Executive', 'Panamera GTS', 'Panamera S', 'Panamera S E-Hybrid', 'Panamera S Hybrid', 'Panamera Turbo', 'Panamera Turbo Executive', 'Panamera Turbo S', 'Panamera Turbo S Executive', 'Panoz Roadster', 'Parisienne', 'Parisienne Wagon', 'Park Avenue', 'Park Ward', 'Pas-Syclone', 'Pas-Typhoon', 'Pas-typhoon', 'Paseo', 'Paseo Convertible', 'Passat', 'Passat 4motion', 'Passat Syncro', 'Passat Wagon', 'Passat Wagon 4motion', 'Passat Wagon Syncro', 'Passport 2WD', 'Passport 4WD', 'Pathfinder 2WD', 'Pathfinder 4WD', 'Pathfinder 4WD Platinum', 'Pathfinder Armada 2WD', 'Pathfinder Armada 4WD', 'Pathfinder FE 2WD', 'Pathfinder Hybrid 2WD', 'Pathfinder Hybrid 4WD', 'Pathfinder Van (cargo)', 'Patriot 2WD', 'Patriot 4WD', 'Patriot FWD', 'Phaeton', 'Phantom', 'Phantom Coupe', 'Phantom Drophead Coupe', 'Phantom EWB', 'Pickup 2500 2WD', 'Pickup 2500 4WD', 'Pickup 2WD', 'Pickup 2WD 1-Ton', 'Pickup 4WD', 'Pilot 2WD', 'Pilot 4WD', 'Plus Eight', 'Pony Excel', 'Post Office DJ5 2WD', 'Post Office DJ8 2WD', 'Postal Cab Chassis 2WD', 'Postal Vehicle', 'Power Ram 50 4WD', 'Power Ram 50 Pickup 4WD', 'Power Ram50 4WD', 'Precis', 'Prelude', 'Premier', 'Previa', 'Previa All-Trac', 'Prius', 'Prius Eco', 'Prius Plug-in Hybrid', 'Prius c', 'Prius v', 'Prizm', 'Probe', 'Promaster City', 'Protege', 'Protege/Protege 5', 'Protege/Protege MPS', 'Prowler', 'Pulsar NX', 'Pulsar/Pulsar-NX', 'Q', 'Q3', 'Q3 quattro', 'Q40', 'Q40 AWD', 'Q45', 'Q45 Full-Active Suspension', 'Q45 Sport', 'Q5', 'Q5 Hybrid', 'Q50', 'Q50 AWD', 'Q50 Hybrid', 'Q50 Hybrid AWD', 'Q50S', 'Q50S AWD', 'Q50S Hybrid', 'Q50S Hybrid AWD', 'Q50S Red Sport', 'Q50S Red Sport  AWD', 'Q50a', 'Q50a AWD', 'Q60', 'Q60 AWD', 'Q60 AWD Coupe', 'Q60 Convertible', 'Q60 Coupe', 'Q60S Red Sport', 'Q60S Red Sport AWD', 'Q7', 'Q70', 'Q70 AWD', 'Q70 Hybrid', 'QC Car', 'QX30', 'QX30 AWD', 'QX4 2WD', 'QX4 4WD', 'QX50', 'QX50 AWD', 'QX56 2WD', 'QX56 4WD', 'QX60 AWD', 'QX60 FWD', 'QX60 Hybrid AWD', 'QX60 Hybrid FWD', 'QX70 AWD', 'QX70 RWD', 'QX80 2WD', 'QX80 4WD', 'QX80 4WD (over 6000 lbs curb weight)', 'Quantum', 'Quantum Syncro Wagon', 'Quantum Wagon', 'Quattro', 'Quattroporte', 'Quattroporte GTS', 'Quattroporte S', 'Quattroporte SQ4 V6', 'Quattroporte/QP Sport GT', 'Quest', 'R10 Pickup 2WD', 'R10 Suburban 2WD', 'R15 Pickup 2WD', 'R15 Suburban 2WD', 'R1500 Suburban 2WD', 'R20 (C20) Pickup 2WD', 'R25 Pickup 2WD', 'R32', 'R320 Bluetec', 'R320 CDI 4matic', 'R350', 'R350 4matic', 'R350 Bluetec', 'R350 Bluetec 4matic', 'R500', 'R500 4matic', 'R63 AMG', 'R8', 'R8 Spyder', 'RAV4', 'RAV4 2WD', 'RAV4 4WD', 'RAV4 AWD', 'RAV4 Hybrid AWD', 'RAV4 LE/XLE', 'RAV4 Limited AWD', 'RAV4 Limited AWD/SE AWD', 'RAV4 Soft Top 2WD', 'RAV4 Soft Top 4WD', 'RC 200t', 'RC 300 AWD', 'RC 350', 'RC 350 AWD', 'RC F', 'RDX 2WD', 'RDX 4WD', 'RDX AWD', 'RDX FWD', 'RL', 'RLX', 'RLX Hybrid', 'RS 5', 'RS 5 Cabriolet', 'RS 7', 'RS4', 'RS4 Cabriolet', 'RS6', 'RSX', 'RX 300', 'RX 300 4WD', 'RX 330 2WD', 'RX 330 4WD', 'RX 350', 'RX 350 2WD', 'RX 350 4WD', 'RX 350 AWD', 'RX 400h 2WD', 'RX 400h 4WD', 'RX 450h', 'RX 450h AWD', 'RX-7', 'RX-8', 'Rabbit', 'Raider', 'Raider 4WD', 'Raider Pickup 2WD', 'Raider Pickup 4WD', 'Rainier 2WD', 'Rainier AWD', 'Rally G15/25 2WD', 'Rally G15/25 2WD (passenger)', 'Rally G35 2WD', 'Ram 1500 Pickup 2WD', 'Ram 1500 Pickup 2WD FFV', 'Ram 1500 Pickup 4WD', 'Ram 1500 Pickup 4WD FFV', 'Ram 2500 Pickup 2WD', 'Ram 2500 Pickup 4WD', 'Ram 50 Pickup 2WD', 'Ram Van 1500 2WD', 'Ram Van 2500 2WD', 'Ram Van 2500 2WD CNG', 'Ram Wagon 1500 2WD', 'Ram Wagon 2500 2WD', 'Ram Wagon 2500 2WD CNG', 'Ramcharger 2WD', 'Ramcharger 4WD', 'Rampage Pickup 2WD', 'Range Rover', 'Range Rover 4.0', 'Range Rover 4.6', 'Range Rover County', 'Range Rover County Classic', 'Range Rover County LWB', 'Range Rover Evoque', 'Range Rover Evoque Convertible', 'Range Rover FFV', 'Range Rover L FFV', 'Range Rover LWB', 'Range Rover Sport', 'Range Rover Sport FFV', 'Range Rover Sport TDV6', 'Range Rover TDV6', 'Ranger 2WD', 'Ranger 2WD FFV', 'Ranger 4WD', 'Ranger 4WD FFV', 'Ranger Pickup 2WD', 'Ranger Pickup 4WD', 'Ranger Pickup Cab Chassis', 'Ranger Pickup Cab Chassis 2WD', 'Ranger2WD FFV', 'Rapide', 'Rapide S', 'Reatta', 'Regal', 'Regal AWD', 'Regal eAssist', 'Regal/Century', 'Relay AWD', 'Relay FWD', 'Reliant', 'Reliant Wagon', 'Renaissance', 'Renault Medallion Sedan', 'Renault Medallion Wagon', 'Rendezvous AWD', 'Rendezvous FWD', 'Renegade 2WD', 'Renegade 4WD', 'Reno', 'Ridgeline AWD', 'Ridgeline FWD', 'Ridgeline Truck 4WD', 'Rio', 'Rio Eco', 'Riviera', 'Riviera Convertible', 'Roadmaster', 'Roadmaster Wagon', 'Roadster', 'Roadster V8', 'Rocky 4WD', 'Rodeo 2WD', 'Rodeo 4WD', 'Rodeo Sport 2WD', 'Rodeo Sport 4WD', 'Rogue AWD', 'Rogue FWD', 'Rogue Select AWD', 'Rogue Select FWD', 'Rondo', 'Routan', 'Routan FWD', 'Ruf', 'S-Type', 'S-Type 3.0 Litre', 'S-Type 4.2 Litre', 'S-Type R', 'S-type (X200) V6', 'S-type (X200) V8', 'S10 Blazer 2WD', 'S10 Blazer 4WD', 'S10 Cab Chassis 2WD', 'S10 Pickup 2WD', 'S10 Pickup 2WD FFV', 'S10 Pickup 4WD', 'S10 Utility Body 2WD', 'S15 Cab Chassis 2WD', 'S15 Jimmy 2WD', 'S15 Jimmy 4WD', 'S15 Pickup 2WD', 'S15 Pickup 4WD', 'S15 Utility Body 2WD', 'S2000', 'S281 Family', 'S3', 'S320', 'S331 Family', 'S350', 'S350 Bluetec 4matic', 'S350D', 'S4', 'S4 Avant', 'S4 Cabriolet', 'S40 AWD', 'S40 FWD', 'S400 Hybrid', 'S420', 'S430', 'S430 4matic', 'S5', 'S5 Cabriolet', 'S500', 'S500 4matic', 'S500 Coupe', 'S500 Sedan', 'S55 AMG', 'S550', 'S550 4matic', 'S550 4matic Coupe', 'S550 Convertible', 'S550e', 'S6', 'S6 Avant', 'S6 Wagon', 'S60', 'S60 AWD', 'S60 CC AWD', 'S60 FWD', 'S60 Inscription AWD', 'S60 Inscription FWD', 'S60 PoleStar AWD', 'S60 Polestar AWD', 'S60 R AWD', 'S600', 'S600 Coupe', 'S600 Sedan', 'S63 AMG', 'S63 AMG 4matic', 'S63 AMG 4matic Coupe', 'S65 AMG', 'S65 AMG Convertible', 'S65 AMG Coupe', 'S7', 'S70', 'S70 AWD', 'S8', 'S8 quattro', 'S80', 'S80 AWD', 'S80 FWD', 'S80/S80 Executive', 'S80/S80 Premier', 'S90', 'S90 AWD', 'S90 FWD', 'SA310', 'SC', 'SC 300/SC 400', 'SC 300/SC 430', 'SC 430', 'SJ 410 4WD', 'SJ 410V 4WD', 'SJ410K P/U 4WD', 'SKY', 'SL', 'SL320', 'SL400', 'SL450', 'SL500', 'SL55 AMG', 'SL550', 'SL600', 'SL63 AMG', 'SL65 AMG', 'SLC300', 'SLK230', 'SLK230 Kompressor', 'SLK250', 'SLK280', 'SLK300', 'SLK32 AMG', 'SLK320', 'SLK350', 'SLK55 AMG', 'SLR', 'SLS AMG', 'SLS AMG Black Series Coupe', 'SLS AMG Coupe', 'SLS AMG GT Coupe', 'SLS AMG GT Roadster', 'SLS AMG Roadster', 'SLX', 'SQ5', 'SRX', 'SRX 2WD', 'SRX AWD', 'SS', 'SSC', 'SSR Pickup 2WD', 'STS', 'STS 2WD', 'STS AWD', 'STS-V', 'SVX', 'SVX AWD', 'SW', 'SX4', 'SX4 AWD', 'SX4 Sedan', 'SX4 Sport', 'SX4 Sport/Anniversary Edition', 'Sable', 'Sable (FFV)', 'Sable AWD', 'Sable FWD', 'Sable Wagon', 'Sable Wagon (FFV)', 'Sable Wagon 3.0 A/C', 'Sable Wagon V6 A/C', 'Safari 2WD (Passenger)', 'Safari 2WD (cargo)', 'Safari 2WD (passenger)', 'Safari 2WD Conversion (cargo)', 'Safari AWD (Passenger)', 'Safari AWD (cargo)', 'Safari AWD (passenger)', 'Safari AWD Conversion (cargo)', 'Safari Wagon', 'Saloon/Vantage/Volante', 'Samurai', 'Samurai 2WD', 'Samurai Convertible', 'Samurai Hardtop', 'Samurai Hardtop 4WD', 'Samurai Soft-top 4WD', 'Santa Fe 2WD', 'Santa Fe 4WD', 'Santa Fe AWD', 'Santa Fe FWD', 'Santa Fe Sport 2WD', 'Santa Fe Sport 4WD', 'Santa Fe Sport AWD', 'Santa Fe Sport FWD', 'Santa Fe Sport Ultimate AWD', 'Santa Fe Sport Ultimate FWD', 'Santa Fe Ultimate 2WD', 'Santa Fe Ultimate 4WD', 'Santa Fe Ultimate AWD', 'Santa Fe Ultimate FWD', 'Savana (cargo) (Bi-fuel)', 'Savana 15/25 2WD Conversion (cargo)', 'Savana 15/25 AWD Conversion (cargo)', 'Savana 1500  2WD Conversion (cargo)', 'Savana 1500  AWD (cargo)', 'Savana 1500  AWD (cargo) FFV', 'Savana 1500  AWD Conversion (cargo)', 'Savana 1500  AWD Conversion (cargo) FFV', 'Savana 1500 2WD (Passenger)', 'Savana 1500 2WD (Passenger) FFV', 'Savana 1500 2WD (cargo)', 'Savana 1500 2WD (cargo) FFV', 'Savana 1500 2WD Conversion (cargo)', 'Savana 1500 2WD Conversion (cargo) FFV', 'Savana 1500 AWD (Passenger)', 'Savana 1500 AWD (Passenger) FFV', 'Savana 1500 AWD (cargo)', 'Savana 1500 AWD Conversion (cargo)', 'Savana 1500/2500  2WD (Passenger)', 'Savana 1500/2500 2WD (Passenger)', 'Savana 1500/2500 2WD (cargo)', 'Savana 1500/2500 2WD (passenger)', 'Savana 1500/2500 AWD (cargo)', 'Savana 2500 2WD (Passenger)', 'Savana 2500 2WD (cargo)', 'Savana 2500 2WD Conversion (cargo)', 'Savana 3500 2WD (Passenger)', 'Savana 3500 2WD (cargo)', 'Savana Cargo (dedicated CNG)', 'Savana Passenger (Bi-fuel)', 'Savana Passenger (dedicated CNG)', 'Scirocco', 'Scirocco 16v', 'Scorpio', 'Scoupe', 'Scrambler', 'Scrambler Pickup 4WD', 'Sebring', 'Sebring 4 Door', 'Sebring AWD', 'Sebring Convertible', 'Sebring Convertible FFV', 'Sebring FFV', 'Sedan', 'Sedan 4WD', 'Sedan/3 Door', 'Sedan/3 Door 4WD', 'Sedan/3Door 4WD Turbo', 'Sedona', 'Sedona SX', 'Sedona SXL', 'Sentra', 'Sentra Classic', 'Sentra Coupe', 'Sentra FE', 'Sentra Honeybee', 'Sentra Wagon', 'Sentra Wagon 4WD', 'Sentra/200SX', 'Sephia', 'Sephia/Spectra', 'Sequoia 2WD', 'Sequoia 4WD', 'Sequoia 4WD FFV', 'Series 1', 'Series I', 'Seville', 'Shadow', 'Shadow Convertible', 'Shelby GT350 Mustang', 'Sidekick 2Door 2WD', 'Sidekick 2Door 4WD', 'Sidekick 2Door RWD', 'Sidekick 2WD', 'Sidekick 4Door 2WD', 'Sidekick 4Door 4WD', 'Sidekick 4Door RWD', 'Sidekick Convertible 4WD', 'Sidekick Hardtop 2WD', 'Sidekick Hardtop 4WD', 'Sidekick Soft-top 4WD', 'Sidekick Sport 2WD', 'Sidekick Sport 4WD', 'Sidekick Sport RWD', 'Sienna 2WD', 'Sienna 4WD', 'Sienna AWD', 'Sierra 15 Hybrid 2WD', 'Sierra 15 Hybrid 4WD', 'Sierra 1500 2WD', 'Sierra 1500 4WD', 'Sierra 1500 AWD', 'Sierra 2500 2WD', 'Sierra 2500 4WD', 'Sierra 2500 HD 2WD CNG', 'Sierra 2500 HD 4WD CNG', 'Sierra 2500 Hd 2WD', 'Sierra C15 2WD', 'Sierra C15 2WD FFV', 'Sierra C15 Cab Chassis 2WD', 'Sierra C15 XFE 2WD', 'Sierra C15 XFE 2WD FFV', 'Sierra Classic 15 Hybrid 2WD', 'Sierra Classic 15 Hybrid 4WD', 'Sierra Classic 1500 2WD', 'Sierra Classic 1500 4WD', 'Sierra Classic 1500 AWD', 'Sierra Denali 1500 AWD', 'Sierra K15 4WD', 'Sierra K15 4WD FFV', 'Sierra K15 AWD', 'Sierra K15 AWD FFV', 'Sierra K15 Cab Chassis 4WD', 'Sigma', 'Silhouette 2WD', 'Silhouette AWD', 'Silver Dawn', 'Silver Seraph', 'Silver Spirit II/Silver Spur', 'Silver Spirit III/Spur III', 'Silver Spirit/Silver Spur', 'Silver Spirit/Spur/Mulsanne', 'Silver Spur', 'Silver Spur II Mpw Touring L', 'Silver Spur III Limousine', 'Silver Spur Limousine', 'Silver Spur Park Ward', 'Silver Spur/Silver Dawn', 'Silverado 15 Hybrid 2WD', 'Silverado 15 Hybrid 4WD', 'Silverado 1500 2WD', 'Silverado 1500 4WD', 'Silverado 1500 AWD', 'Silverado 2500 2WD', 'Silverado 2500 2WD (Bifuel)', 'Silverado 2500 HD 2WD', 'Silverado 2500 HD 2WD CNG', 'Silverado 2500 HD 4WD CNG', 'Silverado C15 2WD', 'Silverado C15 2WD FFV', 'Silverado C15 Cab Chassis 2WD', 'Silverado C15 XFE 2WD', 'Silverado C15 XFE 2WD FFV', 'Silverado Classic 15 Hybrid 2WD', 'Silverado Classic 15 Hybrid 4WD', 'Silverado Classic 1500 2WD', 'Silverado Classic 1500 4WD', 'Silverado K15 4WD', 'Silverado K15 4WD FFV', 'Silverado K15 Cab Chassis 4WD', 'Silverado SS 1500 AWD', 'Six Door', 'Skyhawk', 'Skyhawk Wagon', 'Skylark', 'Solstice', 'Somerset Regal', 'Somerset/Skylark', 'Sonata', 'Sonata (Y-3)', 'Sonata Hybrid', 'Sonata Hybrid Limited', 'Sonata Hybrid SE', 'Sonata Limited', 'Sonata Plug-in Hybrid', 'Sonata Sport Limited', 'Sonic', 'Sonic 5', 'Sonic 5 RS', 'Sonic RS', 'Sonoma 2WD', 'Sonoma 2WD (FFV)', 'Sonoma 4WD', 'Sorento 2WD', 'Sorento 4WD', 'Sorento AWD', 'Sorento AWD FE', 'Sorento FE AWD', 'Sorento FWD', 'Soul', 'Soul ECO dynamics', 'Soul Eco', 'Space Wagon', 'Space Wagon 4WD', 'Spark', 'Spectra', 'Spectra 1.8L', 'Spectra 2.0L', 'Spectrum', 'Spectrum Turbo', 'Speed 3', 'Spider', 'Spider Cambiocorsa/Spider GT', 'Spider Cambiocorsa/spider GT', 'Spider Veloce 2000', 'Spirit', 'Spirit III/Spur III/Dawn', 'Sport Van G10/20 2WD', 'Sport Van G10/20 2WD (passenger)', 'Sport Van G30  2WD', 'Sport Van G30 2WD', 'Sport Van G30 2WD (cargo)', 'Sportage 2WD', 'Sportage 4WD', 'Sportage AWD', 'Sportage FE AWD', 'Sportage FE FWD', 'Sportage FWD', 'Sportage SX AWD', 'Sportage SX FWD', 'Sprint', 'Sprint ER', 'Sprint Metro', 'Sprint Plus', 'Spyder', 'Spyder Cambiocorsa/GT/90 ANV', 'Stage 3 F-150 2WD', 'Stage 3 F-150 4WD', 'Stage 3 F-150 Supercab 2WD', 'Stage 3 F-150 Supercab 4WD', 'Stage 3 F-150 Supercrew 2WD', 'Stage 3 F-150 Supercrew 4WD', 'Stage 3 F150 Regular Cab 2WD', 'Stage 3 F150 Regular Cab 4WD', 'Stage 3 F150 Super Cab 2WD', 'Stage 3 F150 Super Cab 4WD', 'Stage 3 F150 Super Crew 2WD', 'Stage 3 F150 Super Crew 4WD', 'Stage 3 Mustang', 'Stage 3 Mustang Coupe', 'Stanza', 'Stanza Wagon 2WD', 'Stanza Wagon 4WD', 'Starion', 'Station Wagon', 'Stealth', 'Storm', 'Stratus', 'Stratus 4 Door', 'Stylus', 'Suburban 1500 2WD', 'Suburban 1500 2WD FFV', 'Suburban 1500 4WD', 'Suburban 1500 AWD', 'Suburban 2500 2WD', 'Suburban 2500 4WD', 'Suburban C10 2WD', 'Suburban C1500 2WD', 'Suburban K10 4WD', 'Suburban K1500 4WD', 'Suburban V1500 4WD', 'Summit', 'Summit Wagon', 'Sunbird', 'Sunbird Convertible', 'Sunbird Wagon', 'Sunburst', 'Sundance', 'Sundance Convertible', 'Sundance/Duster', 'Sunfire', 'Super V8', 'Supra', 'Swift', 'Swift GA', 'Swift GT', 'Swift GTI', 'Swift x', 'T10 (S10) Blazer 4WD', 'T10 (S10) Pickup 4WD', 'T100 2WD', 'T100 4WD', 'T15 (S15) Jimmy 4WD', 'T15 (S15) Pickup 4WD', 'TC By', 'TC By Convertible', 'TC by Maserati', 'TL', 'TL 2WD', 'TL 4WD', 'TLX', 'TLX 2WD', 'TLX 4WD', 'TLX AWD', 'TLX FWD', 'TR40', 'TSX', 'TSX Wagon', 'TT Coupe', 'TT Coupe quattro', 'TT RS Coupe', 'TT Roadster', 'TT Roadster quattro', 'TTS Coupe', 'TVR 280i Convertible', 'TVR 280i Coupe', 'TVR 280i/350i Convertible', 'TVR 280i/350i Coupe', 'Tacoma 2WD', 'Tacoma 4WD', 'Tacoma 4WD Double Cab', 'Tahoe 1500 2WD', 'Tahoe 1500 2WD FFV', 'Tahoe 1500 4WD', 'Tahoe 1500 4WD FFV', 'Tahoe 1500 AWD', 'Tahoe 1500 XFE 2WD', 'Tahoe C10 2WD', 'Tahoe C1500 2WD', 'Tahoe Hybrid 2WD', 'Tahoe Hybrid 4WD', 'Tahoe K10 4WD', 'Tahoe K1500 4WD', 'Talon', 'Targa', 'Targa Kit', 'Taurus', 'Taurus AWD', 'Taurus AWD FFV', 'Taurus FFV', 'Taurus FWD', 'Taurus FWD FFV', 'Taurus SHO', 'Taurus Wagon', 'Taurus Wagon 3.0 A/C', 'Taurus Wagon FFV', 'Taurus Wagon V6 A/C', 'Taurus X AWD', 'Taurus X FWD', 'Tempo', 'Tempo AWD', 'Tempo FS', 'Tercel', 'Tercel EZ', 'Tercel Wagon', 'Tercel Wagon 2WD', 'Tercel Wagon 4WD', 'Terrain AWD', 'Terrain FWD', 'Terraza AWD', 'Terraza FWD', 'Testarossa', 'Testerossa', 'Thunderbird', 'Tiburon', 'Tiburon (Coupe)', 'Tiguan', 'Tiguan 4motion', 'Titan 2WD', 'Titan 2WD FFV', 'Titan 4WD', 'Titan 4WD  PRO4X', 'Titan 4WD FFV', 'Titan FE 2WD', 'Titan FE 2WD FFV', 'Topaz', 'Topaz AWD', 'Toronado', 'Torrent AWD', 'Torrent FWD', 'Touareg', 'Touareg Hybrid', 'Town Car', 'Town Car FFV', 'Town and Country', 'Town and Country 2WD', 'Town and Country 4WD', 'Town and Country AWD', 'Town and Country FFV', 'Town and Country Wagon', 'Town and Country/Voyager/Grand Voy. 2WD', 'Town and Country/Voyager/Grand Voy. AWD', 'Tracer', 'Tracer Wagon', 'Tracker 2WD Convertible', 'Tracker 2WD Hardtop', 'Tracker 4WD', 'Tracker 4WD Convertible', 'Tracker 4WD Hardtop', 'Tracker Convertible 2WD', 'Tracker Convertible 4WD', 'Tracker Convertible 4x4', 'Tracker Hardtop 4WD', 'Tracker LT 2WD', 'Tracker LT 4WD', 'Tracker Van 2WD', 'Tracker Van 4WD', 'Tracker Van 4x4', 'Tracker ZR2 4WD', 'Tracker ZR2 4WD Convertible', 'TrailBlazer 2WD', 'TrailBlazer 4WD', 'TrailBlazer AWD', 'TrailBlazer Ext 2WD', 'TrailBlazer Ext 4WD', 'Trans Sport 2WD', 'Trans Sport/Montana 2WD', 'Transit Connect', 'Transit Connect Van', 'Transit Connect Van 2WD', 'Transit Connect Van FFV', 'Transit Connect Wagon FFV', 'Transit Connect Wagon FWD', 'Transit Connect Wagon LWB FFV', 'Transit Connect Wagon LWB FWD', 'Transit T150 Wagon', 'Transit T150 Wagon FFV', 'Traverse AWD', 'Traverse FWD', 'Trax', 'Trax AWD', 'Tredia', 'Tribeca AWD', 'Tribute 2WD', 'Tribute 4WD', 'Tribute 4WD FFV', 'Tribute FWD', 'Tribute FWD FFV', 'Tribute Hybrid 2WD', 'Tribute Hybrid 4WD', 'Trofeo/Toronado', 'Trooper', 'Trooper 2WD', 'Trooper 4WD', 'Truck 2WD', 'Truck 2WD (new Version)', 'Truck 2WD/T100 2WD', 'Truck 4WD', 'Truck 4WD (new Version)', 'Truck 4WD/T100 4WD', 'Truck Cab Chassis 2WD', 'Tucson 2WD', 'Tucson 4WD', 'Tucson AWD', 'Tucson Eco AWD', 'Tucson Eco FWD', 'Tucson FWD', 'Tundra 2WD', 'Tundra 2WD FFV', 'Tundra 4WD', 'Tundra 4WD FFV', 'Turbo', 'Turbo 2 911 GT2', 'Turbo 2 911 Gt2', 'Turbo 4 911', 'Turbo 4 911 Cab', 'Turbo 4 911 Cab Kit', 'Turbo 4 911 Kit', 'Turbo 4 911 S', 'Turbo 4 911 Turbo', 'Turbo 4 911 Turbo Cab S', 'Turbo Firefly', 'Turbo GT2', 'Turbo Kit', 'Turbo R', 'Turbo R/Rl Bklds Turbo/LWB', 'Turbo R/Turbo R(lwb)', 'Turbo R/Turbo Rl', 'Turbo RT', 'Turbo Sprint', 'Turismo', 'Twin-Turbo Corvette', 'Uplander AWD', 'Uplander FWD', 'V10 (K10) Blazer 4WD', 'V10 (K10) Pickup 4WD', 'V10 (K10) Suburban 4WD', 'V10 Blazer 4WD', 'V10 Suburban 4WD', 'V12 Vanquish', 'V12 Vanquish S', 'V12 Vantage', 'V12 Vantage S', 'V15 Jimmy 4WD', 'V15 Pickup 4WD', 'V15 Suburban 4WD', 'V20 Pickup 4WD', 'V25 Pickup 4WD', 'V40', 'V50 AWD', 'V50 FWD', 'V60 AWD', 'V60 CC AWD', 'V60 CC FWD', 'V60 FWD', 'V60 PoleStar AWD', 'V60 Polestar AWD', 'V70 AWD', 'V70 FWD', 'V70 R AWD', 'V70 XC AWD', 'V8', 'V8 Vantage', 'V8 Vantage ASM', 'V8 Vantage S', 'V90', 'Van', 'Van (cargo)', 'Van (passenger)', 'Van 15/25  2WD Conversion', 'Van 15/25 2WD Conversion', 'Van 1500 2WD Cargo', 'Van 1500 2WD Conversion Cargo', 'Van 1500 AWD Cargo', 'Van 1500 AWD Conversion', 'Van 1500 AWD Conversion Cargo', 'Van 1500/2500 2WD', 'Van 1500/2500 AWD', 'Van 2WD', 'Van 2WD (cargo)', 'Van 2WD (passenger)', 'Van 4WD', 'Van 4WD (cargo)', 'Van 4WD (passenger)', 'Van(cargo)', 'Vanagon 2WD', 'Vanagon Syncro 4WD', 'Vanagon/Camper 2WD', 'Vanden Plas', 'Vanden Plas S.C.', 'Vanden Plas S/C', 'Vandura 2500 2WD', 'Vandura G15/25 2WD', 'Vandura G15/25 2WD (cargo)', 'Vandura G35  2WD', 'Vandura G35 2WD', 'Vandura G35 2WD (cargo)', 'Vanquish', 'Vantage GT', 'Vdp', 'Vdp 4.2 Litre', 'Vdp Lwb', 'Vehicross', 'Vehicross 4WD', 'Veloster', 'Veneno Roadster', 'Venture 2WD', 'Venture AWD', 'Venture FWD', 'Venza', 'Venza 4WD', 'Venza AWD', 'Veracruz 2WD', 'Veracruz 4WD', 'Verano', 'Verona', 'Versa', 'Versa FE', 'Veyron', 'Vibe', 'Vibe AWD', 'Vigor', 'Villager FWD Van', 'Villager FWD Wagon', 'Viper', 'Viper Convertible', 'Viper Coupe', 'Viper SRT', 'Virage', 'Virage Saloon', 'Virage/Volante', 'Vision', 'Vitara 2 Door', 'Vitara 2 Door 4WD', 'Vitara 2Door', 'Vitara 2Door 2WD', 'Vitara 2Door 4WD', 'Vitara 4 Door', 'Vitara 4 Door 4WD', 'Vitara 4Door', 'Vitara 4Door 2WD', 'Vitara 4Door 4WD', 'Volt', 'Voyager 2WD', 'Voyager/Grand Voyager 2WD', 'Voyager/Grand Voyager 4WD', 'Voyager/Town and Country 2WD', 'Vue AWD', 'Vue FWD', 'Vue Hybrid', 'W-126/4 Series', 'W100/W150 Pickup 4WD', 'W250 Pickup 4WD', 'W8', 'WB', 'WRX', 'Wagon', 'Wagon 4WD', 'Wagon 4WD Turbo', 'Wagoneer 4WD', 'Wagoneer Limited 4WD', 'Wave', 'Wave 5', 'Wetl 190E', 'Wetl 190E 2.3', 'Wetl 300 CE', 'Wetl 300 E', 'Wetl 300 GE', 'Wetl 300 SL', 'Wetl 300 TE', 'Wetl 412', 'Wetl 500 SE', 'Wetl 500 SEC', 'Wetl 500 SEL', 'Wetl 500 SL', 'Wetl 560 SEC', 'Wetl 560 SEL', 'Wetl 560 SL', 'Wetl 600 SEL', 'Wetl 850I', 'Wetl Testarossa', 'Windsor', 'Windstar FWD Cargo Van', 'Windstar FWD Van', 'Windstar FWD Wagon', 'Wraith', 'Wrangler 2WD', 'Wrangler 4WD', 'Wrangler Unlimited 4WD', 'Wrangler/TJ 4WD', 'X-90 2WD', 'X-90 4WD', 'X-90 RWD', 'X-Type', 'X-Type Sport Brake', 'X1 sDrive28i', 'X1 xDrive28i', 'X1 xDrive35i', 'X1/9', 'X3', 'X3 3.0i', 'X3 3.0si', 'X3 sDrive 28i', 'X3 sDrive28i', 'X3 xDrive28d', 'X3 xDrive28i', 'X3 xDrive30i', 'X3 xDrive35i', 'X4 M40i', 'X4 xDrive28i', 'X4 xDrive35i', 'X5', 'X5 3.0si', 'X5 4.6is', 'X5 4.8IS', 'X5 4.8i', 'X5 4.8is', 'X5 M', 'X5 sDrive35i', 'X5 xDrive30i', 'X5 xDrive35d', 'X5 xDrive35i', 'X5 xDrive40e', 'X5 xDrive48i', 'X5 xDrive50i', 'X5 xDriveM', 'X6 M', 'X6 sDrive35i', 'X6 xDrive35i', 'X6 xDrive50i', 'X6 xDriveM', 'XC 60 AWD', 'XC 60 FWD', 'XC 70 AWD', 'XC 90 AWD', 'XC 90 FWD', 'XC60 AWD', 'XC60 FWD', 'XC70 AWD', 'XC70 FWD', 'XC90 AWD', 'XC90 AWD PHEV', 'XC90 FWD', 'XE', 'XE AWD', 'XF', 'XF AWD', 'XF FFV', 'XF Supercharged', 'XG300', 'XG350', 'XJ', 'XJ AWD', 'XJ FFV', 'XJ LWB', 'XJ LWB AWD', 'XJ Sport', 'XJ-S', 'XJ-SC', 'XJ12', 'XJ6', 'XJ6L', 'XJ8', 'XJ8 4.2 Litre', 'XJ8L', 'XJ8l', 'XJL', 'XJL AWD', 'XJL FFV', 'XJR', 'XJR 4.2 Litre', 'XJRS Convertble', 'XJRS Coupe', 'XJS', 'XJS Convertible', 'XJS Coupe', 'XJS V12 Convertible', 'XJS V12 Coupe', 'XK', 'XK Convertible', 'XK8', 'XK8 Convertible', 'XKR', 'XKR Convertible', 'XL7 AWD', 'XL7 FWD', 'XLR', 'XLR-V', 'XM v6', 'XM v6 Break', 'XM v6a', 'XR4Ti', 'XT', 'XT 4WD', 'XT-DL', 'XT5', 'XT5 AWD', 'XTS', 'XTS AWD', 'XTS Hearse', 'XTS LIMO', 'XTS Limo', 'XV Crosstrek AWD', 'XV Crosstrek Hybrid AWD', 'Xterra 2WD', 'Xterra 4WD', 'Xterra V6 2WD', 'Xterra V6 4WD', 'Yaris', 'Yaris iA', 'Yukon 1500 2WD', 'Yukon 1500 2WD FFV', 'Yukon 1500 4WD', 'Yukon 1500 4WD FFV', 'Yukon 1500 AWD', 'Yukon 1500 Hybrid 2WD', 'Yukon 1500 Hybrid 4WD', 'Yukon 1500 XFE 2WD', 'Yukon C10 2WD', 'Yukon C1500 2WD', 'Yukon C1500 XL 2WD', 'Yukon Denali 1500 AWD', 'Yukon Denali 1500 AWD FFV', 'Yukon Denali 1500 Hybrid 4WD', 'Yukon Denali K10 AWD', 'Yukon Denali XL 1500 AWD', 'Yukon K10 4WD', 'Yukon K1500 4WD', 'Yukon K1500 XL 4WD', 'Yukon XL 1500 2WD', 'Yukon XL 1500 2WD FFV', 'Yukon XL 1500 4WD', 'Yukon XL 1500 AWD', 'Yukon XL 2500 2WD', 'Yukon XL 2500 4WD', 'Yukon XL C10 2WD', 'Yukon XL K10 4WD', 'Yukon XL K10 AWD', 'Z3 Coupe', 'Z3 Roadster', 'Z4 3.0i', 'Z4 3.0si', 'Z4 3.0si Coupe', 'Z4 Coupe', 'Z4 M Coupe', 'Z4 M Roadster', 'Z4 Roadster', 'Z4 sDrive28i', 'Z4 sDrive30i', 'Z4 sDrive35i', 'Z4 sDrive35is', 'Z8', 'ZDX 4WD', 'Zephyr', 'allroad quattro', 'fortwo cabriolet', 'fortwo convertible', 'fortwo coupe', 'i-280 Extended Cab 2WD', 'i-290 Extended Cab 2WD', 'i-350 Crew Cab 4WD', 'i-370 Crew Cab 2WD', 'i-370 Crew Cab 4WD', 'i-370 Extended Cab 2WD', 'i3 REX', 'i8', 'iA', 'iM', 'iQ', 'tC', 'xA', 'xB', 'xD']\n",
      "...................................................................................................\n",
      "...................................................................................................\n",
      "Year\n",
      "34\n",
      "[1984, 1985, 1986, 1987, 1988, 1989, 1990, 1991, 1992, 1993, 1994, 1995, 1996, 1997, 1998, 1999, 2000, 2001, 2002, 2003, 2004, 2005, 2006, 2007, 2008, 2009, 2010, 2011, 2012, 2013, 2014, 2015, 2016, 2017]\n",
      "...................................................................................................\n",
      "...................................................................................................\n",
      "Engine Displacement\n",
      "65\n",
      "[0.6, 0.9, 1.0, 1.1, 1.2, 1.3, 1.4, 1.5, 1.6, 1.7, 1.8, 1.9, 2.0, 2.1, 2.2, 2.3, 2.4, 2.5, 2.6, 2.7, 2.8, 2.9, 3.0, 3.1, 3.2, 3.3, 3.4, 3.5, 3.6, 3.7, 3.8, 3.9, 4.0, 4.1, 4.2, 4.3, 4.4, 4.5, 4.6, 4.7, 4.8, 4.9, 5.0, 5.2, 5.3, 5.4, 5.5, 5.6, 5.7, 5.8, 5.9, 6.0, 6.1, 6.2, 6.3, 6.4, 6.5, 6.6, 6.7, 6.8, 7.0, 7.4, 8.0, 8.3, 8.4]\n",
      "...................................................................................................\n",
      "...................................................................................................\n",
      "Cylinders\n",
      "9\n",
      "[2.0, 3.0, 4.0, 5.0, 6.0, 8.0, 10.0, 12.0, 16.0]\n",
      "...................................................................................................\n",
      "...................................................................................................\n",
      "Transmission\n",
      "45\n",
      "['Auto (AV)', 'Auto (AV-S6)', 'Auto (AV-S8)', 'Auto(A1)', 'Auto(AM-S6)', 'Auto(AM-S7)', 'Auto(AM-S8)', 'Auto(AM-S9)', 'Auto(AM5)', 'Auto(AM6)', 'Auto(AM7)', 'Auto(AM8)', 'Auto(AV-S6)', 'Auto(AV-S7)', 'Auto(AV-S8)', 'Auto(L3)', 'Auto(L4)', 'Automatic (A1)', 'Automatic (A6)', 'Automatic (AM5)', 'Automatic (AM6)', 'Automatic (AV)', 'Automatic (AV-S6)', 'Automatic (S4)', 'Automatic (S5)', 'Automatic (S6)', 'Automatic (S7)', 'Automatic (S8)', 'Automatic (S9)', 'Automatic (variable gear ratios)', 'Automatic 3-spd', 'Automatic 4-spd', 'Automatic 5-spd', 'Automatic 6-spd', 'Automatic 6spd', 'Automatic 7-spd', 'Automatic 8-spd', 'Automatic 9-spd', 'Manual 3-spd', 'Manual 4-spd', 'Manual 5 spd', 'Manual 5-spd', 'Manual 6-spd', 'Manual 7-spd', 'Manual(M7)']\n",
      "...................................................................................................\n",
      "...................................................................................................\n",
      "Drivetrain\n",
      "8\n",
      "['2-Wheel Drive', '2-Wheel Drive, Front', '4-Wheel Drive', '4-Wheel or All-Wheel Drive', 'All-Wheel Drive', 'Front-Wheel Drive', 'Part-time 4-Wheel Drive', 'Rear-Wheel Drive']\n",
      "...................................................................................................\n",
      "...................................................................................................\n",
      "Vehicle Class\n",
      "34\n",
      "['Compact Cars', 'Large Cars', 'Midsize Cars', 'Midsize Station Wagons', 'Midsize-Large Station Wagons', 'Minicompact Cars', 'Minivan - 2WD', 'Minivan - 4WD', 'Small Pickup Trucks', 'Small Pickup Trucks 2WD', 'Small Pickup Trucks 4WD', 'Small Sport Utility Vehicle 2WD', 'Small Sport Utility Vehicle 4WD', 'Small Station Wagons', 'Special Purpose Vehicle', 'Special Purpose Vehicle 2WD', 'Special Purpose Vehicle 4WD', 'Special Purpose Vehicles', 'Special Purpose Vehicles/2wd', 'Special Purpose Vehicles/4wd', 'Sport Utility Vehicle - 2WD', 'Sport Utility Vehicle - 4WD', 'Standard Pickup Trucks', 'Standard Pickup Trucks 2WD', 'Standard Pickup Trucks 4WD', 'Standard Pickup Trucks/2wd', 'Standard Sport Utility Vehicle 2WD', 'Standard Sport Utility Vehicle 4WD', 'Subcompact Cars', 'Two Seaters', 'Vans', 'Vans Passenger', 'Vans, Cargo Type', 'Vans, Passenger Type']\n",
      "...................................................................................................\n",
      "...................................................................................................\n",
      "Fuel Type\n",
      "13\n",
      "['CNG', 'Diesel', 'Gasoline or E85', 'Gasoline or natural gas', 'Gasoline or propane', 'Midgrade', 'Premium', 'Premium Gas or Electricity', 'Premium and Electricity', 'Premium or E85', 'Regular', 'Regular Gas and Electricity', 'Regular Gas or Electricity']\n",
      "...................................................................................................\n",
      "...................................................................................................\n",
      "Fuel Barrels/Year\n",
      "123\n",
      "[0.06, 0.0664285714285714, 0.0688888888888888, 0.0808695652173913, 0.0845454545454545, 0.1033333333333333, 0.1094117647058823, 0.11625, 0.124, 0.1328571428571428, 0.143076923076923, 0.155, 0.1690909090909091, 0.186, 0.2066666666666667, 1.5631903722478575, 2.0068441858803987, 3.0925388035714287, 3.3756214821428574, 3.5046504307917896, 3.614241815668203, 3.8355825516046216, 3.880578051315789, 4.028975201298702, 4.184202292002269, 4.7371439591836735, 4.744612481512606, 4.827656776595744, 4.87758466125, 4.87870354125, 5.115502679169414, 5.846634032142857, 5.863279935135134, 5.885892857142856, 6.219056603773584, 6.338653846153847, 6.359254842857142, 6.5922, 6.866875, 7.012978723404256, 7.070999909243697, 7.165434782608696, 7.324666666666666, 7.356924277610839, 7.491136363636365, 7.665348837209303, 7.847857142857142, 7.9845733655172415, 8.00933041448276, 8.039268292682928, 8.07698136431784, 8.099619256371815, 8.24025, 8.2468347375, 8.451538461538462, 8.6525500625, 8.6706743725, 8.673947368421054, 8.908378378378377, 9.155833333333334, 9.178873768695652, 9.179989168695652, 9.417428571428571, 9.53202746964286, 9.53520116964286, 9.554625, 9.694411764705883, 9.799615384615386, 9.988181818181818, 10.0575, 10.3003125, 10.329324324324324, 10.40295132375, 10.61625, 10.632580645161289, 10.7943661125, 10.803702789130432, 10.919571428571428, 10.987, 11.240735294117648, 11.365862068965518, 11.581363636363635, 11.771785714285713, 11.94328125, 12.207777777777777, 12.328548387096774, 12.677307692307696, 12.7395, 13.178793103448276, 13.1844, 13.649464285714286, 13.73375, 14.155, 14.330869565217393, 14.699423076923075, 14.98227272727273, 15.287400000000002, 15.695714285714288, 15.924375, 16.4805, 16.616739130434784, 17.347894736842107, 17.372045454545454, 18.19928571428572, 18.311666666666667, 19.109250000000007, 19.388823529411766, 20.115, 20.600625, 21.2325, 21.974, 22.481470588235297, 23.543571428571425, 23.8865625, 25.35461538461539, 25.479000000000006, 27.29892857142857, 27.4675, 29.96454545454546, 32.961, 36.623333333333335, 41.20125, 47.08714285714285]\n",
      "...................................................................................................\n",
      "...................................................................................................\n",
      "City MPG\n",
      "48\n",
      "[6, 7, 8, 9, 10, 11, 12, 13, 14, 15, 16, 17, 18, 19, 20, 21, 22, 23, 24, 25, 26, 27, 28, 29, 30, 31, 32, 33, 34, 35, 36, 37, 38, 39, 40, 41, 42, 43, 44, 45, 47, 48, 49, 50, 51, 53, 54, 58]\n",
      "...................................................................................................\n",
      "...................................................................................................\n",
      "Highway MPG\n",
      "49\n",
      "[9, 10, 11, 12, 13, 14, 15, 16, 17, 18, 19, 20, 21, 22, 23, 24, 25, 26, 27, 28, 29, 30, 31, 32, 33, 34, 35, 36, 37, 38, 39, 40, 41, 42, 43, 44, 45, 46, 47, 48, 49, 50, 51, 52, 53, 58, 59, 60, 61]\n",
      "...................................................................................................\n",
      "...................................................................................................\n",
      "Combined MPG\n",
      "46\n",
      "[7, 8, 9, 10, 11, 12, 13, 14, 15, 16, 17, 18, 19, 20, 21, 22, 23, 24, 25, 26, 27, 28, 29, 30, 31, 32, 33, 34, 35, 36, 37, 38, 39, 40, 41, 42, 43, 44, 45, 46, 47, 48, 50, 52, 53, 56]\n",
      "...................................................................................................\n",
      "...................................................................................................\n",
      "CO2 Emission Grams/Mile\n",
      "575\n",
      "[37.0, 40.0, 51.0, 81.0, 84.0, 87.0, 91.0, 101.0, 104.0, 112.0, 129.0, 130.0, 133.0, 138.0, 158.0, 167.67924528301887, 169.0, 170.0, 170.90384615384616, 171.0, 177.74, 178.0, 179.0, 183.0, 184.0, 185.1458333333333, 188.0, 189.0, 189.0851063829787, 193.19565217391303, 194.0, 196.0, 198.0, 200.0, 201.97727272727272, 206.0, 206.67441860465115, 209.0, 210.0, 211.0, 211.59523809523807, 212.0, 214.0, 215.0, 216.7560975609756, 217.0, 218.0, 220.0, 221.0, 222.0, 222.175, 223.0, 224.0, 225.0, 226.0, 227.0, 227.8717948717949, 228.0, 228.69435483870967, 229.0, 230.0, 233.0, 233.8684210526316, 237.0, 238.0, 239.0, 240.1891891891892, 241.0, 242.0, 243.0, 244.0, 246.0, 246.86111111111111, 247.0, 248.0, 249.0, 250.0, 251.0, 252.0, 253.0, 253.19732142857143, 253.9142857142857, 254.0, 254.5, 255.0, 256.0, 257.0, 258.0, 259.0, 260.0, 261.0, 261.025641025641, 261.38235294117646, 262.0, 262.57500000000005, 263.0, 264.0, 265.0, 266.0, 267.0, 267.8947368421053, 268.0, 269.0, 269.3030303030303, 270.0, 271.0, 272.0, 273.0, 274.0, 275.0, 275.1351351351352, 276.0, 277.0, 277.71875, 278.0, 279.0, 280.0, 281.0, 282.0, 282.77777777777777, 283.0, 284.0, 285.0, 286.0, 286.67741935483866, 287.0, 288.0, 289.0, 290.0, 290.85714285714283, 291.0, 292.0, 293.0, 294.0, 295.0, 296.0, 296.2333333333333, 297.0, 298.0, 299.0, 299.4117647058824, 300.0, 301.0, 302.0, 303.0, 304.0, 305.0, 306.0, 306.4482758620689, 307.0, 308.0, 308.2402173913044, 308.4848484848485, 309.0, 310.0, 311.0, 312.0, 313.0, 314.0, 315.0, 316.0, 317.0, 317.3928571428572, 318.0, 318.125, 319.0, 320.0, 321.0, 322.0, 322.2511363636364, 323.0, 324.0, 325.0, 326.0, 327.0, 328.0, 328.3870967741936, 329.0, 329.1481481481481, 330.0, 331.0, 332.0, 333.0, 334.0, 335.0, 336.0, 337.0, 338.0, 339.0, 339.3333333333333, 340.0, 341.0, 341.8076923076923, 342.0, 343.0, 344.0, 345.0, 346.0, 347.0, 348.0, 349.0, 350.0, 351.0, 351.0344827586207, 352.0, 353.0, 354.0, 355.0, 355.48, 356.0, 357.0, 358.0, 359.0, 360.0, 361.0, 362.0, 363.0, 363.57142857142856, 364.0, 365.0, 366.0, 367.0, 368.0, 369.0, 370.0, 370.29166666666674, 371.0, 372.0, 373.0, 374.0, 375.0, 376.0, 377.0, 377.03703703703695, 378.0, 379.0, 380.0, 381.0, 382.0, 383.0, 384.0, 385.0, 386.0, 386.39130434782606, 387.0, 388.0, 389.0, 390.0, 391.0, 391.5384615384616, 392.0, 393.0, 393.8625, 394.0, 395.0, 396.0, 397.0, 398.0, 399.0, 400.0, 401.0, 402.0, 403.0, 403.95454545454544, 404.0, 405.0, 406.0, 407.0, 407.2, 408.0, 409.0, 410.0, 411.0, 412.0, 413.0, 414.0, 415.0, 416.0, 417.0, 417.0308823529412, 418.0, 419.0, 420.0, 421.0, 422.0, 423.0, 423.19047619047615, 424.0, 424.16666666666674, 425.0, 426.0, 427.0, 428.0, 429.0, 430.0, 431.0, 432.0, 433.0, 434.0, 435.0, 436.0, 437.0, 438.0, 439.0, 440.0, 441.0, 442.0, 442.60869565217394, 443.0, 443.0953125, 444.0, 444.35, 445.0, 446.0, 447.0, 448.0, 449.0, 450.0, 451.0, 452.0, 453.0, 454.0, 455.0, 456.0, 457.0, 458.0, 459.0, 460.0, 461.0, 462.0, 462.7272727272728, 463.0, 464.0, 465.0, 466.0, 467.0, 467.7368421052632, 468.0, 469.0, 470.0, 471.0, 472.0, 472.6350000000001, 473.0, 474.0, 475.0, 476.0, 477.0, 478.0, 479.0, 480.0, 481.0, 482.0, 483.0, 484.0, 484.7619047619048, 485.0, 486.0, 487.0, 488.0, 489.0, 490.0, 491.0, 492.0, 493.0, 493.72222222222223, 494.0, 495.0, 496.0, 497.0, 498.0, 499.0, 500.0, 501.0, 502.0, 503.0, 504.0, 505.0, 506.0, 506.39464285714286, 507.0, 508.0, 509.0, 511.0, 512.0, 513.0, 514.0, 515.0, 516.0, 517.0, 518.0, 519.0, 520.0, 521.0, 522.0, 522.7647058823529, 523.0, 524.0, 525.0, 526.0, 527.0, 528.0, 529.0, 530.0, 531.0, 532.0, 533.0, 534.0, 535.0, 535.7894736842105, 536.0, 537.0, 538.0, 539.0, 540.0, 541.0, 542.0, 543.0, 544.0, 545.0, 545.348076923077, 546.0, 547.0, 548.0, 549.0, 551.0, 552.0, 553.0, 554.0, 555.0, 555.4375, 556.0, 557.0, 558.0, 559.0, 560.0, 561.0, 562.0, 563.0, 564.0, 565.0, 565.5555555555555, 566.0, 567.0, 568.0, 569.0, 570.0, 571.0, 572.0, 574.0, 576.0, 577.0, 578.0, 579.0, 580.0, 581.0, 582.0, 583.0, 584.0, 586.0, 587.0, 588.0, 590.0, 590.79375, 591.0, 592.0, 592.4666666666667, 593.0, 594.0, 595.0, 596.0, 598.8235294117648, 599.0, 600.0, 601.0, 602.0, 604.0, 605.0, 606.0, 607.0, 608.0, 609.0, 610.0, 611.0, 612.0, 613.0, 614.0, 615.0, 617.0, 618.0, 619.0, 620.0, 621.0, 622.0, 623.0, 624.0, 625.0, 626.0, 627.0, 628.0, 630.0, 633.0, 634.0, 634.7857142857142, 636.0, 636.25, 637.0, 638.0, 639.0, 641.0, 643.0, 644.5022727272727, 645.0, 646.0, 647.0, 650.0, 652.0, 656.0, 659.0, 661.0, 662.0, 663.0, 664.0, 668.0, 669.0, 671.0, 672.0, 674.0, 675.0, 676.0, 677.0, 678.0, 678.6666666666666, 679.0, 680.0, 681.0, 683.0, 683.6153846153846, 684.0, 686.0, 688.0, 692.0, 696.0, 697.0, 698.0, 704.0, 708.9525000000001, 710.0, 711.0, 716.0, 717.0, 718.0, 720.0, 721.0, 723.0, 724.0, 727.0, 727.1428571428571, 731.0, 740.0, 740.5833333333335, 742.0, 747.0, 762.0, 763.0, 787.725, 790.0, 801.0, 805.0, 807.9090909090909, 847.0, 888.7, 987.4444444444443, 1110.875, 1269.571428571429]\n",
      "...................................................................................................\n",
      "...................................................................................................\n",
      "Fuel Cost/Year\n",
      "55\n",
      "[600, 650, 700, 750, 800, 850, 900, 950, 1000, 1050, 1100, 1150, 1200, 1250, 1300, 1350, 1400, 1450, 1500, 1550, 1600, 1650, 1700, 1750, 1800, 1850, 1900, 1950, 2000, 2050, 2100, 2150, 2200, 2250, 2300, 2350, 2400, 2450, 2500, 2550, 2600, 2700, 2750, 2800, 2900, 3050, 3100, 3350, 3400, 3700, 4050, 4150, 4500, 5050, 5800]\n",
      "...................................................................................................\n",
      "...................................................................................................\n"
     ]
    }
   ],
   "source": [
    "for column in df.columns:\n",
    "    print(column, len(df[f'{column}'].unique()), sorted(df[f'{column}'].unique()), sep='\\n')\n",
    "    for i in range(2):\n",
    "        print('.'*99)"
   ]
  },
  {
   "cell_type": "code",
   "execution_count": 94,
   "id": "6ed20191",
   "metadata": {},
   "outputs": [
    {
     "name": "stdout",
     "output_type": "stream",
     "text": [
      "<class 'pandas.core.frame.DataFrame'>\n",
      "RangeIndex: 35952 entries, 0 to 35951\n",
      "Data columns (total 15 columns):\n",
      " #   Column                   Non-Null Count  Dtype  \n",
      "---  ------                   --------------  -----  \n",
      " 0   Make                     35952 non-null  object \n",
      " 1   Model                    35952 non-null  object \n",
      " 2   Year                     35952 non-null  int64  \n",
      " 3   Engine Displacement      35952 non-null  float64\n",
      " 4   Cylinders                35952 non-null  float64\n",
      " 5   Transmission             35952 non-null  object \n",
      " 6   Drivetrain               35952 non-null  object \n",
      " 7   Vehicle Class            35952 non-null  object \n",
      " 8   Fuel Type                35952 non-null  object \n",
      " 9   Fuel Barrels/Year        35952 non-null  float64\n",
      " 10  City MPG                 35952 non-null  int64  \n",
      " 11  Highway MPG              35952 non-null  int64  \n",
      " 12  Combined MPG             35952 non-null  int64  \n",
      " 13  CO2 Emission Grams/Mile  35952 non-null  float64\n",
      " 14  Fuel Cost/Year           35952 non-null  int64  \n",
      "dtypes: float64(4), int64(5), object(6)\n",
      "memory usage: 4.1+ MB\n"
     ]
    }
   ],
   "source": [
    "df.info()"
   ]
  },
  {
   "cell_type": "code",
   "execution_count": 95,
   "id": "2fe0c4fb",
   "metadata": {},
   "outputs": [],
   "source": [
    "# test 3"
   ]
  },
  {
   "cell_type": "code",
   "execution_count": 97,
   "id": "4c59c975",
   "metadata": {},
   "outputs": [
    {
     "name": "stdout",
     "output_type": "stream",
     "text": [
      "<class 'pandas.core.frame.DataFrame'>\n",
      "RangeIndex: 35952 entries, 0 to 35951\n",
      "Data columns (total 15 columns):\n",
      " #   Column                   Non-Null Count  Dtype  \n",
      "---  ------                   --------------  -----  \n",
      " 0   Make                     35952 non-null  object \n",
      " 1   Model                    35952 non-null  object \n",
      " 2   Year                     35952 non-null  int64  \n",
      " 3   Engine Displacement      35952 non-null  float64\n",
      " 4   Cylinders                35952 non-null  float64\n",
      " 5   Transmission             35952 non-null  object \n",
      " 6   Drivetrain               35952 non-null  object \n",
      " 7   Vehicle Class            35952 non-null  object \n",
      " 8   Fuel Type                35952 non-null  object \n",
      " 9   Fuel Barrels/Year        35952 non-null  float64\n",
      " 10  City MPG                 35952 non-null  int64  \n",
      " 11  Highway MPG              35952 non-null  int64  \n",
      " 12  Combined MPG             35952 non-null  int64  \n",
      " 13  CO2 Emission Grams/Mile  35952 non-null  float64\n",
      " 14  Fuel Cost/Year           35952 non-null  int64  \n",
      "dtypes: float64(4), int64(5), object(6)\n",
      "memory usage: 4.1+ MB\n"
     ]
    }
   ],
   "source": [
    "df.info()"
   ]
  },
  {
   "cell_type": "code",
   "execution_count": 111,
   "id": "0c51d040",
   "metadata": {},
   "outputs": [
    {
     "data": {
      "text/html": [
       "<div>\n",
       "<style scoped>\n",
       "    .dataframe tbody tr th:only-of-type {\n",
       "        vertical-align: middle;\n",
       "    }\n",
       "\n",
       "    .dataframe tbody tr th {\n",
       "        vertical-align: top;\n",
       "    }\n",
       "\n",
       "    .dataframe thead th {\n",
       "        text-align: right;\n",
       "    }\n",
       "</style>\n",
       "<table border=\"1\" class=\"dataframe\">\n",
       "  <thead>\n",
       "    <tr style=\"text-align: right;\">\n",
       "      <th></th>\n",
       "      <th>Combined MPG</th>\n",
       "      <th>Previous Combined MPG</th>\n",
       "    </tr>\n",
       "  </thead>\n",
       "  <tbody>\n",
       "    <tr>\n",
       "      <th>34421</th>\n",
       "      <td>26</td>\n",
       "      <td>26</td>\n",
       "    </tr>\n",
       "    <tr>\n",
       "      <th>34427</th>\n",
       "      <td>26</td>\n",
       "      <td>26</td>\n",
       "    </tr>\n",
       "    <tr>\n",
       "      <th>34431</th>\n",
       "      <td>30</td>\n",
       "      <td>26</td>\n",
       "    </tr>\n",
       "    <tr>\n",
       "      <th>34436</th>\n",
       "      <td>30</td>\n",
       "      <td>30</td>\n",
       "    </tr>\n",
       "    <tr>\n",
       "      <th>34438</th>\n",
       "      <td>29</td>\n",
       "      <td>30</td>\n",
       "    </tr>\n",
       "  </tbody>\n",
       "</table>\n",
       "</div>"
      ],
      "text/plain": [
       "       Combined MPG  Previous Combined MPG\n",
       "34421            26                     26\n",
       "34427            26                     26\n",
       "34431            30                     26\n",
       "34436            30                     30\n",
       "34438            29                     30"
      ]
     },
     "execution_count": 111,
     "metadata": {},
     "output_type": "execute_result"
    }
   ],
   "source": [
    "import pandas as pd\n",
    "\n",
    "# Assuming your DataFrame is named 'df'\n",
    "mask = (df['Model'] == 'Golf') & (df['Transmission'] == 'Manual 5-spd') & (df['Fuel Type'] == 'Regular') \n",
    "filtered_df = df[mask]\n",
    "\n",
    "# Sort the DataFrame by Year in ascending order\n",
    "sorted_df = filtered_df.sort_values(by='Year')\n",
    "\n",
    "# Use shift to get the previous row's 'Combined MPG'\n",
    "sorted_df['Previous Combined MPG'] = sorted_df['Combined MPG'].shift(fill_value=0)\n",
    "# print(sorted_df)\n",
    "sorted_df[['Combined MPG', 'Previous Combined MPG']].tail()"
   ]
  },
  {
   "cell_type": "code",
   "execution_count": 103,
   "id": "abdd0193",
   "metadata": {},
   "outputs": [
    {
     "name": "stdout",
     "output_type": "stream",
     "text": [
      "[[1986, 26, 26], [1987, 26, 0], [1988, 25, -1], [1989, 25, 0], [1999, 24, -1], [2000, 24, 0], [2001, 24, 0], [2002, 24, 0], [2003, 24, 0], [2004, 24, 0], [2005, 24, 0], [2006, 24, 0], [2010, 25, 1], [2011, 26, 1], [2012, 26, 0], [2013, 26, 0], [2015, 30, 4], [2016, 30, 0], [2017, 29, -1]]\n"
     ]
    },
    {
     "data": {
      "text/plain": [
       "26"
      ]
     },
     "execution_count": 103,
     "metadata": {},
     "output_type": "execute_result"
    }
   ],
   "source": [
    "# Calculate the difference in 'Combined MPG' with the previous model\n",
    "sorted_df['Difference in MPG'] = sorted_df['Combined MPG'] - sorted_df['Previous Combined MPG']\n",
    "\n",
    "# Select only the desired columns\n",
    "result_df = sorted_df[['Year', 'Combined MPG', 'Difference in MPG']]\n",
    "\n",
    "# Convert the DataFrame to the specified list format\n",
    "result_list = result_df.values.tolist()\n",
    "\n",
    "# Print the result list\n",
    "print(result_list)\n",
    "result_list[0][2]"
   ]
  },
  {
   "cell_type": "code",
   "execution_count": 119,
   "id": "95992543",
   "metadata": {},
   "outputs": [
    {
     "data": {
      "text/html": [
       "<div>\n",
       "<style scoped>\n",
       "    .dataframe tbody tr th:only-of-type {\n",
       "        vertical-align: middle;\n",
       "    }\n",
       "\n",
       "    .dataframe tbody tr th {\n",
       "        vertical-align: top;\n",
       "    }\n",
       "\n",
       "    .dataframe thead th {\n",
       "        text-align: right;\n",
       "    }\n",
       "</style>\n",
       "<table border=\"1\" class=\"dataframe\">\n",
       "  <thead>\n",
       "    <tr style=\"text-align: right;\">\n",
       "      <th></th>\n",
       "      <th>Make</th>\n",
       "      <th>Model</th>\n",
       "      <th>Year</th>\n",
       "      <th>Engine Displacement</th>\n",
       "      <th>Cylinders</th>\n",
       "      <th>Transmission</th>\n",
       "      <th>Drivetrain</th>\n",
       "      <th>Vehicle Class</th>\n",
       "      <th>Fuel Type</th>\n",
       "      <th>Fuel Barrels/Year</th>\n",
       "      <th>City MPG</th>\n",
       "      <th>Highway MPG</th>\n",
       "      <th>Combined MPG</th>\n",
       "      <th>CO2 Emission Grams/Mile</th>\n",
       "      <th>Fuel Cost/Year</th>\n",
       "    </tr>\n",
       "  </thead>\n",
       "  <tbody>\n",
       "    <tr>\n",
       "      <th>3069</th>\n",
       "      <td>BMW</td>\n",
       "      <td>i3 REX</td>\n",
       "      <td>2014</td>\n",
       "      <td>0.6</td>\n",
       "      <td>2.0</td>\n",
       "      <td>Auto(A1)</td>\n",
       "      <td>Rear-Wheel Drive</td>\n",
       "      <td>Subcompact Cars</td>\n",
       "      <td>Premium Gas or Electricity</td>\n",
       "      <td>1.563190</td>\n",
       "      <td>41</td>\n",
       "      <td>37</td>\n",
       "      <td>39</td>\n",
       "      <td>40.000000</td>\n",
       "      <td>1050</td>\n",
       "    </tr>\n",
       "    <tr>\n",
       "      <th>3070</th>\n",
       "      <td>BMW</td>\n",
       "      <td>i3 REX</td>\n",
       "      <td>2015</td>\n",
       "      <td>0.6</td>\n",
       "      <td>2.0</td>\n",
       "      <td>Automatic (A1)</td>\n",
       "      <td>Rear-Wheel Drive</td>\n",
       "      <td>Subcompact Cars</td>\n",
       "      <td>Premium Gas or Electricity</td>\n",
       "      <td>1.563190</td>\n",
       "      <td>41</td>\n",
       "      <td>37</td>\n",
       "      <td>39</td>\n",
       "      <td>40.000000</td>\n",
       "      <td>1050</td>\n",
       "    </tr>\n",
       "    <tr>\n",
       "      <th>3071</th>\n",
       "      <td>BMW</td>\n",
       "      <td>i3 REX</td>\n",
       "      <td>2016</td>\n",
       "      <td>0.6</td>\n",
       "      <td>2.0</td>\n",
       "      <td>Automatic (A1)</td>\n",
       "      <td>Rear-Wheel Drive</td>\n",
       "      <td>Subcompact Cars</td>\n",
       "      <td>Premium Gas or Electricity</td>\n",
       "      <td>1.563190</td>\n",
       "      <td>41</td>\n",
       "      <td>37</td>\n",
       "      <td>39</td>\n",
       "      <td>37.000000</td>\n",
       "      <td>1050</td>\n",
       "    </tr>\n",
       "    <tr>\n",
       "      <th>23123</th>\n",
       "      <td>Mazda</td>\n",
       "      <td>RX-7</td>\n",
       "      <td>1985</td>\n",
       "      <td>1.1</td>\n",
       "      <td>2.0</td>\n",
       "      <td>Automatic 4-spd</td>\n",
       "      <td>Rear-Wheel Drive</td>\n",
       "      <td>Two Seaters</td>\n",
       "      <td>Regular</td>\n",
       "      <td>19.388824</td>\n",
       "      <td>15</td>\n",
       "      <td>21</td>\n",
       "      <td>17</td>\n",
       "      <td>522.764706</td>\n",
       "      <td>1950</td>\n",
       "    </tr>\n",
       "    <tr>\n",
       "      <th>23124</th>\n",
       "      <td>Mazda</td>\n",
       "      <td>RX-7</td>\n",
       "      <td>1985</td>\n",
       "      <td>1.1</td>\n",
       "      <td>2.0</td>\n",
       "      <td>Manual 5-spd</td>\n",
       "      <td>Rear-Wheel Drive</td>\n",
       "      <td>Two Seaters</td>\n",
       "      <td>Regular</td>\n",
       "      <td>19.388824</td>\n",
       "      <td>15</td>\n",
       "      <td>20</td>\n",
       "      <td>17</td>\n",
       "      <td>522.764706</td>\n",
       "      <td>1950</td>\n",
       "    </tr>\n",
       "    <tr>\n",
       "      <th>23125</th>\n",
       "      <td>Mazda</td>\n",
       "      <td>RX-7</td>\n",
       "      <td>1985</td>\n",
       "      <td>1.1</td>\n",
       "      <td>2.0</td>\n",
       "      <td>Automatic 4-spd</td>\n",
       "      <td>Rear-Wheel Drive</td>\n",
       "      <td>Two Seaters</td>\n",
       "      <td>Regular</td>\n",
       "      <td>19.388824</td>\n",
       "      <td>15</td>\n",
       "      <td>20</td>\n",
       "      <td>17</td>\n",
       "      <td>522.764706</td>\n",
       "      <td>1950</td>\n",
       "    </tr>\n",
       "    <tr>\n",
       "      <th>23126</th>\n",
       "      <td>Mazda</td>\n",
       "      <td>RX-7</td>\n",
       "      <td>1985</td>\n",
       "      <td>1.1</td>\n",
       "      <td>2.0</td>\n",
       "      <td>Manual 5-spd</td>\n",
       "      <td>Rear-Wheel Drive</td>\n",
       "      <td>Two Seaters</td>\n",
       "      <td>Regular</td>\n",
       "      <td>19.388824</td>\n",
       "      <td>15</td>\n",
       "      <td>21</td>\n",
       "      <td>17</td>\n",
       "      <td>522.764706</td>\n",
       "      <td>1950</td>\n",
       "    </tr>\n",
       "    <tr>\n",
       "      <th>23127</th>\n",
       "      <td>Mazda</td>\n",
       "      <td>RX-7</td>\n",
       "      <td>1985</td>\n",
       "      <td>1.3</td>\n",
       "      <td>2.0</td>\n",
       "      <td>Manual 5-spd</td>\n",
       "      <td>Rear-Wheel Drive</td>\n",
       "      <td>Two Seaters</td>\n",
       "      <td>Regular</td>\n",
       "      <td>19.388824</td>\n",
       "      <td>15</td>\n",
       "      <td>22</td>\n",
       "      <td>17</td>\n",
       "      <td>522.764706</td>\n",
       "      <td>1950</td>\n",
       "    </tr>\n",
       "    <tr>\n",
       "      <th>23128</th>\n",
       "      <td>Mazda</td>\n",
       "      <td>RX-7</td>\n",
       "      <td>1986</td>\n",
       "      <td>1.3</td>\n",
       "      <td>2.0</td>\n",
       "      <td>Automatic 4-spd</td>\n",
       "      <td>Rear-Wheel Drive</td>\n",
       "      <td>Minicompact Cars</td>\n",
       "      <td>Regular</td>\n",
       "      <td>18.311667</td>\n",
       "      <td>15</td>\n",
       "      <td>22</td>\n",
       "      <td>18</td>\n",
       "      <td>493.722222</td>\n",
       "      <td>1850</td>\n",
       "    </tr>\n",
       "    <tr>\n",
       "      <th>23129</th>\n",
       "      <td>Mazda</td>\n",
       "      <td>RX-7</td>\n",
       "      <td>1987</td>\n",
       "      <td>1.3</td>\n",
       "      <td>2.0</td>\n",
       "      <td>Automatic 4-spd</td>\n",
       "      <td>Rear-Wheel Drive</td>\n",
       "      <td>Two Seaters</td>\n",
       "      <td>Regular</td>\n",
       "      <td>19.388824</td>\n",
       "      <td>15</td>\n",
       "      <td>21</td>\n",
       "      <td>17</td>\n",
       "      <td>522.764706</td>\n",
       "      <td>1950</td>\n",
       "    </tr>\n",
       "    <tr>\n",
       "      <th>23130</th>\n",
       "      <td>Mazda</td>\n",
       "      <td>RX-7</td>\n",
       "      <td>1987</td>\n",
       "      <td>1.3</td>\n",
       "      <td>2.0</td>\n",
       "      <td>Manual 5-spd</td>\n",
       "      <td>Rear-Wheel Drive</td>\n",
       "      <td>Two Seaters</td>\n",
       "      <td>Regular</td>\n",
       "      <td>18.311667</td>\n",
       "      <td>15</td>\n",
       "      <td>22</td>\n",
       "      <td>18</td>\n",
       "      <td>493.722222</td>\n",
       "      <td>1850</td>\n",
       "    </tr>\n",
       "    <tr>\n",
       "      <th>23131</th>\n",
       "      <td>Mazda</td>\n",
       "      <td>RX-7</td>\n",
       "      <td>1987</td>\n",
       "      <td>1.3</td>\n",
       "      <td>2.0</td>\n",
       "      <td>Manual 5-spd</td>\n",
       "      <td>Rear-Wheel Drive</td>\n",
       "      <td>Two Seaters</td>\n",
       "      <td>Regular</td>\n",
       "      <td>19.388824</td>\n",
       "      <td>15</td>\n",
       "      <td>21</td>\n",
       "      <td>17</td>\n",
       "      <td>522.764706</td>\n",
       "      <td>1950</td>\n",
       "    </tr>\n",
       "    <tr>\n",
       "      <th>23132</th>\n",
       "      <td>Mazda</td>\n",
       "      <td>RX-7</td>\n",
       "      <td>1988</td>\n",
       "      <td>1.3</td>\n",
       "      <td>2.0</td>\n",
       "      <td>Automatic 4-spd</td>\n",
       "      <td>Rear-Wheel Drive</td>\n",
       "      <td>Two Seaters</td>\n",
       "      <td>Regular</td>\n",
       "      <td>19.388824</td>\n",
       "      <td>15</td>\n",
       "      <td>21</td>\n",
       "      <td>17</td>\n",
       "      <td>522.764706</td>\n",
       "      <td>1950</td>\n",
       "    </tr>\n",
       "    <tr>\n",
       "      <th>23133</th>\n",
       "      <td>Mazda</td>\n",
       "      <td>RX-7</td>\n",
       "      <td>1988</td>\n",
       "      <td>1.3</td>\n",
       "      <td>2.0</td>\n",
       "      <td>Manual 5-spd</td>\n",
       "      <td>Rear-Wheel Drive</td>\n",
       "      <td>Two Seaters</td>\n",
       "      <td>Regular</td>\n",
       "      <td>19.388824</td>\n",
       "      <td>15</td>\n",
       "      <td>21</td>\n",
       "      <td>17</td>\n",
       "      <td>522.764706</td>\n",
       "      <td>1950</td>\n",
       "    </tr>\n",
       "    <tr>\n",
       "      <th>23134</th>\n",
       "      <td>Mazda</td>\n",
       "      <td>RX-7</td>\n",
       "      <td>1988</td>\n",
       "      <td>1.3</td>\n",
       "      <td>2.0</td>\n",
       "      <td>Manual 5-spd</td>\n",
       "      <td>Rear-Wheel Drive</td>\n",
       "      <td>Two Seaters</td>\n",
       "      <td>Regular</td>\n",
       "      <td>18.311667</td>\n",
       "      <td>15</td>\n",
       "      <td>22</td>\n",
       "      <td>18</td>\n",
       "      <td>493.722222</td>\n",
       "      <td>1850</td>\n",
       "    </tr>\n",
       "    <tr>\n",
       "      <th>23135</th>\n",
       "      <td>Mazda</td>\n",
       "      <td>RX-7</td>\n",
       "      <td>1989</td>\n",
       "      <td>1.3</td>\n",
       "      <td>2.0</td>\n",
       "      <td>Automatic 4-spd</td>\n",
       "      <td>Rear-Wheel Drive</td>\n",
       "      <td>Two Seaters</td>\n",
       "      <td>Regular</td>\n",
       "      <td>19.388824</td>\n",
       "      <td>15</td>\n",
       "      <td>21</td>\n",
       "      <td>17</td>\n",
       "      <td>522.764706</td>\n",
       "      <td>1950</td>\n",
       "    </tr>\n",
       "    <tr>\n",
       "      <th>23136</th>\n",
       "      <td>Mazda</td>\n",
       "      <td>RX-7</td>\n",
       "      <td>1989</td>\n",
       "      <td>1.3</td>\n",
       "      <td>2.0</td>\n",
       "      <td>Manual 5-spd</td>\n",
       "      <td>Rear-Wheel Drive</td>\n",
       "      <td>Two Seaters</td>\n",
       "      <td>Regular</td>\n",
       "      <td>18.311667</td>\n",
       "      <td>15</td>\n",
       "      <td>23</td>\n",
       "      <td>18</td>\n",
       "      <td>493.722222</td>\n",
       "      <td>1850</td>\n",
       "    </tr>\n",
       "    <tr>\n",
       "      <th>23137</th>\n",
       "      <td>Mazda</td>\n",
       "      <td>RX-7</td>\n",
       "      <td>1989</td>\n",
       "      <td>1.3</td>\n",
       "      <td>2.0</td>\n",
       "      <td>Manual 5-spd</td>\n",
       "      <td>Rear-Wheel Drive</td>\n",
       "      <td>Two Seaters</td>\n",
       "      <td>Regular</td>\n",
       "      <td>19.388824</td>\n",
       "      <td>15</td>\n",
       "      <td>22</td>\n",
       "      <td>17</td>\n",
       "      <td>522.764706</td>\n",
       "      <td>1950</td>\n",
       "    </tr>\n",
       "    <tr>\n",
       "      <th>23138</th>\n",
       "      <td>Mazda</td>\n",
       "      <td>RX-7</td>\n",
       "      <td>1990</td>\n",
       "      <td>1.3</td>\n",
       "      <td>2.0</td>\n",
       "      <td>Automatic 4-spd</td>\n",
       "      <td>Rear-Wheel Drive</td>\n",
       "      <td>Two Seaters</td>\n",
       "      <td>Regular</td>\n",
       "      <td>19.388824</td>\n",
       "      <td>15</td>\n",
       "      <td>21</td>\n",
       "      <td>17</td>\n",
       "      <td>522.764706</td>\n",
       "      <td>1950</td>\n",
       "    </tr>\n",
       "    <tr>\n",
       "      <th>23139</th>\n",
       "      <td>Mazda</td>\n",
       "      <td>RX-7</td>\n",
       "      <td>1990</td>\n",
       "      <td>1.3</td>\n",
       "      <td>2.0</td>\n",
       "      <td>Manual 5-spd</td>\n",
       "      <td>Rear-Wheel Drive</td>\n",
       "      <td>Two Seaters</td>\n",
       "      <td>Regular</td>\n",
       "      <td>18.311667</td>\n",
       "      <td>15</td>\n",
       "      <td>23</td>\n",
       "      <td>18</td>\n",
       "      <td>493.722222</td>\n",
       "      <td>1850</td>\n",
       "    </tr>\n",
       "  </tbody>\n",
       "</table>\n",
       "</div>"
      ],
      "text/plain": [
       "        Make   Model  Year  Engine Displacement  Cylinders     Transmission  \\\n",
       "3069     BMW  i3 REX  2014                  0.6        2.0         Auto(A1)   \n",
       "3070     BMW  i3 REX  2015                  0.6        2.0   Automatic (A1)   \n",
       "3071     BMW  i3 REX  2016                  0.6        2.0   Automatic (A1)   \n",
       "23123  Mazda    RX-7  1985                  1.1        2.0  Automatic 4-spd   \n",
       "23124  Mazda    RX-7  1985                  1.1        2.0     Manual 5-spd   \n",
       "23125  Mazda    RX-7  1985                  1.1        2.0  Automatic 4-spd   \n",
       "23126  Mazda    RX-7  1985                  1.1        2.0     Manual 5-spd   \n",
       "23127  Mazda    RX-7  1985                  1.3        2.0     Manual 5-spd   \n",
       "23128  Mazda    RX-7  1986                  1.3        2.0  Automatic 4-spd   \n",
       "23129  Mazda    RX-7  1987                  1.3        2.0  Automatic 4-spd   \n",
       "23130  Mazda    RX-7  1987                  1.3        2.0     Manual 5-spd   \n",
       "23131  Mazda    RX-7  1987                  1.3        2.0     Manual 5-spd   \n",
       "23132  Mazda    RX-7  1988                  1.3        2.0  Automatic 4-spd   \n",
       "23133  Mazda    RX-7  1988                  1.3        2.0     Manual 5-spd   \n",
       "23134  Mazda    RX-7  1988                  1.3        2.0     Manual 5-spd   \n",
       "23135  Mazda    RX-7  1989                  1.3        2.0  Automatic 4-spd   \n",
       "23136  Mazda    RX-7  1989                  1.3        2.0     Manual 5-spd   \n",
       "23137  Mazda    RX-7  1989                  1.3        2.0     Manual 5-spd   \n",
       "23138  Mazda    RX-7  1990                  1.3        2.0  Automatic 4-spd   \n",
       "23139  Mazda    RX-7  1990                  1.3        2.0     Manual 5-spd   \n",
       "\n",
       "             Drivetrain     Vehicle Class                   Fuel Type  \\\n",
       "3069   Rear-Wheel Drive   Subcompact Cars  Premium Gas or Electricity   \n",
       "3070   Rear-Wheel Drive   Subcompact Cars  Premium Gas or Electricity   \n",
       "3071   Rear-Wheel Drive   Subcompact Cars  Premium Gas or Electricity   \n",
       "23123  Rear-Wheel Drive       Two Seaters                     Regular   \n",
       "23124  Rear-Wheel Drive       Two Seaters                     Regular   \n",
       "23125  Rear-Wheel Drive       Two Seaters                     Regular   \n",
       "23126  Rear-Wheel Drive       Two Seaters                     Regular   \n",
       "23127  Rear-Wheel Drive       Two Seaters                     Regular   \n",
       "23128  Rear-Wheel Drive  Minicompact Cars                     Regular   \n",
       "23129  Rear-Wheel Drive       Two Seaters                     Regular   \n",
       "23130  Rear-Wheel Drive       Two Seaters                     Regular   \n",
       "23131  Rear-Wheel Drive       Two Seaters                     Regular   \n",
       "23132  Rear-Wheel Drive       Two Seaters                     Regular   \n",
       "23133  Rear-Wheel Drive       Two Seaters                     Regular   \n",
       "23134  Rear-Wheel Drive       Two Seaters                     Regular   \n",
       "23135  Rear-Wheel Drive       Two Seaters                     Regular   \n",
       "23136  Rear-Wheel Drive       Two Seaters                     Regular   \n",
       "23137  Rear-Wheel Drive       Two Seaters                     Regular   \n",
       "23138  Rear-Wheel Drive       Two Seaters                     Regular   \n",
       "23139  Rear-Wheel Drive       Two Seaters                     Regular   \n",
       "\n",
       "       Fuel Barrels/Year  City MPG  Highway MPG  Combined MPG  \\\n",
       "3069            1.563190        41           37            39   \n",
       "3070            1.563190        41           37            39   \n",
       "3071            1.563190        41           37            39   \n",
       "23123          19.388824        15           21            17   \n",
       "23124          19.388824        15           20            17   \n",
       "23125          19.388824        15           20            17   \n",
       "23126          19.388824        15           21            17   \n",
       "23127          19.388824        15           22            17   \n",
       "23128          18.311667        15           22            18   \n",
       "23129          19.388824        15           21            17   \n",
       "23130          18.311667        15           22            18   \n",
       "23131          19.388824        15           21            17   \n",
       "23132          19.388824        15           21            17   \n",
       "23133          19.388824        15           21            17   \n",
       "23134          18.311667        15           22            18   \n",
       "23135          19.388824        15           21            17   \n",
       "23136          18.311667        15           23            18   \n",
       "23137          19.388824        15           22            17   \n",
       "23138          19.388824        15           21            17   \n",
       "23139          18.311667        15           23            18   \n",
       "\n",
       "       CO2 Emission Grams/Mile  Fuel Cost/Year  \n",
       "3069                 40.000000            1050  \n",
       "3070                 40.000000            1050  \n",
       "3071                 37.000000            1050  \n",
       "23123               522.764706            1950  \n",
       "23124               522.764706            1950  \n",
       "23125               522.764706            1950  \n",
       "23126               522.764706            1950  \n",
       "23127               522.764706            1950  \n",
       "23128               493.722222            1850  \n",
       "23129               522.764706            1950  \n",
       "23130               493.722222            1850  \n",
       "23131               522.764706            1950  \n",
       "23132               522.764706            1950  \n",
       "23133               522.764706            1950  \n",
       "23134               493.722222            1850  \n",
       "23135               522.764706            1950  \n",
       "23136               493.722222            1850  \n",
       "23137               522.764706            1950  \n",
       "23138               522.764706            1950  \n",
       "23139               493.722222            1850  "
      ]
     },
     "execution_count": 119,
     "metadata": {},
     "output_type": "execute_result"
    }
   ],
   "source": [
    "df.nsmallest(20, 'Cylinders')"
   ]
  },
  {
   "cell_type": "markdown",
   "id": "6f01c40b",
   "metadata": {},
   "source": [
    "# Recheking my copy-1 (5th Aug 2023)"
   ]
  },
  {
   "cell_type": "code",
   "execution_count": 3,
   "id": "e5b06ed8",
   "metadata": {},
   "outputs": [],
   "source": [
    "import numpy as np\n",
    "import pandas as pd"
   ]
  },
  {
   "cell_type": "code",
   "execution_count": 7,
   "id": "04961e52",
   "metadata": {},
   "outputs": [
    {
     "data": {
      "text/html": [
       "<div>\n",
       "<style scoped>\n",
       "    .dataframe tbody tr th:only-of-type {\n",
       "        vertical-align: middle;\n",
       "    }\n",
       "\n",
       "    .dataframe tbody tr th {\n",
       "        vertical-align: top;\n",
       "    }\n",
       "\n",
       "    .dataframe thead th {\n",
       "        text-align: right;\n",
       "    }\n",
       "</style>\n",
       "<table border=\"1\" class=\"dataframe\">\n",
       "  <thead>\n",
       "    <tr style=\"text-align: right;\">\n",
       "      <th></th>\n",
       "      <th>Make</th>\n",
       "      <th>Model</th>\n",
       "      <th>Year</th>\n",
       "      <th>Engine Displacement</th>\n",
       "      <th>Cylinders</th>\n",
       "      <th>Transmission</th>\n",
       "      <th>Drivetrain</th>\n",
       "      <th>Vehicle Class</th>\n",
       "      <th>Fuel Type</th>\n",
       "      <th>Fuel Barrels/Year</th>\n",
       "      <th>City MPG</th>\n",
       "      <th>Highway MPG</th>\n",
       "      <th>Combined MPG</th>\n",
       "      <th>CO2 Emission Grams/Mile</th>\n",
       "      <th>Fuel Cost/Year</th>\n",
       "    </tr>\n",
       "  </thead>\n",
       "  <tbody>\n",
       "    <tr>\n",
       "      <th>0</th>\n",
       "      <td>AM General</td>\n",
       "      <td>DJ Po Vehicle 2WD</td>\n",
       "      <td>1984</td>\n",
       "      <td>2.5</td>\n",
       "      <td>4.0</td>\n",
       "      <td>Automatic 3-spd</td>\n",
       "      <td>2-Wheel Drive</td>\n",
       "      <td>Special Purpose Vehicle 2WD</td>\n",
       "      <td>Regular</td>\n",
       "      <td>19.388824</td>\n",
       "      <td>18</td>\n",
       "      <td>17</td>\n",
       "      <td>17</td>\n",
       "      <td>522.764706</td>\n",
       "      <td>1950</td>\n",
       "    </tr>\n",
       "    <tr>\n",
       "      <th>1</th>\n",
       "      <td>AM General</td>\n",
       "      <td>FJ8c Post Office</td>\n",
       "      <td>1984</td>\n",
       "      <td>4.2</td>\n",
       "      <td>6.0</td>\n",
       "      <td>Automatic 3-spd</td>\n",
       "      <td>2-Wheel Drive</td>\n",
       "      <td>Special Purpose Vehicle 2WD</td>\n",
       "      <td>Regular</td>\n",
       "      <td>25.354615</td>\n",
       "      <td>13</td>\n",
       "      <td>13</td>\n",
       "      <td>13</td>\n",
       "      <td>683.615385</td>\n",
       "      <td>2550</td>\n",
       "    </tr>\n",
       "    <tr>\n",
       "      <th>2</th>\n",
       "      <td>AM General</td>\n",
       "      <td>Post Office DJ5 2WD</td>\n",
       "      <td>1985</td>\n",
       "      <td>2.5</td>\n",
       "      <td>4.0</td>\n",
       "      <td>Automatic 3-spd</td>\n",
       "      <td>Rear-Wheel Drive</td>\n",
       "      <td>Special Purpose Vehicle 2WD</td>\n",
       "      <td>Regular</td>\n",
       "      <td>20.600625</td>\n",
       "      <td>16</td>\n",
       "      <td>17</td>\n",
       "      <td>16</td>\n",
       "      <td>555.437500</td>\n",
       "      <td>2100</td>\n",
       "    </tr>\n",
       "    <tr>\n",
       "      <th>3</th>\n",
       "      <td>AM General</td>\n",
       "      <td>Post Office DJ8 2WD</td>\n",
       "      <td>1985</td>\n",
       "      <td>4.2</td>\n",
       "      <td>6.0</td>\n",
       "      <td>Automatic 3-spd</td>\n",
       "      <td>Rear-Wheel Drive</td>\n",
       "      <td>Special Purpose Vehicle 2WD</td>\n",
       "      <td>Regular</td>\n",
       "      <td>25.354615</td>\n",
       "      <td>13</td>\n",
       "      <td>13</td>\n",
       "      <td>13</td>\n",
       "      <td>683.615385</td>\n",
       "      <td>2550</td>\n",
       "    </tr>\n",
       "    <tr>\n",
       "      <th>4</th>\n",
       "      <td>ASC Incorporated</td>\n",
       "      <td>GNX</td>\n",
       "      <td>1987</td>\n",
       "      <td>3.8</td>\n",
       "      <td>6.0</td>\n",
       "      <td>Automatic 4-spd</td>\n",
       "      <td>Rear-Wheel Drive</td>\n",
       "      <td>Midsize Cars</td>\n",
       "      <td>Premium</td>\n",
       "      <td>20.600625</td>\n",
       "      <td>14</td>\n",
       "      <td>21</td>\n",
       "      <td>16</td>\n",
       "      <td>555.437500</td>\n",
       "      <td>2550</td>\n",
       "    </tr>\n",
       "  </tbody>\n",
       "</table>\n",
       "</div>"
      ],
      "text/plain": [
       "               Make                Model  Year  Engine Displacement  \\\n",
       "0        AM General    DJ Po Vehicle 2WD  1984                  2.5   \n",
       "1        AM General     FJ8c Post Office  1984                  4.2   \n",
       "2        AM General  Post Office DJ5 2WD  1985                  2.5   \n",
       "3        AM General  Post Office DJ8 2WD  1985                  4.2   \n",
       "4  ASC Incorporated                  GNX  1987                  3.8   \n",
       "\n",
       "   Cylinders     Transmission        Drivetrain                Vehicle Class  \\\n",
       "0        4.0  Automatic 3-spd     2-Wheel Drive  Special Purpose Vehicle 2WD   \n",
       "1        6.0  Automatic 3-spd     2-Wheel Drive  Special Purpose Vehicle 2WD   \n",
       "2        4.0  Automatic 3-spd  Rear-Wheel Drive  Special Purpose Vehicle 2WD   \n",
       "3        6.0  Automatic 3-spd  Rear-Wheel Drive  Special Purpose Vehicle 2WD   \n",
       "4        6.0  Automatic 4-spd  Rear-Wheel Drive                 Midsize Cars   \n",
       "\n",
       "  Fuel Type  Fuel Barrels/Year  City MPG  Highway MPG  Combined MPG  \\\n",
       "0   Regular          19.388824        18           17            17   \n",
       "1   Regular          25.354615        13           13            13   \n",
       "2   Regular          20.600625        16           17            16   \n",
       "3   Regular          25.354615        13           13            13   \n",
       "4   Premium          20.600625        14           21            16   \n",
       "\n",
       "   CO2 Emission Grams/Mile  Fuel Cost/Year  \n",
       "0               522.764706            1950  \n",
       "1               683.615385            2550  \n",
       "2               555.437500            2100  \n",
       "3               683.615385            2550  \n",
       "4               555.437500            2550  "
      ]
     },
     "execution_count": 7,
     "metadata": {},
     "output_type": "execute_result"
    }
   ],
   "source": [
    "# df = pd.read_csv(\"data/vehicles.csv\", index=False)\n",
    "# df.head()\n",
    "\n",
    "\n",
    "df = pd.read_csv(\"data/vehicles.csv\")\n",
    "df.head()\n"
   ]
  },
  {
   "cell_type": "markdown",
   "id": "75bf0722",
   "metadata": {},
   "source": [
    "##Q2. Calculate the top 5 brands(Make) with the most unique models, order your answer in descending order with respect to the number of unique models."
   ]
  },
  {
   "cell_type": "code",
   "execution_count": 55,
   "id": "26a9182d",
   "metadata": {},
   "outputs": [
    {
     "data": {
      "text/plain": [
       "[['Mercedes-Benz', 333],\n",
       " ['BMW', 284],\n",
       " ['Chevrolet', 253],\n",
       " ['Ford', 185],\n",
       " ['GMC', 163]]"
      ]
     },
     "execution_count": 55,
     "metadata": {},
     "output_type": "execute_result"
    }
   ],
   "source": [
    "result = df.groupby('Make')['Model'].nunique().nlargest(5).reset_index(name='Count').values.tolist()\n",
    "result  # faster code"
   ]
  },
  {
   "cell_type": "code",
   "execution_count": null,
   "id": "06c87f47",
   "metadata": {},
   "outputs": [],
   "source": []
  },
  {
   "cell_type": "code",
   "execution_count": 44,
   "id": "cf2b313e",
   "metadata": {},
   "outputs": [
    {
     "data": {
      "text/html": [
       "<div>\n",
       "<style scoped>\n",
       "    .dataframe tbody tr th:only-of-type {\n",
       "        vertical-align: middle;\n",
       "    }\n",
       "\n",
       "    .dataframe tbody tr th {\n",
       "        vertical-align: top;\n",
       "    }\n",
       "\n",
       "    .dataframe thead th {\n",
       "        text-align: right;\n",
       "    }\n",
       "</style>\n",
       "<table border=\"1\" class=\"dataframe\">\n",
       "  <thead>\n",
       "    <tr style=\"text-align: right;\">\n",
       "      <th></th>\n",
       "      <th>Make</th>\n",
       "      <th>Model</th>\n",
       "    </tr>\n",
       "  </thead>\n",
       "  <tbody>\n",
       "    <tr>\n",
       "      <th>0</th>\n",
       "      <td>Mercedes-Benz</td>\n",
       "      <td>333</td>\n",
       "    </tr>\n",
       "    <tr>\n",
       "      <th>1</th>\n",
       "      <td>BMW</td>\n",
       "      <td>284</td>\n",
       "    </tr>\n",
       "    <tr>\n",
       "      <th>2</th>\n",
       "      <td>Chevrolet</td>\n",
       "      <td>253</td>\n",
       "    </tr>\n",
       "    <tr>\n",
       "      <th>3</th>\n",
       "      <td>Ford</td>\n",
       "      <td>185</td>\n",
       "    </tr>\n",
       "    <tr>\n",
       "      <th>4</th>\n",
       "      <td>GMC</td>\n",
       "      <td>163</td>\n",
       "    </tr>\n",
       "  </tbody>\n",
       "</table>\n",
       "</div>"
      ],
      "text/plain": [
       "            Make  Model\n",
       "0  Mercedes-Benz    333\n",
       "1            BMW    284\n",
       "2      Chevrolet    253\n",
       "3           Ford    185\n",
       "4            GMC    163"
      ]
     },
     "execution_count": 44,
     "metadata": {},
     "output_type": "execute_result"
    }
   ],
   "source": [
    "df.groupby('Make').nunique().sort_values(by='Model', ascending=False).head()['Model'].reset_index()"
   ]
  },
  {
   "cell_type": "code",
   "execution_count": 56,
   "id": "c580cfae",
   "metadata": {},
   "outputs": [
    {
     "name": "stdout",
     "output_type": "stream",
     "text": [
      "<class 'pandas.core.series.Series'>\n"
     ]
    }
   ],
   "source": [
    "print(type(df.groupby('Make').nunique().sort_values(by='Model', ascending=False)['Model'].head()))"
   ]
  },
  {
   "cell_type": "code",
   "execution_count": 24,
   "id": "0f963ac8",
   "metadata": {},
   "outputs": [
    {
     "name": "stdout",
     "output_type": "stream",
     "text": [
      "['Mercedes-Benz', 'BMW', 'Chevrolet', 'Ford', 'GMC'] [333, 284, 253, 185, 163]\n"
     ]
    }
   ],
   "source": [
    "indices = df.groupby('Make').nunique().sort_values(by='Model', ascending=False)['Model'].head().index.to_list()\n",
    "values = df.groupby('Make').nunique().sort_values(by='Model', ascending=False)['Model'].head().to_list()\n",
    "print(indices, values)"
   ]
  },
  {
   "cell_type": "code",
   "execution_count": 35,
   "id": "78ce1b21",
   "metadata": {},
   "outputs": [
    {
     "data": {
      "text/html": [
       "<div>\n",
       "<style scoped>\n",
       "    .dataframe tbody tr th:only-of-type {\n",
       "        vertical-align: middle;\n",
       "    }\n",
       "\n",
       "    .dataframe tbody tr th {\n",
       "        vertical-align: top;\n",
       "    }\n",
       "\n",
       "    .dataframe thead th {\n",
       "        text-align: right;\n",
       "    }\n",
       "</style>\n",
       "<table border=\"1\" class=\"dataframe\">\n",
       "  <thead>\n",
       "    <tr style=\"text-align: right;\">\n",
       "      <th></th>\n",
       "      <th>Make</th>\n",
       "      <th>Model</th>\n",
       "    </tr>\n",
       "  </thead>\n",
       "  <tbody>\n",
       "    <tr>\n",
       "      <th>0</th>\n",
       "      <td>Mercedes-Benz</td>\n",
       "      <td>333</td>\n",
       "    </tr>\n",
       "    <tr>\n",
       "      <th>1</th>\n",
       "      <td>BMW</td>\n",
       "      <td>284</td>\n",
       "    </tr>\n",
       "    <tr>\n",
       "      <th>2</th>\n",
       "      <td>Chevrolet</td>\n",
       "      <td>253</td>\n",
       "    </tr>\n",
       "    <tr>\n",
       "      <th>3</th>\n",
       "      <td>Ford</td>\n",
       "      <td>185</td>\n",
       "    </tr>\n",
       "    <tr>\n",
       "      <th>4</th>\n",
       "      <td>GMC</td>\n",
       "      <td>163</td>\n",
       "    </tr>\n",
       "  </tbody>\n",
       "</table>\n",
       "</div>"
      ],
      "text/plain": [
       "            Make  Model\n",
       "0  Mercedes-Benz    333\n",
       "1            BMW    284\n",
       "2      Chevrolet    253\n",
       "3           Ford    185\n",
       "4            GMC    163"
      ]
     },
     "execution_count": 35,
     "metadata": {},
     "output_type": "execute_result"
    }
   ],
   "source": [
    "top_brands = df.groupby('Make').nunique().sort_values(by='Model', ascending=False).head()['Model'].reset_index()#.reset_index()  # df\n",
    "top_brands"
   ]
  },
  {
   "cell_type": "code",
   "execution_count": null,
   "id": "4698fcaf",
   "metadata": {},
   "outputs": [],
   "source": [
    "top_brands = top_brands.sort_values(by='Model', ascending=False).head(5)"
   ]
  },
  {
   "cell_type": "code",
   "execution_count": 25,
   "id": "6754d346",
   "metadata": {},
   "outputs": [],
   "source": [
    "# How to zip 2 lists\n",
    "list1 = [1, 2, 3]\n",
    "list2 = ['a', 'b', 'c']\n",
    "\n",
    "zipped_list = list(zip(list1, list2))\n",
    "print(zipped_list)\n",
    "for x in zipped_list:\n",
    "    "
   ]
  },
  {
   "cell_type": "code",
   "execution_count": 8,
   "id": "bb8cd435",
   "metadata": {},
   "outputs": [
    {
     "name": "stdout",
     "output_type": "stream",
     "text": [
      "<class 'pandas.core.frame.DataFrame'>\n",
      "RangeIndex: 35952 entries, 0 to 35951\n",
      "Data columns (total 15 columns):\n",
      " #   Column                   Non-Null Count  Dtype  \n",
      "---  ------                   --------------  -----  \n",
      " 0   Make                     35952 non-null  object \n",
      " 1   Model                    35952 non-null  object \n",
      " 2   Year                     35952 non-null  int64  \n",
      " 3   Engine Displacement      35952 non-null  float64\n",
      " 4   Cylinders                35952 non-null  float64\n",
      " 5   Transmission             35952 non-null  object \n",
      " 6   Drivetrain               35952 non-null  object \n",
      " 7   Vehicle Class            35952 non-null  object \n",
      " 8   Fuel Type                35952 non-null  object \n",
      " 9   Fuel Barrels/Year        35952 non-null  float64\n",
      " 10  City MPG                 35952 non-null  int64  \n",
      " 11  Highway MPG              35952 non-null  int64  \n",
      " 12  Combined MPG             35952 non-null  int64  \n",
      " 13  CO2 Emission Grams/Mile  35952 non-null  float64\n",
      " 14  Fuel Cost/Year           35952 non-null  int64  \n",
      "dtypes: float64(4), int64(5), object(6)\n",
      "memory usage: 4.1+ MB\n"
     ]
    }
   ],
   "source": [
    "df.info()"
   ]
  },
  {
   "cell_type": "code",
   "execution_count": 57,
   "id": "0cca71fa",
   "metadata": {},
   "outputs": [],
   "source": [
    "# Q3"
   ]
  },
  {
   "cell_type": "code",
   "execution_count": 58,
   "id": "2f679c3b",
   "metadata": {},
   "outputs": [
    {
     "data": {
      "text/plain": [
       "array(['Regular', 'Premium', 'Diesel', 'Premium and Electricity',\n",
       "       'Premium or E85', 'Premium Gas or Electricity', 'Gasoline or E85',\n",
       "       'Gasoline or natural gas', 'CNG', 'Regular Gas or Electricity',\n",
       "       'Midgrade', 'Regular Gas and Electricity', 'Gasoline or propane'],\n",
       "      dtype=object)"
      ]
     },
     "execution_count": 58,
     "metadata": {},
     "output_type": "execute_result"
    }
   ],
   "source": [
    "df['Fuel Type'].unique()"
   ]
  },
  {
   "cell_type": "code",
   "execution_count": 60,
   "id": "454004c3",
   "metadata": {},
   "outputs": [
    {
     "data": {
      "text/plain": [
       "array(['CNG', 'Diesel', 'Gasoline or E85', 'Gasoline or natural gas',\n",
       "       'Gasoline or propane', 'Midgrade', 'Premium',\n",
       "       'Premium Gas or Electricity', 'Premium and Electricity',\n",
       "       'Premium or E85', 'Regular', 'Regular Gas and Electricity',\n",
       "       'Regular Gas or Electricity'], dtype=object)"
      ]
     },
     "execution_count": 60,
     "metadata": {},
     "output_type": "execute_result"
    }
   ],
   "source": [
    "# improve \n",
    "# sorted(df['Fuel Type'].unique().tolist()) ,  SPEED\n",
    "import numpy as np\n",
    "\n",
    "sorted_fuels = np.sort(df['Fuel Type'].unique())\n",
    "sorted_fuels"
   ]
  },
  {
   "cell_type": "code",
   "execution_count": 61,
   "id": "a0ddecc9",
   "metadata": {},
   "outputs": [
    {
     "data": {
      "text/html": [
       "<div>\n",
       "<style scoped>\n",
       "    .dataframe tbody tr th:only-of-type {\n",
       "        vertical-align: middle;\n",
       "    }\n",
       "\n",
       "    .dataframe tbody tr th {\n",
       "        vertical-align: top;\n",
       "    }\n",
       "\n",
       "    .dataframe thead th {\n",
       "        text-align: right;\n",
       "    }\n",
       "</style>\n",
       "<table border=\"1\" class=\"dataframe\">\n",
       "  <thead>\n",
       "    <tr style=\"text-align: right;\">\n",
       "      <th></th>\n",
       "      <th>A</th>\n",
       "      <th>B</th>\n",
       "    </tr>\n",
       "  </thead>\n",
       "  <tbody>\n",
       "    <tr>\n",
       "      <th>0</th>\n",
       "      <td>1</td>\n",
       "      <td>4</td>\n",
       "    </tr>\n",
       "    <tr>\n",
       "      <th>1</th>\n",
       "      <td>2</td>\n",
       "      <td>5</td>\n",
       "    </tr>\n",
       "    <tr>\n",
       "      <th>2</th>\n",
       "      <td>3</td>\n",
       "      <td>6</td>\n",
       "    </tr>\n",
       "  </tbody>\n",
       "</table>\n",
       "</div>"
      ],
      "text/plain": [
       "   A  B\n",
       "0  1  4\n",
       "1  2  5\n",
       "2  3  6"
      ]
     },
     "execution_count": 61,
     "metadata": {},
     "output_type": "execute_result"
    }
   ],
   "source": [
    "# effect on changing a slice on original df\n",
    "import pandas as pd\n",
    "\n",
    "# Creating a sample DataFrame\n",
    "data = {'A': [1, 2, 3], 'B': [4, 5, 6]}\n",
    "df = pd.DataFrame(data)\n",
    "df"
   ]
  },
  {
   "cell_type": "code",
   "execution_count": 62,
   "id": "e67df1e1",
   "metadata": {},
   "outputs": [
    {
     "data": {
      "text/html": [
       "<div>\n",
       "<style scoped>\n",
       "    .dataframe tbody tr th:only-of-type {\n",
       "        vertical-align: middle;\n",
       "    }\n",
       "\n",
       "    .dataframe tbody tr th {\n",
       "        vertical-align: top;\n",
       "    }\n",
       "\n",
       "    .dataframe thead th {\n",
       "        text-align: right;\n",
       "    }\n",
       "</style>\n",
       "<table border=\"1\" class=\"dataframe\">\n",
       "  <thead>\n",
       "    <tr style=\"text-align: right;\">\n",
       "      <th></th>\n",
       "      <th>A</th>\n",
       "      <th>B</th>\n",
       "    </tr>\n",
       "  </thead>\n",
       "  <tbody>\n",
       "    <tr>\n",
       "      <th>0</th>\n",
       "      <td>1</td>\n",
       "      <td>4</td>\n",
       "    </tr>\n",
       "    <tr>\n",
       "      <th>1</th>\n",
       "      <td>2</td>\n",
       "      <td>5</td>\n",
       "    </tr>\n",
       "    <tr>\n",
       "      <th>2</th>\n",
       "      <td>3</td>\n",
       "      <td>6</td>\n",
       "    </tr>\n",
       "  </tbody>\n",
       "</table>\n",
       "</div>"
      ],
      "text/plain": [
       "   A  B\n",
       "0  1  4\n",
       "1  2  5\n",
       "2  3  6"
      ]
     },
     "execution_count": 62,
     "metadata": {},
     "output_type": "execute_result"
    }
   ],
   "source": [
    "# Slicing the DataFrame to create a new view\n",
    "df_slice = df.iloc[:, 0:2]\n",
    "df_slice"
   ]
  },
  {
   "cell_type": "code",
   "execution_count": 64,
   "id": "a5e3c705",
   "metadata": {},
   "outputs": [
    {
     "name": "stdout",
     "output_type": "stream",
     "text": [
      "    A  B\n",
      "0  99  4\n",
      "1   2  5\n",
      "2   3  6\n"
     ]
    }
   ],
   "source": [
    "# Modifying the value in the new slice\n",
    "df_slice.at[0, 'A'] = 99\n",
    "\n",
    "# Check the original DataFrame\n",
    "print(df)"
   ]
  },
  {
   "cell_type": "markdown",
   "id": "651f7982",
   "metadata": {},
   "source": [
    "Conclusion:"
   ]
  },
  {
   "cell_type": "markdown",
   "id": "993a6229",
   "metadata": {},
   "source": [
    "In sorting a new slice change will not affect the original df"
   ]
  },
  {
   "cell_type": "code",
   "execution_count": 65,
   "id": "10bfa4cb",
   "metadata": {},
   "outputs": [
    {
     "name": "stdout",
     "output_type": "stream",
     "text": [
      "   A  B\n",
      "0  1  4\n",
      "1  2  5\n",
      "2  3  6\n"
     ]
    },
    {
     "name": "stderr",
     "output_type": "stream",
     "text": [
      "/var/folders/jk/jzn8yxf53h546z4w5yvmch280000gn/T/ipykernel_11911/71817938.py:11: SettingWithCopyWarning: \n",
      "A value is trying to be set on a copy of a slice from a DataFrame.\n",
      "Try using .loc[row_indexer,col_indexer] = value instead\n",
      "\n",
      "See the caveats in the documentation: https://pandas.pydata.org/pandas-docs/stable/user_guide/indexing.html#returning-a-view-versus-a-copy\n",
      "  df_slice['NewColumn'] = [10, 20, 30]\n"
     ]
    }
   ],
   "source": [
    "import pandas as pd\n",
    "\n",
    "# Creating a sample DataFrame\n",
    "data = {'A': [1, 2, 3], 'B': [4, 5, 6]}\n",
    "df = pd.DataFrame(data)\n",
    "\n",
    "# Slicing the DataFrame to create a new view\n",
    "df_slice = df.iloc[:, 0:2]\n",
    "\n",
    "# Adding a new column to the slice\n",
    "df_slice['NewColumn'] = [10, 20, 30]\n",
    "\n",
    "# Check the original DataFrame (not affected)\n",
    "print(df)\n"
   ]
  },
  {
   "cell_type": "code",
   "execution_count": null,
   "id": "ea8c2b7c",
   "metadata": {},
   "outputs": [],
   "source": []
  },
  {
   "cell_type": "code",
   "execution_count": 67,
   "id": "ec35c939",
   "metadata": {},
   "outputs": [
    {
     "data": {
      "text/html": [
       "<div>\n",
       "<style scoped>\n",
       "    .dataframe tbody tr th:only-of-type {\n",
       "        vertical-align: middle;\n",
       "    }\n",
       "\n",
       "    .dataframe tbody tr th {\n",
       "        vertical-align: top;\n",
       "    }\n",
       "\n",
       "    .dataframe thead th {\n",
       "        text-align: right;\n",
       "    }\n",
       "</style>\n",
       "<table border=\"1\" class=\"dataframe\">\n",
       "  <thead>\n",
       "    <tr style=\"text-align: right;\">\n",
       "      <th></th>\n",
       "      <th>A</th>\n",
       "      <th>B</th>\n",
       "    </tr>\n",
       "  </thead>\n",
       "  <tbody>\n",
       "    <tr>\n",
       "      <th>0</th>\n",
       "      <td>1</td>\n",
       "      <td>4</td>\n",
       "    </tr>\n",
       "    <tr>\n",
       "      <th>1</th>\n",
       "      <td>2</td>\n",
       "      <td>5</td>\n",
       "    </tr>\n",
       "    <tr>\n",
       "      <th>2</th>\n",
       "      <td>3</td>\n",
       "      <td>6</td>\n",
       "    </tr>\n",
       "  </tbody>\n",
       "</table>\n",
       "</div>"
      ],
      "text/plain": [
       "   A  B\n",
       "0  1  4\n",
       "1  2  5\n",
       "2  3  6"
      ]
     },
     "execution_count": 67,
     "metadata": {},
     "output_type": "execute_result"
    }
   ],
   "source": [
    "import pandas as pd\n",
    "\n",
    "# Creating a sample DataFrame\n",
    "data = {'A': [1, 2, 3], 'B': [4, 5, 6]}\n",
    "df = pd.DataFrame(data)\n",
    "\n",
    "# Slicing the DataFrame to create a new view\n",
    "df_slice = df.iloc[:, 0:2]\n",
    "df_slice"
   ]
  },
  {
   "cell_type": "code",
   "execution_count": 68,
   "id": "d94651b3",
   "metadata": {},
   "outputs": [
    {
     "data": {
      "text/html": [
       "<div>\n",
       "<style scoped>\n",
       "    .dataframe tbody tr th:only-of-type {\n",
       "        vertical-align: middle;\n",
       "    }\n",
       "\n",
       "    .dataframe tbody tr th {\n",
       "        vertical-align: top;\n",
       "    }\n",
       "\n",
       "    .dataframe thead th {\n",
       "        text-align: right;\n",
       "    }\n",
       "</style>\n",
       "<table border=\"1\" class=\"dataframe\">\n",
       "  <thead>\n",
       "    <tr style=\"text-align: right;\">\n",
       "      <th></th>\n",
       "      <th>A</th>\n",
       "      <th>B</th>\n",
       "    </tr>\n",
       "  </thead>\n",
       "  <tbody>\n",
       "    <tr>\n",
       "      <th>0</th>\n",
       "      <td>1</td>\n",
       "      <td>4</td>\n",
       "    </tr>\n",
       "    <tr>\n",
       "      <th>1</th>\n",
       "      <td>2</td>\n",
       "      <td>5</td>\n",
       "    </tr>\n",
       "    <tr>\n",
       "      <th>2</th>\n",
       "      <td>3</td>\n",
       "      <td>6</td>\n",
       "    </tr>\n",
       "  </tbody>\n",
       "</table>\n",
       "</div>"
      ],
      "text/plain": [
       "   A  B\n",
       "0  1  4\n",
       "1  2  5\n",
       "2  3  6"
      ]
     },
     "execution_count": 68,
     "metadata": {},
     "output_type": "execute_result"
    }
   ],
   "source": [
    "df"
   ]
  },
  {
   "cell_type": "code",
   "execution_count": 71,
   "id": "8f39b62a",
   "metadata": {},
   "outputs": [
    {
     "name": "stderr",
     "output_type": "stream",
     "text": [
      "/var/folders/jk/jzn8yxf53h546z4w5yvmch280000gn/T/ipykernel_11911/601051016.py:2: SettingWithCopyWarning: \n",
      "A value is trying to be set on a copy of a slice from a DataFrame.\n",
      "Try using .loc[row_indexer,col_indexer] = value instead\n",
      "\n",
      "See the caveats in the documentation: https://pandas.pydata.org/pandas-docs/stable/user_guide/indexing.html#returning-a-view-versus-a-copy\n",
      "  df_slice['NewColumn'] = [10, 20, 30]\n"
     ]
    }
   ],
   "source": [
    "# Adding a new column to the slice\n",
    "df_slice['NewColumn'] = [10, 20, 30]\n",
    "\n",
    "# Check the original DataFrame (not affected)\n",
    "# print(df)\n"
   ]
  },
  {
   "cell_type": "code",
   "execution_count": 70,
   "id": "3ab92f8d",
   "metadata": {},
   "outputs": [
    {
     "name": "stdout",
     "output_type": "stream",
     "text": [
      "   A  B  NewColumn\n",
      "0  1  4         10\n",
      "1  2  5         20\n",
      "2  3  6         30\n"
     ]
    }
   ],
   "source": [
    "print(df_slice)``bb"
   ]
  },
  {
   "cell_type": "code",
   "execution_count": null,
   "id": "ad4f6ec7",
   "metadata": {},
   "outputs": [],
   "source": []
  },
  {
   "cell_type": "code",
   "execution_count": null,
   "id": "3ecfadf2",
   "metadata": {},
   "outputs": [],
   "source": []
  },
  {
   "cell_type": "markdown",
   "id": "5d9ea08e",
   "metadata": {},
   "source": [
    "## pandas cut method\n",
    "It is used to created groups eg age groups etc"
   ]
  },
  {
   "cell_type": "code",
   "execution_count": 74,
   "id": "54f3eda9",
   "metadata": {},
   "outputs": [
    {
     "name": "stdout",
     "output_type": "stream",
     "text": [
      "<class 'pandas.core.arrays.categorical.Categorical'>\n"
     ]
    },
    {
     "data": {
      "text/plain": [
       "[(18, 30], (18, 30], (30, 50], (30, 50], (18, 30], (50, 100], (30, 50], (30, 50], (30, 50], (50, 100]]\n",
       "Categories (4, interval[int64, right]): [(0, 18] < (18, 30] < (30, 50] < (50, 100]]"
      ]
     },
     "execution_count": 74,
     "metadata": {},
     "output_type": "execute_result"
    }
   ],
   "source": [
    "import pandas as pd\n",
    "\n",
    "# Sample data\n",
    "ages = [23, 28, 35, 42, 19, 56, 31, 40, 50, 65]\n",
    "\n",
    "# Define bin edges for age groups\n",
    "bins = [0, 18, 30, 50, 100]\n",
    "\n",
    "# Use pd.cut() to create age groups\n",
    "age_groups = pd.cut(ages, bins)\n",
    "\n",
    "# Display the result\n",
    "print(type(age_groups))\n",
    "age_groups"
   ]
  },
  {
   "cell_type": "code",
   "execution_count": null,
   "id": "7997e0f2",
   "metadata": {},
   "outputs": [],
   "source": [
    "grades = ['A', 'B', 'C', \"D\", \"E\"]\n",
    "bin_edges = [0, 40, 50, 60, 70]"
   ]
  },
  {
   "cell_type": "code",
   "execution_count": null,
   "id": "ec94cade",
   "metadata": {},
   "outputs": [],
   "source": []
  },
  {
   "cell_type": "markdown",
   "id": "c84afedb",
   "metadata": {},
   "source": [
    "Q7 Tuple Test"
   ]
  },
  {
   "cell_type": "code",
   "execution_count": 78,
   "id": "c171da69",
   "metadata": {},
   "outputs": [
    {
     "data": {
      "text/plain": [
       "(2, 3, 4, 5, 2)"
      ]
     },
     "execution_count": 78,
     "metadata": {},
     "output_type": "execute_result"
    }
   ],
   "source": [
    "(2, 3) + (4,5) + (2,)"
   ]
  },
  {
   "cell_type": "code",
   "execution_count": 76,
   "id": "2dad6a6d",
   "metadata": {},
   "outputs": [
    {
     "data": {
      "text/plain": [
       "[2, 3, 4, 5]"
      ]
     },
     "execution_count": 76,
     "metadata": {},
     "output_type": "execute_result"
    }
   ],
   "source": [
    "[2, 3] + [4, 5]"
   ]
  },
  {
   "cell_type": "code",
   "execution_count": 79,
   "id": "1ff54c8a",
   "metadata": {},
   "outputs": [],
   "source": [
    "tuples_list = [(i, i + 4) for i in range(0, 96, 5)]"
   ]
  },
  {
   "cell_type": "code",
   "execution_count": 81,
   "id": "b489dc9a",
   "metadata": {},
   "outputs": [],
   "source": [
    "# tuples_list"
   ]
  },
  {
   "cell_type": "code",
   "execution_count": 85,
   "id": "d41b92b1",
   "metadata": {},
   "outputs": [
    {
     "data": {
      "text/plain": [
       "4.0"
      ]
     },
     "execution_count": 85,
     "metadata": {},
     "output_type": "execute_result"
    }
   ],
   "source": [
    "import numpy as np\n",
    "#calculate median\n",
    "np.median([ 1, 3, 5, 5])"
   ]
  },
  {
   "cell_type": "code",
   "execution_count": 86,
   "id": "d8c97413",
   "metadata": {},
   "outputs": [
    {
     "data": {
      "text/plain": [
       "float"
      ]
     },
     "execution_count": 86,
     "metadata": {},
     "output_type": "execute_result"
    }
   ],
   "source": [
    "type(np.nan)"
   ]
  },
  {
   "cell_type": "code",
   "execution_count": 87,
   "id": "c5e0ebde",
   "metadata": {},
   "outputs": [
    {
     "name": "stdout",
     "output_type": "stream",
     "text": [
      "Mean: 3.25\n"
     ]
    }
   ],
   "source": [
    "import numpy as np\n",
    "\n",
    "# Create an array with some missing values represented by np.nan\n",
    "data = np.array([1.0, 2.0, np.nan, 4.0, np.nan, 6.0])\n",
    "\n",
    "# Calculate the mean of the array, ignoring the np.nan values\n",
    "mean_value = np.nanmean(data)\n",
    "\n",
    "print(\"Mean:\", mean_value)\n"
   ]
  },
  {
   "cell_type": "code",
   "execution_count": 89,
   "id": "f7a087b4",
   "metadata": {},
   "outputs": [
    {
     "data": {
      "text/plain": [
       "nan"
      ]
     },
     "execution_count": 89,
     "metadata": {},
     "output_type": "execute_result"
    }
   ],
   "source": [
    "np.mean(data)"
   ]
  },
  {
   "cell_type": "code",
   "execution_count": 92,
   "id": "63ef0583",
   "metadata": {},
   "outputs": [
    {
     "data": {
      "text/plain": [
       "2.0"
      ]
     },
     "execution_count": 92,
     "metadata": {},
     "output_type": "execute_result"
    }
   ],
   "source": [
    "np.nanmedian([np.nan, 1, 3, 2, np.nan]) # will ignore nan, otherwise it will output nan"
   ]
  },
  {
   "cell_type": "code",
   "execution_count": 94,
   "id": "1ebbd360",
   "metadata": {},
   "outputs": [
    {
     "data": {
      "text/plain": [
       "nan"
      ]
     },
     "execution_count": 94,
     "metadata": {},
     "output_type": "execute_result"
    }
   ],
   "source": [
    "np.median([np.nan, 1, 3, 2, np.nan]) # will always output to nan"
   ]
  },
  {
   "cell_type": "markdown",
   "id": "a0ac453d",
   "metadata": {},
   "source": [
    "##Q7. Form 7 groups of 5 years to calculated the median Combined MPG of each group. The first group is from 1984 to 1988, the second from 1989 to 1993 and so on. The last group will have years not appearing in the dataset.\n",
    "\n",
    "#####Note: The groups ranges are inclusive on both sides, the first group starts with 1984 and cars from 1984 are included in it.\n",
    "#####Format : A 7X2 list with the first element of each row being a tuple of two integers being the lower and uppper range of the year groups and the esecond element being the median Combined MPG of that group, a float number.\n",
    "\n",
    "#####Example answer:\n",
    "\n",
    "\n",
    "```\n",
    "[[(1984, 1988), 11.0],\n",
    " [(1989, 1993), 10.0],\n",
    " [(1994, 1998), 10.0],\n",
    " [(1999, 2003), 14.0],\n",
    " [(2004, 2008), 13.0],\n",
    " [(2009, 2013), 14.0],\n",
    " [(2014, 2018), 15.0]]\n",
    "```\n"
   ]
  },
  {
   "cell_type": "code",
   "execution_count": 98,
   "id": "6ecf84a9",
   "metadata": {},
   "outputs": [
    {
     "data": {
      "text/plain": [
       "[(1984, 1988),\n",
       " (1989, 1993),\n",
       " (1994, 1998),\n",
       " (1999, 2003),\n",
       " (2004, 2008),\n",
       " (2009, 2013),\n",
       " (2014, 2018)]"
      ]
     },
     "execution_count": 98,
     "metadata": {},
     "output_type": "execute_result"
    }
   ],
   "source": [
    "# create a list of tuples of the year\n",
    "list_tuples = [(i, i+4) for i in range(1984, 2019, 5)]\n",
    "list_tuples"
   ]
  },
  {
   "cell_type": "code",
   "execution_count": 99,
   "id": "192d20b3",
   "metadata": {},
   "outputs": [
    {
     "name": "stdout",
     "output_type": "stream",
     "text": [
      "(1984, 1988)\n",
      "(1989, 1993)\n",
      "(1994, 1998)\n",
      "(1999, 2003)\n",
      "(2004, 2008)\n",
      "(2009, 2013)\n",
      "(2014, 2018)\n"
     ]
    }
   ],
   "source": [
    "for year_group in list_tuples:\n",
    "    print(year_group)"
   ]
  },
  {
   "cell_type": "code",
   "execution_count": 100,
   "id": "484ec203",
   "metadata": {},
   "outputs": [
    {
     "data": {
      "text/html": [
       "<div>\n",
       "<style scoped>\n",
       "    .dataframe tbody tr th:only-of-type {\n",
       "        vertical-align: middle;\n",
       "    }\n",
       "\n",
       "    .dataframe tbody tr th {\n",
       "        vertical-align: top;\n",
       "    }\n",
       "\n",
       "    .dataframe thead th {\n",
       "        text-align: right;\n",
       "    }\n",
       "</style>\n",
       "<table border=\"1\" class=\"dataframe\">\n",
       "  <thead>\n",
       "    <tr style=\"text-align: right;\">\n",
       "      <th></th>\n",
       "      <th>Year</th>\n",
       "      <th>Combined MPG</th>\n",
       "    </tr>\n",
       "  </thead>\n",
       "  <tbody>\n",
       "    <tr>\n",
       "      <th>0</th>\n",
       "      <td>1984</td>\n",
       "      <td>17</td>\n",
       "    </tr>\n",
       "    <tr>\n",
       "      <th>1</th>\n",
       "      <td>1984</td>\n",
       "      <td>13</td>\n",
       "    </tr>\n",
       "    <tr>\n",
       "      <th>2</th>\n",
       "      <td>1985</td>\n",
       "      <td>16</td>\n",
       "    </tr>\n",
       "    <tr>\n",
       "      <th>3</th>\n",
       "      <td>1985</td>\n",
       "      <td>13</td>\n",
       "    </tr>\n",
       "    <tr>\n",
       "      <th>4</th>\n",
       "      <td>1987</td>\n",
       "      <td>16</td>\n",
       "    </tr>\n",
       "  </tbody>\n",
       "</table>\n",
       "</div>"
      ],
      "text/plain": [
       "   Year  Combined MPG\n",
       "0  1984            17\n",
       "1  1984            13\n",
       "2  1985            16\n",
       "3  1985            13\n",
       "4  1987            16"
      ]
     },
     "execution_count": 100,
     "metadata": {},
     "output_type": "execute_result"
    }
   ],
   "source": [
    "df2 = df[['Year', 'Combined MPG']].copy()\n",
    "df2.head()"
   ]
  },
  {
   "cell_type": "code",
   "execution_count": 102,
   "id": "db909035",
   "metadata": {},
   "outputs": [
    {
     "data": {
      "text/plain": [
       "array([[1984,   17],\n",
       "       [1984,   13],\n",
       "       [1985,   16],\n",
       "       ...,\n",
       "       [2015,   36],\n",
       "       [2016,   36],\n",
       "       [2016,   35]])"
      ]
     },
     "execution_count": 102,
     "metadata": {},
     "output_type": "execute_result"
    }
   ],
   "source": [
    "df2.values"
   ]
  },
  {
   "cell_type": "code",
   "execution_count": 96,
   "id": "d45fcf52",
   "metadata": {},
   "outputs": [
    {
     "data": {
      "text/html": [
       "<div>\n",
       "<style scoped>\n",
       "    .dataframe tbody tr th:only-of-type {\n",
       "        vertical-align: middle;\n",
       "    }\n",
       "\n",
       "    .dataframe tbody tr th {\n",
       "        vertical-align: top;\n",
       "    }\n",
       "\n",
       "    .dataframe thead th {\n",
       "        text-align: right;\n",
       "    }\n",
       "</style>\n",
       "<table border=\"1\" class=\"dataframe\">\n",
       "  <thead>\n",
       "    <tr style=\"text-align: right;\">\n",
       "      <th></th>\n",
       "      <th>Make</th>\n",
       "      <th>Model</th>\n",
       "      <th>Year</th>\n",
       "      <th>Engine Displacement</th>\n",
       "      <th>Cylinders</th>\n",
       "      <th>Transmission</th>\n",
       "      <th>Drivetrain</th>\n",
       "      <th>Vehicle Class</th>\n",
       "      <th>Fuel Type</th>\n",
       "      <th>Fuel Barrels/Year</th>\n",
       "      <th>City MPG</th>\n",
       "      <th>Highway MPG</th>\n",
       "      <th>Combined MPG</th>\n",
       "      <th>CO2 Emission Grams/Mile</th>\n",
       "      <th>Fuel Cost/Year</th>\n",
       "    </tr>\n",
       "  </thead>\n",
       "  <tbody>\n",
       "    <tr>\n",
       "      <th>0</th>\n",
       "      <td>AM General</td>\n",
       "      <td>DJ Po Vehicle 2WD</td>\n",
       "      <td>1984</td>\n",
       "      <td>2.5</td>\n",
       "      <td>4.0</td>\n",
       "      <td>Automatic 3-spd</td>\n",
       "      <td>2-Wheel Drive</td>\n",
       "      <td>Special Purpose Vehicle 2WD</td>\n",
       "      <td>Regular</td>\n",
       "      <td>19.388824</td>\n",
       "      <td>18</td>\n",
       "      <td>17</td>\n",
       "      <td>17</td>\n",
       "      <td>522.764706</td>\n",
       "      <td>1950</td>\n",
       "    </tr>\n",
       "    <tr>\n",
       "      <th>1</th>\n",
       "      <td>AM General</td>\n",
       "      <td>FJ8c Post Office</td>\n",
       "      <td>1984</td>\n",
       "      <td>4.2</td>\n",
       "      <td>6.0</td>\n",
       "      <td>Automatic 3-spd</td>\n",
       "      <td>2-Wheel Drive</td>\n",
       "      <td>Special Purpose Vehicle 2WD</td>\n",
       "      <td>Regular</td>\n",
       "      <td>25.354615</td>\n",
       "      <td>13</td>\n",
       "      <td>13</td>\n",
       "      <td>13</td>\n",
       "      <td>683.615385</td>\n",
       "      <td>2550</td>\n",
       "    </tr>\n",
       "    <tr>\n",
       "      <th>2</th>\n",
       "      <td>AM General</td>\n",
       "      <td>Post Office DJ5 2WD</td>\n",
       "      <td>1985</td>\n",
       "      <td>2.5</td>\n",
       "      <td>4.0</td>\n",
       "      <td>Automatic 3-spd</td>\n",
       "      <td>Rear-Wheel Drive</td>\n",
       "      <td>Special Purpose Vehicle 2WD</td>\n",
       "      <td>Regular</td>\n",
       "      <td>20.600625</td>\n",
       "      <td>16</td>\n",
       "      <td>17</td>\n",
       "      <td>16</td>\n",
       "      <td>555.437500</td>\n",
       "      <td>2100</td>\n",
       "    </tr>\n",
       "    <tr>\n",
       "      <th>3</th>\n",
       "      <td>AM General</td>\n",
       "      <td>Post Office DJ8 2WD</td>\n",
       "      <td>1985</td>\n",
       "      <td>4.2</td>\n",
       "      <td>6.0</td>\n",
       "      <td>Automatic 3-spd</td>\n",
       "      <td>Rear-Wheel Drive</td>\n",
       "      <td>Special Purpose Vehicle 2WD</td>\n",
       "      <td>Regular</td>\n",
       "      <td>25.354615</td>\n",
       "      <td>13</td>\n",
       "      <td>13</td>\n",
       "      <td>13</td>\n",
       "      <td>683.615385</td>\n",
       "      <td>2550</td>\n",
       "    </tr>\n",
       "    <tr>\n",
       "      <th>4</th>\n",
       "      <td>ASC Incorporated</td>\n",
       "      <td>GNX</td>\n",
       "      <td>1987</td>\n",
       "      <td>3.8</td>\n",
       "      <td>6.0</td>\n",
       "      <td>Automatic 4-spd</td>\n",
       "      <td>Rear-Wheel Drive</td>\n",
       "      <td>Midsize Cars</td>\n",
       "      <td>Premium</td>\n",
       "      <td>20.600625</td>\n",
       "      <td>14</td>\n",
       "      <td>21</td>\n",
       "      <td>16</td>\n",
       "      <td>555.437500</td>\n",
       "      <td>2550</td>\n",
       "    </tr>\n",
       "  </tbody>\n",
       "</table>\n",
       "</div>"
      ],
      "text/plain": [
       "               Make                Model  Year  Engine Displacement  \\\n",
       "0        AM General    DJ Po Vehicle 2WD  1984                  2.5   \n",
       "1        AM General     FJ8c Post Office  1984                  4.2   \n",
       "2        AM General  Post Office DJ5 2WD  1985                  2.5   \n",
       "3        AM General  Post Office DJ8 2WD  1985                  4.2   \n",
       "4  ASC Incorporated                  GNX  1987                  3.8   \n",
       "\n",
       "   Cylinders     Transmission        Drivetrain                Vehicle Class  \\\n",
       "0        4.0  Automatic 3-spd     2-Wheel Drive  Special Purpose Vehicle 2WD   \n",
       "1        6.0  Automatic 3-spd     2-Wheel Drive  Special Purpose Vehicle 2WD   \n",
       "2        4.0  Automatic 3-spd  Rear-Wheel Drive  Special Purpose Vehicle 2WD   \n",
       "3        6.0  Automatic 3-spd  Rear-Wheel Drive  Special Purpose Vehicle 2WD   \n",
       "4        6.0  Automatic 4-spd  Rear-Wheel Drive                 Midsize Cars   \n",
       "\n",
       "  Fuel Type  Fuel Barrels/Year  City MPG  Highway MPG  Combined MPG  \\\n",
       "0   Regular          19.388824        18           17            17   \n",
       "1   Regular          25.354615        13           13            13   \n",
       "2   Regular          20.600625        16           17            16   \n",
       "3   Regular          25.354615        13           13            13   \n",
       "4   Premium          20.600625        14           21            16   \n",
       "\n",
       "   CO2 Emission Grams/Mile  Fuel Cost/Year  \n",
       "0               522.764706            1950  \n",
       "1               683.615385            2550  \n",
       "2               555.437500            2100  \n",
       "3               683.615385            2550  \n",
       "4               555.437500            2550  "
      ]
     },
     "execution_count": 96,
     "metadata": {},
     "output_type": "execute_result"
    }
   ],
   "source": [
    "df = pd.read_csv('data/vehicles.csv')\n",
    "df.head()"
   ]
  },
  {
   "cell_type": "code",
   "execution_count": 103,
   "id": "bd7cf897",
   "metadata": {},
   "outputs": [],
   "source": [
    "# try this"
   ]
  },
  {
   "cell_type": "code",
   "execution_count": 105,
   "id": "540ecd8f",
   "metadata": {},
   "outputs": [
    {
     "data": {
      "text/html": [
       "<div>\n",
       "<style scoped>\n",
       "    .dataframe tbody tr th:only-of-type {\n",
       "        vertical-align: middle;\n",
       "    }\n",
       "\n",
       "    .dataframe tbody tr th {\n",
       "        vertical-align: top;\n",
       "    }\n",
       "\n",
       "    .dataframe thead th {\n",
       "        text-align: right;\n",
       "    }\n",
       "</style>\n",
       "<table border=\"1\" class=\"dataframe\">\n",
       "  <thead>\n",
       "    <tr style=\"text-align: right;\">\n",
       "      <th></th>\n",
       "      <th>Year</th>\n",
       "      <th>Combined MPG</th>\n",
       "    </tr>\n",
       "  </thead>\n",
       "  <tbody>\n",
       "    <tr>\n",
       "      <th>0</th>\n",
       "      <td>1984</td>\n",
       "      <td>17</td>\n",
       "    </tr>\n",
       "    <tr>\n",
       "      <th>1</th>\n",
       "      <td>1984</td>\n",
       "      <td>13</td>\n",
       "    </tr>\n",
       "    <tr>\n",
       "      <th>2</th>\n",
       "      <td>1985</td>\n",
       "      <td>16</td>\n",
       "    </tr>\n",
       "    <tr>\n",
       "      <th>3</th>\n",
       "      <td>1985</td>\n",
       "      <td>13</td>\n",
       "    </tr>\n",
       "    <tr>\n",
       "      <th>4</th>\n",
       "      <td>1987</td>\n",
       "      <td>16</td>\n",
       "    </tr>\n",
       "    <tr>\n",
       "      <th>...</th>\n",
       "      <td>...</td>\n",
       "      <td>...</td>\n",
       "    </tr>\n",
       "    <tr>\n",
       "      <th>35947</th>\n",
       "      <td>2013</td>\n",
       "      <td>36</td>\n",
       "    </tr>\n",
       "    <tr>\n",
       "      <th>35948</th>\n",
       "      <td>2014</td>\n",
       "      <td>36</td>\n",
       "    </tr>\n",
       "    <tr>\n",
       "      <th>35949</th>\n",
       "      <td>2015</td>\n",
       "      <td>36</td>\n",
       "    </tr>\n",
       "    <tr>\n",
       "      <th>35950</th>\n",
       "      <td>2016</td>\n",
       "      <td>36</td>\n",
       "    </tr>\n",
       "    <tr>\n",
       "      <th>35951</th>\n",
       "      <td>2016</td>\n",
       "      <td>35</td>\n",
       "    </tr>\n",
       "  </tbody>\n",
       "</table>\n",
       "<p>35952 rows × 2 columns</p>\n",
       "</div>"
      ],
      "text/plain": [
       "       Year  Combined MPG\n",
       "0      1984            17\n",
       "1      1984            13\n",
       "2      1985            16\n",
       "3      1985            13\n",
       "4      1987            16\n",
       "...     ...           ...\n",
       "35947  2013            36\n",
       "35948  2014            36\n",
       "35949  2015            36\n",
       "35950  2016            36\n",
       "35951  2016            35\n",
       "\n",
       "[35952 rows x 2 columns]"
      ]
     },
     "execution_count": 105,
     "metadata": {},
     "output_type": "execute_result"
    }
   ],
   "source": [
    "data = df2.copy()\n",
    "data"
   ]
  },
  {
   "cell_type": "code",
   "execution_count": 111,
   "id": "9f8a53aa",
   "metadata": {},
   "outputs": [
    {
     "name": "stdout",
     "output_type": "stream",
     "text": [
      "[[(1984, 1988), 19.0], [(1989, 1993), 18.0], [(1994, 1998), 19.0], [(1999, 2003), 19.0], [(2004, 2008), 19.0], [(2009, 2013), 21.0], [(2014, 2018), 22.0]]\n"
     ]
    }
   ],
   "source": [
    "import numpy as np\n",
    "import pandas as pd\n",
    "\n",
    "# Form 7 groups of 5 years (1984-1988, 1989-1993, etc.)\n",
    "year_groups = [(year, year + 4) for year in range(1984, 2019, 5)]\n",
    "\n",
    "# Calculate the median Combined MPG for each group\n",
    "median_mpg_by_group = []\n",
    "for group in year_groups:\n",
    "    lower_bound, upper_bound = group\n",
    "#     print(f\"lower_bound: {lower_bound}, upper_bound: {upper_bound}\")\n",
    "    group_data = data[(data[\"Year\"] >= lower_bound) & (data[\"Year\"] <= upper_bound)]\n",
    "#     print(group_data)\n",
    "\n",
    "    median_mpg = np.nanmedian(group_data[\"Combined MPG\"])\n",
    "#     print(median_mpg)\n",
    "#     break\n",
    "    median_mpg_by_group.append([(lower_bound, upper_bound), median_mpg])\n",
    "\n",
    "print(median_mpg_by_group)\n"
   ]
  },
  {
   "cell_type": "markdown",
   "id": "d3e60886",
   "metadata": {},
   "source": [
    "Q7 SUMMARY answer"
   ]
  },
  {
   "cell_type": "code",
   "execution_count": null,
   "id": "6e5bf75d",
   "metadata": {},
   "outputs": [],
   "source": [
    "# Extract the columns 'Year' and 'Combined MPG' from the original DataFrame 'df' and create a new DataFrame 'data'.\n",
    "data = df[['Year', 'Combined MPG']].copy()\n",
    "\n",
    "# Define the 5-year groups for which we want to calculate the median Combined MPG.\n",
    "year_groups = [(year, year + 4) for year in range(1984, 2019, 5)]\n",
    "\n",
    "# Initialize an empty list to store the results of the median Combined MPG for each group.\n",
    "median_mpg_by_group = []\n",
    "\n",
    "# Iterate over each 5-year group to calculate the median Combined MPG.\n",
    "for group in year_groups:\n",
    "    # Unpack the lower and upper bounds of the current 5-year group.\n",
    "    lower_bound, upper_bound = group\n",
    "\n",
    "    # Filter the 'data' DataFrame to include only the rows where the 'Year' falls within the current 5-year group.\n",
    "    mask = (data[\"Year\"] >= lower_bound) & (data[\"Year\"] <= upper_bound)\n",
    "    group_data = data[mask]\n",
    "\n",
    "    # Calculate the median Combined MPG for the current 5-year group.\n",
    "    # The np.nanmedian() function is used to handle any missing or np.nan values in the 'Combined MPG' column.\n",
    "    median_mpg = np.nanmedian(group_data[\"Combined MPG\"])\n",
    "\n",
    "    # Append a new tuple to the 'median_mpg_by_group' list, containing the lower and upper bounds of the current 5-year group\n",
    "    # and the calculated median Combined MPG for that group.\n",
    "    median_mpg_by_group.append([(lower_bound, upper_bound), median_mpg])\n",
    "    \n",
    "\n"
   ]
  },
  {
   "cell_type": "code",
   "execution_count": 116,
   "id": "b321fd36",
   "metadata": {},
   "outputs": [
    {
     "ename": "AssertionError",
     "evalue": "",
     "output_type": "error",
     "traceback": [
      "\u001b[0;31m---------------------------------------------------------------------------\u001b[0m",
      "\u001b[0;31mAssertionError\u001b[0m                            Traceback (most recent call last)",
      "Cell \u001b[0;32mIn[116], line 2\u001b[0m\n\u001b[1;32m      1\u001b[0m \u001b[38;5;66;03m# How to use\u001b[39;00m\n\u001b[0;32m----> 2\u001b[0m \u001b[38;5;28;01massert\u001b[39;00m \u001b[38;5;241m3\u001b[39m\u001b[38;5;241m>\u001b[39m\u001b[38;5;241m4\u001b[39m\n",
      "\u001b[0;31mAssertionError\u001b[0m: "
     ]
    }
   ],
   "source": [
    "# How to use\n",
    "assert 3>4"
   ]
  },
  {
   "cell_type": "code",
   "execution_count": 117,
   "id": "45e98665",
   "metadata": {},
   "outputs": [],
   "source": [
    "# Fiz Q5 Data types"
   ]
  },
  {
   "cell_type": "code",
   "execution_count": 119,
   "id": "5e6693d6",
   "metadata": {},
   "outputs": [],
   "source": [
    "answer_dict = {''}"
   ]
  },
  {
   "cell_type": "code",
   "execution_count": 120,
   "id": "07806877",
   "metadata": {},
   "outputs": [
    {
     "ename": "KeyError",
     "evalue": "'Q6'",
     "output_type": "error",
     "traceback": [
      "\u001b[0;31m---------------------------------------------------------------------------\u001b[0m",
      "\u001b[0;31mKeyError\u001b[0m                                  Traceback (most recent call last)",
      "Cell \u001b[0;32mIn[120], line 29\u001b[0m\n\u001b[1;32m     27\u001b[0m answer_dict[\u001b[38;5;124m'\u001b[39m\u001b[38;5;124mQ5\u001b[39m\u001b[38;5;124m'\u001b[39m] \u001b[38;5;241m=\u001b[39m result_df\u001b[38;5;241m.\u001b[39mvalues\u001b[38;5;241m.\u001b[39mtolist()\n\u001b[1;32m     28\u001b[0m answer_dict[\u001b[38;5;124m'\u001b[39m\u001b[38;5;124mQ5\u001b[39m\u001b[38;5;124m'\u001b[39m]\n\u001b[0;32m---> 29\u001b[0m dtype1 \u001b[38;5;241m=\u001b[39m \u001b[38;5;28mtype\u001b[39m(\u001b[43manswer_dict\u001b[49m\u001b[43m[\u001b[49m\u001b[38;5;124;43m'\u001b[39;49m\u001b[38;5;124;43mQ6\u001b[39;49m\u001b[38;5;124;43m'\u001b[39;49m\u001b[43m]\u001b[49m[\u001b[38;5;241m0\u001b[39m][\u001b[38;5;241m0\u001b[39m])\n\u001b[1;32m     30\u001b[0m dtype2 \u001b[38;5;241m=\u001b[39m \u001b[38;5;28mtype\u001b[39m(answer_dict[\u001b[38;5;124m'\u001b[39m\u001b[38;5;124mQ6\u001b[39m\u001b[38;5;124m'\u001b[39m][\u001b[38;5;241m0\u001b[39m][\u001b[38;5;241m1\u001b[39m])\n\u001b[1;32m     31\u001b[0m dtype3 \u001b[38;5;241m=\u001b[39m \u001b[38;5;28mtype\u001b[39m(answer_dict[\u001b[38;5;124m'\u001b[39m\u001b[38;5;124mQ6\u001b[39m\u001b[38;5;124m'\u001b[39m][\u001b[38;5;241m0\u001b[39m][\u001b[38;5;241m2\u001b[39m])\n",
      "\u001b[0;31mKeyError\u001b[0m: 'Q6'"
     ]
    }
   ],
   "source": [
    "########## Q5\n",
    "#Your code here\n",
    "# Filter the data for Golf cars with Manual 5-spd transmission and Regular Fuel Type\n",
    "mask = (df['Model'] == 'Golf') & (df['Transmission'] == 'Manual 5-spd') & (df['Fuel Type'] == 'Regular')\n",
    "filtered_df = df[mask]\n",
    "\n",
    "# Sort the filtered DataFrame by Year in ascending order\n",
    "sorted_df = filtered_df.sort_values(by='Year')\n",
    "# sorted_df.head()\n",
    "\n",
    "# Use shift to get the previous row's 'Combined MPG'\n",
    "sorted_df['Previous Combined MPG'] = sorted_df['Combined MPG'].shift(fill_value=sorted_df['Combined MPG'].iloc[0])\n",
    "# sorted_df[['Combined MPG', 'Previous Combined MPG',]].head()\n",
    "\n",
    "# Calculate the difference in 'Combined MPG' with the previous model\n",
    "sorted_df['Difference in MPG'] = sorted_df['Combined MPG'] - sorted_df['Previous Combined MPG']\n",
    "\n",
    "#Select only the desired columns\n",
    "result_df = sorted_df[['Year', 'Combined MPG', 'Difference in MPG']].copy()\n",
    "\n",
    "# Convert the columns from NumPy float to Python float using the astype() method\n",
    "result_df['Combined MPG'] = result_df['Combined MPG'].astype(float)\n",
    "result_df['Combined MPG'] = result_df['Combined MPG'].astype(float)\n",
    "result_df['Difference in MPG'] = result_df['Difference in MPG'].astype(float)\n",
    "\n",
    "\n",
    "answer_dict['Q5'] = result_df.values.tolist()\n",
    "answer_dict['Q5']\n",
    "dtype1 = type(answer_dict['Q6'][0][0])\n",
    "dtype2 = type(answer_dict['Q6'][0][1])\n",
    "dtype3 = type(answer_dict['Q6'][0][2])\n",
    "dtype4 = type(answer_dict['Q6'][0][3])\n",
    "dtype5 = type(answer_dict['Q6'][0][4])\n",
    "dtype6 = type(answer_dict['Q6'][0][5])\n",
    "print(dtype1, dtype2, dtype3, dtype4, dtype5, dtype6)\n",
    "print(type(answer_dict['Q5']), answer_dict['Q5'], sep='\\n')"
   ]
  },
  {
   "cell_type": "code",
   "execution_count": null,
   "id": "cf5a210c",
   "metadata": {},
   "outputs": [],
   "source": [
    "# Filter the DataFrame for specified car brands\n",
    "brands = ['Toyota', 'Ford', 'Volkswagen', 'Nissan', 'Honda']\n",
    "filtered_df = df[df['Make'].isin(brands)]\n",
    "\n",
    "# Sort the data by CO2 Emission Grams/Mile for each brand\n",
    "sorted_df = filtered_df.groupby('Make').apply(lambda x: x.nsmallest(5, 'CO2 Emission Grams/Mile'))\n",
    "\n",
    "# Create the desired output format\n",
    "output_list = []\n",
    "for make in brands:\n",
    "    # Extract the top 5 least CO2-emitting cars for each brand from sorted_df\n",
    "    make_data = [make] + list(sorted_df.loc[make]['CO2 Emission Grams/Mile'].values)\n",
    "    output_list.append(make_data)\n"
   ]
  },
  {
   "cell_type": "code",
   "execution_count": null,
   "id": "b600f895",
   "metadata": {},
   "outputs": [],
   "source": []
  },
  {
   "cell_type": "markdown",
   "id": "5d2522af",
   "metadata": {},
   "source": [
    "Q6 CHECK THE DATA TYPE TO FLOAT"
   ]
  },
  {
   "cell_type": "code",
   "execution_count": 122,
   "id": "26edfa02",
   "metadata": {},
   "outputs": [
    {
     "name": "stdout",
     "output_type": "stream",
     "text": [
      "<class 'pandas.core.frame.DataFrame'>\n",
      "MultiIndex: 25 entries, ('Ford', 13412) to ('Volkswagen', 34714)\n",
      "Data columns (total 15 columns):\n",
      " #   Column                   Non-Null Count  Dtype  \n",
      "---  ------                   --------------  -----  \n",
      " 0   Make                     25 non-null     object \n",
      " 1   Model                    25 non-null     object \n",
      " 2   Year                     25 non-null     int64  \n",
      " 3   Engine Displacement      25 non-null     float64\n",
      " 4   Cylinders                25 non-null     float64\n",
      " 5   Transmission             25 non-null     object \n",
      " 6   Drivetrain               25 non-null     object \n",
      " 7   Vehicle Class            25 non-null     object \n",
      " 8   Fuel Type                25 non-null     object \n",
      " 9   Fuel Barrels/Year        25 non-null     float64\n",
      " 10  City MPG                 25 non-null     int64  \n",
      " 11  Highway MPG              25 non-null     int64  \n",
      " 12  Combined MPG             25 non-null     int64  \n",
      " 13  CO2 Emission Grams/Mile  25 non-null     float64\n",
      " 14  Fuel Cost/Year           25 non-null     int64  \n",
      "dtypes: float64(4), int64(5), object(6)\n",
      "memory usage: 4.0+ KB\n"
     ]
    }
   ],
   "source": [
    "########## Q6\n",
    "#Your code here\n",
    "# Filter the DataFrame for specified car brands\n",
    "brands = ['Toyota', 'Ford', 'Volkswagen', 'Nissan', 'Honda']\n",
    "filtered_df = df[df['Make'].isin(brands)]\n",
    "\n",
    "# Sort the data by CO2 Emission Grams/Mile for each brand\n",
    "sorted_df = filtered_df.groupby('Make').apply(lambda x: x.nsmallest(5, 'CO2 Emission Grams/Mile'))\n",
    "\n",
    "# Convert the 'CO2 Emission Grams/Mile' column from NumPy float to Python float using the astype() method\n",
    "sorted_df['CO2 Emission Grams/Mile'] = sorted_df['CO2 Emission Grams/Mile'].astype(float)\n",
    "sorted_df.info()"
   ]
  },
  {
   "cell_type": "code",
   "execution_count": 128,
   "id": "4e3b49b2",
   "metadata": {},
   "outputs": [
    {
     "name": "stdout",
     "output_type": "stream",
     "text": [
      "[130.0, 167.67924528301887, 167.67924528301887, 167.67924528301887, 167.67924528301887]\n",
      "<class 'numpy.float64'>\n"
     ]
    }
   ],
   "source": [
    "a = list((sorted_df.loc[make]['CO2 Emission Grams/Mile'].values))\n",
    "print(a)\n",
    "for item in a:\n",
    "    print(type(item)); break"
   ]
  },
  {
   "cell_type": "code",
   "execution_count": 121,
   "id": "0b20a4df",
   "metadata": {},
   "outputs": [
    {
     "name": "stdout",
     "output_type": "stream",
     "text": [
      "<class 'str'> <class 'numpy.float64'> <class 'numpy.float64'> <class 'numpy.float64'> <class 'numpy.float64'> <class 'numpy.float64'>\n"
     ]
    },
    {
     "data": {
      "text/plain": [
       "[['Toyota', 133.0, 133.0, 133.0, 133.0, 158.0],\n",
       " ['Ford', 112.0, 129.0, 129.0, 129.0, 129.0],\n",
       " ['Volkswagen', 200.0, 200.0, 200.0, 200.0, 261.025641025641],\n",
       " ['Nissan', 249.0, 254.0, 254.5, 254.5, 254.5],\n",
       " ['Honda',\n",
       "  130.0,\n",
       "  167.67924528301887,\n",
       "  167.67924528301887,\n",
       "  167.67924528301887,\n",
       "  167.67924528301887]]"
      ]
     },
     "execution_count": 121,
     "metadata": {},
     "output_type": "execute_result"
    }
   ],
   "source": [
    "# Create the desired output format\n",
    "output_list = []\n",
    "for make in brands:\n",
    "    make_data = [make] + list(sorted_df.loc[make]['CO2 Emission Grams/Mile'].values)\n",
    "    output_list.append(make_data)\n",
    "    \n",
    "answer_dict['Q6'] = output_list\n",
    "answer_dict['Q6']\n",
    "dtype1 = type(answer_dict['Q6'][0][0])\n",
    "dtype2 = type(answer_dict['Q6'][0][1])\n",
    "dtype3 = type(answer_dict['Q6'][0][2])\n",
    "dtype4 = type(answer_dict['Q6'][0][3])\n",
    "dtype5 = type(answer_dict['Q6'][0][4])\n",
    "dtype6 = type(answer_dict['Q6'][0][5])\n",
    "print(dtype1, dtype2, dtype3, dtype4, dtype5, dtype6)\n",
    "\n",
    "answer_dict['Q6']"
   ]
  },
  {
   "cell_type": "code",
   "execution_count": 129,
   "id": "c36389fa",
   "metadata": {},
   "outputs": [
    {
     "name": "stdout",
     "output_type": "stream",
     "text": [
      "Type of elements in the Python list: <class 'float'>\n"
     ]
    }
   ],
   "source": [
    "import numpy as np\n",
    "\n",
    "# Sample NumPy array with NumPy float values\n",
    "numpy_array = np.array([3.14, 2.71, 1.618, 0.707])\n",
    "\n",
    "# Convert the NumPy array to a Python list with float values\n",
    "python_list = numpy_array.tolist()\n",
    "\n",
    "# Check the type of the elements in the Python list\n",
    "print(\"Type of elements in the Python list:\", type(python_list[0]))\n"
   ]
  },
  {
   "cell_type": "markdown",
   "id": "23116461",
   "metadata": {},
   "source": [
    "## start and end downwards, "
   ]
  },
  {
   "cell_type": "code",
   "execution_count": 132,
   "id": "0a1a09aa",
   "metadata": {},
   "outputs": [
    {
     "name": "stdout",
     "output_type": "stream",
     "text": [
      "<class 'str'> <class 'numpy.float64'> <class 'numpy.float64'> <class 'numpy.float64'> <class 'numpy.float64'> <class 'numpy.float64'>\n"
     ]
    },
    {
     "data": {
      "text/plain": [
       "[['Toyota', 133.0, 133.0, 133.0, 133.0, 158.0],\n",
       " ['Ford', 112.0, 129.0, 129.0, 129.0, 129.0],\n",
       " ['Volkswagen', 200.0, 200.0, 200.0, 200.0, 261.025641025641],\n",
       " ['Nissan', 249.0, 254.0, 254.5, 254.5, 254.5],\n",
       " ['Honda',\n",
       "  130.0,\n",
       "  167.67924528301887,\n",
       "  167.67924528301887,\n",
       "  167.67924528301887,\n",
       "  167.67924528301887]]"
      ]
     },
     "execution_count": 132,
     "metadata": {},
     "output_type": "execute_result"
    }
   ],
   "source": [
    "########## Q6\n",
    "#Your code here\n",
    "# Filter the DataFrame for specified car brands\n",
    "brands = ['Toyota', 'Ford', 'Volkswagen', 'Nissan', 'Honda']\n",
    "filtered_df = df[df['Make'].isin(brands)]\n",
    "\n",
    "# Sort the data by CO2 Emission Grams/Mile for each brand\n",
    "sorted_df = filtered_df.groupby('Make').apply(lambda x: x.nsmallest(5, 'CO2 Emission Grams/Mile'))\n",
    "\n",
    "# Convert the 'CO2 Emission Grams/Mile' column from NumPy float to Python float using the astype() method\n",
    "sorted_df['CO2 Emission Grams/Mile'] = sorted_df['CO2 Emission Grams/Mile']\n",
    "# Create the desired output format\n",
    "output_list = []\n",
    "for make in brands:\n",
    "    make_data = [make] + list(sorted_df.loc[make]['CO2 Emission Grams/Mile'].values)\n",
    "    \n",
    "    output_list.append(make_data)\n",
    "    \n",
    "answer_dict['Q6'] = output_list\n",
    "answer_dict['Q6']\n",
    "dtype1 = type(output_list [0][0])\n",
    "dtype2 = type(answer_dict['Q6'][0][1])\n",
    "dtype3 = type(answer_dict['Q6'][0][2])\n",
    "dtype4 = type(answer_dict['Q6'][0][3])\n",
    "dtype5 = type(answer_dict['Q6'][0][4])\n",
    "dtype6 = type(answer_dict['Q6'][0][5])\n",
    "print(dtype1, dtype2, dtype3, dtype4, dtype5, dtype6)\n",
    "\n",
    "answer_dict['Q6']"
   ]
  },
  {
   "cell_type": "code",
   "execution_count": 136,
   "id": "f96c0be4",
   "metadata": {},
   "outputs": [
    {
     "data": {
      "text/plain": [
       "'Honda'"
      ]
     },
     "execution_count": 136,
     "metadata": {},
     "output_type": "execute_result"
    }
   ],
   "source": [
    "make"
   ]
  },
  {
   "cell_type": "code",
   "execution_count": 135,
   "id": "43c355a9",
   "metadata": {},
   "outputs": [
    {
     "name": "stdout",
     "output_type": "stream",
     "text": [
      "<class 'numpy.float64'>\n",
      "<class 'numpy.float64'>\n",
      "<class 'numpy.float64'>\n",
      "<class 'numpy.float64'>\n",
      "<class 'numpy.float64'>\n"
     ]
    }
   ],
   "source": [
    "items = list(sorted_df.loc[make]['CO2 Emission Grams/Mile'].values)\n",
    "for item in items:\n",
    "    print(type(item))"
   ]
  },
  {
   "cell_type": "code",
   "execution_count": 137,
   "id": "f2111d2b",
   "metadata": {},
   "outputs": [
    {
     "name": "stdout",
     "output_type": "stream",
     "text": [
      "<class 'float'>\n",
      "<class 'float'>\n",
      "<class 'float'>\n",
      "<class 'float'>\n",
      "<class 'float'>\n"
     ]
    }
   ],
   "source": [
    "items = list(sorted_df.loc[make]['CO2 Emission Grams/Mile'].values)\n",
    "\n",
    "# Convert items to float and store them in a new list called 'items_as_float'\n",
    "items_as_float = [float(item) for item in items]\n",
    "\n",
    "# Print the type of each item in the new list\n",
    "for item in items_as_float:\n",
    "    print(type(item))\n"
   ]
  },
  {
   "cell_type": "code",
   "execution_count": null,
   "id": "6a97f2a3",
   "metadata": {},
   "outputs": [],
   "source": []
  }
 ],
 "metadata": {
  "kernelspec": {
   "display_name": "Python 3 (ipykernel)",
   "language": "python",
   "name": "python3"
  },
  "language_info": {
   "codemirror_mode": {
    "name": "ipython",
    "version": 3
   },
   "file_extension": ".py",
   "mimetype": "text/x-python",
   "name": "python",
   "nbconvert_exporter": "python",
   "pygments_lexer": "ipython3",
   "version": "3.10.11"
  }
 },
 "nbformat": 4,
 "nbformat_minor": 5
}
